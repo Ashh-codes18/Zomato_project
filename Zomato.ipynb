{
  "nbformat": 4,
  "nbformat_minor": 0,
  "metadata": {
    "colab": {
      "provenance": []
    },
    "kernelspec": {
      "name": "python3",
      "display_name": "Python 3"
    },
    "language_info": {
      "name": "python"
    }
  },
  "cells": [
    {
      "cell_type": "code",
      "execution_count": null,
      "metadata": {
        "id": "GWxrHtliB_xm"
      },
      "outputs": [],
      "source": [
        "import pandas as pd\n",
        "import numpy as np\n",
        "from sklearn.model_selection import train_test_split\n",
        "import seaborn as sns\n",
        "import matplotlib.pyplot as plt\n",
        "import seaborn as sns\n",
        "from xgboost import XGBRegressor\n",
        "from sklearn.metrics import mean_squared_error\n",
        "data=pd.read_csv(\"/content/drive/MyDrive/zomato.csv\")"
      ]
    },
    {
      "cell_type": "code",
      "source": [
        "data.shape"
      ],
      "metadata": {
        "colab": {
          "base_uri": "https://localhost:8080/"
        },
        "id": "3mnr4-cHURcL",
        "outputId": "8f1add1f-bcbd-411b-9f80-73936d992d2f"
      },
      "execution_count": null,
      "outputs": [
        {
          "output_type": "execute_result",
          "data": {
            "text/plain": [
              "(51717, 17)"
            ]
          },
          "metadata": {},
          "execution_count": 2
        }
      ]
    },
    {
      "cell_type": "code",
      "source": [
        "data.head()"
      ],
      "metadata": {
        "colab": {
          "base_uri": "https://localhost:8080/",
          "height": 590
        },
        "id": "uPJheiWoSDXS",
        "outputId": "7e7df0c8-e08e-4fbb-a478-0b0541ee12b1"
      },
      "execution_count": null,
      "outputs": [
        {
          "output_type": "execute_result",
          "data": {
            "text/plain": [
              "                                                 url  \\\n",
              "0  https://www.zomato.com/bangalore/jalsa-banasha...   \n",
              "1  https://www.zomato.com/bangalore/spice-elephan...   \n",
              "2  https://www.zomato.com/SanchurroBangalore?cont...   \n",
              "3  https://www.zomato.com/bangalore/addhuri-udupi...   \n",
              "4  https://www.zomato.com/bangalore/grand-village...   \n",
              "\n",
              "                                             address                   name  \\\n",
              "0  942, 21st Main Road, 2nd Stage, Banashankari, ...                  Jalsa   \n",
              "1  2nd Floor, 80 Feet Road, Near Big Bazaar, 6th ...         Spice Elephant   \n",
              "2  1112, Next to KIMS Medical College, 17th Cross...        San Churro Cafe   \n",
              "3  1st Floor, Annakuteera, 3rd Stage, Banashankar...  Addhuri Udupi Bhojana   \n",
              "4  10, 3rd Floor, Lakshmi Associates, Gandhi Baza...          Grand Village   \n",
              "\n",
              "  online_order book_table   rate  votes                           phone  \\\n",
              "0          Yes        Yes  4.1/5    775    080 42297555\\n+91 9743772233   \n",
              "1          Yes         No  4.1/5    787                    080 41714161   \n",
              "2          Yes         No  3.8/5    918                  +91 9663487993   \n",
              "3           No         No  3.7/5     88                  +91 9620009302   \n",
              "4           No         No  3.8/5    166  +91 8026612447\\n+91 9901210005   \n",
              "\n",
              "       location            rest_type  \\\n",
              "0  Banashankari        Casual Dining   \n",
              "1  Banashankari        Casual Dining   \n",
              "2  Banashankari  Cafe, Casual Dining   \n",
              "3  Banashankari          Quick Bites   \n",
              "4  Basavanagudi        Casual Dining   \n",
              "\n",
              "                                          dish_liked  \\\n",
              "0  Pasta, Lunch Buffet, Masala Papad, Paneer Laja...   \n",
              "1  Momos, Lunch Buffet, Chocolate Nirvana, Thai G...   \n",
              "2  Churros, Cannelloni, Minestrone Soup, Hot Choc...   \n",
              "3                                        Masala Dosa   \n",
              "4                                Panipuri, Gol Gappe   \n",
              "\n",
              "                         cuisines  Target  \\\n",
              "0  North Indian, Mughlai, Chinese   800.0   \n",
              "1     Chinese, North Indian, Thai   800.0   \n",
              "2          Cafe, Mexican, Italian   800.0   \n",
              "3      South Indian, North Indian   300.0   \n",
              "4        North Indian, Rajasthani   600.0   \n",
              "\n",
              "                                        reviews_list menu_item  \\\n",
              "0  [('Rated 4.0', 'RATED\\n  A beautiful place to ...        []   \n",
              "1  [('Rated 4.0', 'RATED\\n  Had been here for din...        []   \n",
              "2  [('Rated 3.0', \"RATED\\n  Ambience is not that ...        []   \n",
              "3  [('Rated 4.0', \"RATED\\n  Great food and proper...        []   \n",
              "4  [('Rated 4.0', 'RATED\\n  Very good restaurant ...        []   \n",
              "\n",
              "  listed_in(type) listed_in(city)  \n",
              "0          Buffet    Banashankari  \n",
              "1          Buffet    Banashankari  \n",
              "2          Buffet    Banashankari  \n",
              "3          Buffet    Banashankari  \n",
              "4          Buffet    Banashankari  "
            ],
            "text/html": [
              "\n",
              "  <div id=\"df-4e369519-7d60-4a99-b1a4-03c0e2ae9d4a\" class=\"colab-df-container\">\n",
              "    <div>\n",
              "<style scoped>\n",
              "    .dataframe tbody tr th:only-of-type {\n",
              "        vertical-align: middle;\n",
              "    }\n",
              "\n",
              "    .dataframe tbody tr th {\n",
              "        vertical-align: top;\n",
              "    }\n",
              "\n",
              "    .dataframe thead th {\n",
              "        text-align: right;\n",
              "    }\n",
              "</style>\n",
              "<table border=\"1\" class=\"dataframe\">\n",
              "  <thead>\n",
              "    <tr style=\"text-align: right;\">\n",
              "      <th></th>\n",
              "      <th>url</th>\n",
              "      <th>address</th>\n",
              "      <th>name</th>\n",
              "      <th>online_order</th>\n",
              "      <th>book_table</th>\n",
              "      <th>rate</th>\n",
              "      <th>votes</th>\n",
              "      <th>phone</th>\n",
              "      <th>location</th>\n",
              "      <th>rest_type</th>\n",
              "      <th>dish_liked</th>\n",
              "      <th>cuisines</th>\n",
              "      <th>Target</th>\n",
              "      <th>reviews_list</th>\n",
              "      <th>menu_item</th>\n",
              "      <th>listed_in(type)</th>\n",
              "      <th>listed_in(city)</th>\n",
              "    </tr>\n",
              "  </thead>\n",
              "  <tbody>\n",
              "    <tr>\n",
              "      <th>0</th>\n",
              "      <td>https://www.zomato.com/bangalore/jalsa-banasha...</td>\n",
              "      <td>942, 21st Main Road, 2nd Stage, Banashankari, ...</td>\n",
              "      <td>Jalsa</td>\n",
              "      <td>Yes</td>\n",
              "      <td>Yes</td>\n",
              "      <td>4.1/5</td>\n",
              "      <td>775</td>\n",
              "      <td>080 42297555\\n+91 9743772233</td>\n",
              "      <td>Banashankari</td>\n",
              "      <td>Casual Dining</td>\n",
              "      <td>Pasta, Lunch Buffet, Masala Papad, Paneer Laja...</td>\n",
              "      <td>North Indian, Mughlai, Chinese</td>\n",
              "      <td>800.0</td>\n",
              "      <td>[('Rated 4.0', 'RATED\\n  A beautiful place to ...</td>\n",
              "      <td>[]</td>\n",
              "      <td>Buffet</td>\n",
              "      <td>Banashankari</td>\n",
              "    </tr>\n",
              "    <tr>\n",
              "      <th>1</th>\n",
              "      <td>https://www.zomato.com/bangalore/spice-elephan...</td>\n",
              "      <td>2nd Floor, 80 Feet Road, Near Big Bazaar, 6th ...</td>\n",
              "      <td>Spice Elephant</td>\n",
              "      <td>Yes</td>\n",
              "      <td>No</td>\n",
              "      <td>4.1/5</td>\n",
              "      <td>787</td>\n",
              "      <td>080 41714161</td>\n",
              "      <td>Banashankari</td>\n",
              "      <td>Casual Dining</td>\n",
              "      <td>Momos, Lunch Buffet, Chocolate Nirvana, Thai G...</td>\n",
              "      <td>Chinese, North Indian, Thai</td>\n",
              "      <td>800.0</td>\n",
              "      <td>[('Rated 4.0', 'RATED\\n  Had been here for din...</td>\n",
              "      <td>[]</td>\n",
              "      <td>Buffet</td>\n",
              "      <td>Banashankari</td>\n",
              "    </tr>\n",
              "    <tr>\n",
              "      <th>2</th>\n",
              "      <td>https://www.zomato.com/SanchurroBangalore?cont...</td>\n",
              "      <td>1112, Next to KIMS Medical College, 17th Cross...</td>\n",
              "      <td>San Churro Cafe</td>\n",
              "      <td>Yes</td>\n",
              "      <td>No</td>\n",
              "      <td>3.8/5</td>\n",
              "      <td>918</td>\n",
              "      <td>+91 9663487993</td>\n",
              "      <td>Banashankari</td>\n",
              "      <td>Cafe, Casual Dining</td>\n",
              "      <td>Churros, Cannelloni, Minestrone Soup, Hot Choc...</td>\n",
              "      <td>Cafe, Mexican, Italian</td>\n",
              "      <td>800.0</td>\n",
              "      <td>[('Rated 3.0', \"RATED\\n  Ambience is not that ...</td>\n",
              "      <td>[]</td>\n",
              "      <td>Buffet</td>\n",
              "      <td>Banashankari</td>\n",
              "    </tr>\n",
              "    <tr>\n",
              "      <th>3</th>\n",
              "      <td>https://www.zomato.com/bangalore/addhuri-udupi...</td>\n",
              "      <td>1st Floor, Annakuteera, 3rd Stage, Banashankar...</td>\n",
              "      <td>Addhuri Udupi Bhojana</td>\n",
              "      <td>No</td>\n",
              "      <td>No</td>\n",
              "      <td>3.7/5</td>\n",
              "      <td>88</td>\n",
              "      <td>+91 9620009302</td>\n",
              "      <td>Banashankari</td>\n",
              "      <td>Quick Bites</td>\n",
              "      <td>Masala Dosa</td>\n",
              "      <td>South Indian, North Indian</td>\n",
              "      <td>300.0</td>\n",
              "      <td>[('Rated 4.0', \"RATED\\n  Great food and proper...</td>\n",
              "      <td>[]</td>\n",
              "      <td>Buffet</td>\n",
              "      <td>Banashankari</td>\n",
              "    </tr>\n",
              "    <tr>\n",
              "      <th>4</th>\n",
              "      <td>https://www.zomato.com/bangalore/grand-village...</td>\n",
              "      <td>10, 3rd Floor, Lakshmi Associates, Gandhi Baza...</td>\n",
              "      <td>Grand Village</td>\n",
              "      <td>No</td>\n",
              "      <td>No</td>\n",
              "      <td>3.8/5</td>\n",
              "      <td>166</td>\n",
              "      <td>+91 8026612447\\n+91 9901210005</td>\n",
              "      <td>Basavanagudi</td>\n",
              "      <td>Casual Dining</td>\n",
              "      <td>Panipuri, Gol Gappe</td>\n",
              "      <td>North Indian, Rajasthani</td>\n",
              "      <td>600.0</td>\n",
              "      <td>[('Rated 4.0', 'RATED\\n  Very good restaurant ...</td>\n",
              "      <td>[]</td>\n",
              "      <td>Buffet</td>\n",
              "      <td>Banashankari</td>\n",
              "    </tr>\n",
              "  </tbody>\n",
              "</table>\n",
              "</div>\n",
              "    <div class=\"colab-df-buttons\">\n",
              "\n",
              "  <div class=\"colab-df-container\">\n",
              "    <button class=\"colab-df-convert\" onclick=\"convertToInteractive('df-4e369519-7d60-4a99-b1a4-03c0e2ae9d4a')\"\n",
              "            title=\"Convert this dataframe to an interactive table.\"\n",
              "            style=\"display:none;\">\n",
              "\n",
              "  <svg xmlns=\"http://www.w3.org/2000/svg\" height=\"24px\" viewBox=\"0 -960 960 960\">\n",
              "    <path d=\"M120-120v-720h720v720H120Zm60-500h600v-160H180v160Zm220 220h160v-160H400v160Zm0 220h160v-160H400v160ZM180-400h160v-160H180v160Zm440 0h160v-160H620v160ZM180-180h160v-160H180v160Zm440 0h160v-160H620v160Z\"/>\n",
              "  </svg>\n",
              "    </button>\n",
              "\n",
              "  <style>\n",
              "    .colab-df-container {\n",
              "      display:flex;\n",
              "      gap: 12px;\n",
              "    }\n",
              "\n",
              "    .colab-df-convert {\n",
              "      background-color: #E8F0FE;\n",
              "      border: none;\n",
              "      border-radius: 50%;\n",
              "      cursor: pointer;\n",
              "      display: none;\n",
              "      fill: #1967D2;\n",
              "      height: 32px;\n",
              "      padding: 0 0 0 0;\n",
              "      width: 32px;\n",
              "    }\n",
              "\n",
              "    .colab-df-convert:hover {\n",
              "      background-color: #E2EBFA;\n",
              "      box-shadow: 0px 1px 2px rgba(60, 64, 67, 0.3), 0px 1px 3px 1px rgba(60, 64, 67, 0.15);\n",
              "      fill: #174EA6;\n",
              "    }\n",
              "\n",
              "    .colab-df-buttons div {\n",
              "      margin-bottom: 4px;\n",
              "    }\n",
              "\n",
              "    [theme=dark] .colab-df-convert {\n",
              "      background-color: #3B4455;\n",
              "      fill: #D2E3FC;\n",
              "    }\n",
              "\n",
              "    [theme=dark] .colab-df-convert:hover {\n",
              "      background-color: #434B5C;\n",
              "      box-shadow: 0px 1px 3px 1px rgba(0, 0, 0, 0.15);\n",
              "      filter: drop-shadow(0px 1px 2px rgba(0, 0, 0, 0.3));\n",
              "      fill: #FFFFFF;\n",
              "    }\n",
              "  </style>\n",
              "\n",
              "    <script>\n",
              "      const buttonEl =\n",
              "        document.querySelector('#df-4e369519-7d60-4a99-b1a4-03c0e2ae9d4a button.colab-df-convert');\n",
              "      buttonEl.style.display =\n",
              "        google.colab.kernel.accessAllowed ? 'block' : 'none';\n",
              "\n",
              "      async function convertToInteractive(key) {\n",
              "        const element = document.querySelector('#df-4e369519-7d60-4a99-b1a4-03c0e2ae9d4a');\n",
              "        const dataTable =\n",
              "          await google.colab.kernel.invokeFunction('convertToInteractive',\n",
              "                                                    [key], {});\n",
              "        if (!dataTable) return;\n",
              "\n",
              "        const docLinkHtml = 'Like what you see? Visit the ' +\n",
              "          '<a target=\"_blank\" href=https://colab.research.google.com/notebooks/data_table.ipynb>data table notebook</a>'\n",
              "          + ' to learn more about interactive tables.';\n",
              "        element.innerHTML = '';\n",
              "        dataTable['output_type'] = 'display_data';\n",
              "        await google.colab.output.renderOutput(dataTable, element);\n",
              "        const docLink = document.createElement('div');\n",
              "        docLink.innerHTML = docLinkHtml;\n",
              "        element.appendChild(docLink);\n",
              "      }\n",
              "    </script>\n",
              "  </div>\n",
              "\n",
              "\n",
              "<div id=\"df-2cc37355-0edf-4b70-aedb-6c14b99cc4ea\">\n",
              "  <button class=\"colab-df-quickchart\" onclick=\"quickchart('df-2cc37355-0edf-4b70-aedb-6c14b99cc4ea')\"\n",
              "            title=\"Suggest charts\"\n",
              "            style=\"display:none;\">\n",
              "\n",
              "<svg xmlns=\"http://www.w3.org/2000/svg\" height=\"24px\"viewBox=\"0 0 24 24\"\n",
              "     width=\"24px\">\n",
              "    <g>\n",
              "        <path d=\"M19 3H5c-1.1 0-2 .9-2 2v14c0 1.1.9 2 2 2h14c1.1 0 2-.9 2-2V5c0-1.1-.9-2-2-2zM9 17H7v-7h2v7zm4 0h-2V7h2v10zm4 0h-2v-4h2v4z\"/>\n",
              "    </g>\n",
              "</svg>\n",
              "  </button>\n",
              "\n",
              "<style>\n",
              "  .colab-df-quickchart {\n",
              "      --bg-color: #E8F0FE;\n",
              "      --fill-color: #1967D2;\n",
              "      --hover-bg-color: #E2EBFA;\n",
              "      --hover-fill-color: #174EA6;\n",
              "      --disabled-fill-color: #AAA;\n",
              "      --disabled-bg-color: #DDD;\n",
              "  }\n",
              "\n",
              "  [theme=dark] .colab-df-quickchart {\n",
              "      --bg-color: #3B4455;\n",
              "      --fill-color: #D2E3FC;\n",
              "      --hover-bg-color: #434B5C;\n",
              "      --hover-fill-color: #FFFFFF;\n",
              "      --disabled-bg-color: #3B4455;\n",
              "      --disabled-fill-color: #666;\n",
              "  }\n",
              "\n",
              "  .colab-df-quickchart {\n",
              "    background-color: var(--bg-color);\n",
              "    border: none;\n",
              "    border-radius: 50%;\n",
              "    cursor: pointer;\n",
              "    display: none;\n",
              "    fill: var(--fill-color);\n",
              "    height: 32px;\n",
              "    padding: 0;\n",
              "    width: 32px;\n",
              "  }\n",
              "\n",
              "  .colab-df-quickchart:hover {\n",
              "    background-color: var(--hover-bg-color);\n",
              "    box-shadow: 0 1px 2px rgba(60, 64, 67, 0.3), 0 1px 3px 1px rgba(60, 64, 67, 0.15);\n",
              "    fill: var(--button-hover-fill-color);\n",
              "  }\n",
              "\n",
              "  .colab-df-quickchart-complete:disabled,\n",
              "  .colab-df-quickchart-complete:disabled:hover {\n",
              "    background-color: var(--disabled-bg-color);\n",
              "    fill: var(--disabled-fill-color);\n",
              "    box-shadow: none;\n",
              "  }\n",
              "\n",
              "  .colab-df-spinner {\n",
              "    border: 2px solid var(--fill-color);\n",
              "    border-color: transparent;\n",
              "    border-bottom-color: var(--fill-color);\n",
              "    animation:\n",
              "      spin 1s steps(1) infinite;\n",
              "  }\n",
              "\n",
              "  @keyframes spin {\n",
              "    0% {\n",
              "      border-color: transparent;\n",
              "      border-bottom-color: var(--fill-color);\n",
              "      border-left-color: var(--fill-color);\n",
              "    }\n",
              "    20% {\n",
              "      border-color: transparent;\n",
              "      border-left-color: var(--fill-color);\n",
              "      border-top-color: var(--fill-color);\n",
              "    }\n",
              "    30% {\n",
              "      border-color: transparent;\n",
              "      border-left-color: var(--fill-color);\n",
              "      border-top-color: var(--fill-color);\n",
              "      border-right-color: var(--fill-color);\n",
              "    }\n",
              "    40% {\n",
              "      border-color: transparent;\n",
              "      border-right-color: var(--fill-color);\n",
              "      border-top-color: var(--fill-color);\n",
              "    }\n",
              "    60% {\n",
              "      border-color: transparent;\n",
              "      border-right-color: var(--fill-color);\n",
              "    }\n",
              "    80% {\n",
              "      border-color: transparent;\n",
              "      border-right-color: var(--fill-color);\n",
              "      border-bottom-color: var(--fill-color);\n",
              "    }\n",
              "    90% {\n",
              "      border-color: transparent;\n",
              "      border-bottom-color: var(--fill-color);\n",
              "    }\n",
              "  }\n",
              "</style>\n",
              "\n",
              "  <script>\n",
              "    async function quickchart(key) {\n",
              "      const quickchartButtonEl =\n",
              "        document.querySelector('#' + key + ' button');\n",
              "      quickchartButtonEl.disabled = true;  // To prevent multiple clicks.\n",
              "      quickchartButtonEl.classList.add('colab-df-spinner');\n",
              "      try {\n",
              "        const charts = await google.colab.kernel.invokeFunction(\n",
              "            'suggestCharts', [key], {});\n",
              "      } catch (error) {\n",
              "        console.error('Error during call to suggestCharts:', error);\n",
              "      }\n",
              "      quickchartButtonEl.classList.remove('colab-df-spinner');\n",
              "      quickchartButtonEl.classList.add('colab-df-quickchart-complete');\n",
              "    }\n",
              "    (() => {\n",
              "      let quickchartButtonEl =\n",
              "        document.querySelector('#df-2cc37355-0edf-4b70-aedb-6c14b99cc4ea button');\n",
              "      quickchartButtonEl.style.display =\n",
              "        google.colab.kernel.accessAllowed ? 'block' : 'none';\n",
              "    })();\n",
              "  </script>\n",
              "</div>\n",
              "\n",
              "    </div>\n",
              "  </div>\n"
            ],
            "application/vnd.google.colaboratory.intrinsic+json": {
              "type": "dataframe",
              "variable_name": "data",
              "summary": "{\n  \"name\": \"data\",\n  \"rows\": 51717,\n  \"fields\": [\n    {\n      \"column\": \"url\",\n      \"properties\": {\n        \"dtype\": \"string\",\n        \"num_unique_values\": 51717,\n        \"samples\": [\n          \"https://www.zomato.com/bangalore/kalingas-btm?context=eyJzZSI6eyJlIjpbIjE4NzY5Njc1IiwiMTg4MDE0MTUiLCI1MzAxNSIsIjE4Nzk3OTMyIiw1ODgyOCwiMTg4NDgyOTUiLCI2MTM4MSIsIjE4NzE0NTMzIiwiNTE4MjgiLCIxODkxOTQzNiIsIjE4MzQ2MzQxIiwiMTgyNTQ1NjgiLCIxODI5ODIzOCIsIjUwMDMxIiwiMTg1MjI3MDQiLCIxODcxODM4NyIsIjE4NDc2NDUxIiwiNjAxMjQiXSwidCI6IkRlbGl2ZXJ5IFJlc3RhdXJhbnRzIGluIEJUTSJ9fQ==\",\n          \"https://www.zomato.com/bangalore/angel-restaurant-bannerghatta-road?context=eyJzZSI6eyJlIjpbIjE4ODgzNjIwIiwiMTg2MjI0MTYiLCIxODcyNzQxOCIsIjU4NjA0IiwxODYwNDY4OCwiMTg2NDM3OTYiLCIxODY5MzMxNCIsIjE4NjU0Mzc2IiwiMTg2NjIyNzEiLCIxODY1NDY5NSIsIjE4NjYzNjk4IiwiMTg2NTE4NDUiLCIxODk2MzUxMCIsIjE4OTY1MjEzIiwiMTg5NjI3OTkiLCIxODk2NTg0NiJdLCJ0IjoiRGluZS1PdXQgUmVzdGF1cmFudHMgaW4gSlAgTmFnYXIifX0=\",\n          \"https://www.zomato.com/bangalore/cafe-talkhouse-hsr-bangalore?context=eyJzZSI6eyJlIjpbIjE4ODA2NzczIiwiMTg4MDY4NDEiLCIxODgwNjgwOCIsIjE4ODA3OTQ3IiwxODc5MzM1OSwiMTg3OTM0MDIiLCIxODgwMTQ0NiIsIjE4ODAyODI0IiwiMTg4MDEwMzgiLCIxODc4NTQ1NyIsIjE4ODg0MTUyIiwiMTg4NzQzMDMiLCIxODg4MTMxNSIsIjE4ODc3NzU4IiwiMTg4ODUxNTAiXSwidCI6IkRlbGl2ZXJ5IFJlc3RhdXJhbnRzIGluIEhTUiJ9fQ==\"\n        ],\n        \"semantic_type\": \"\",\n        \"description\": \"\"\n      }\n    },\n    {\n      \"column\": \"address\",\n      \"properties\": {\n        \"dtype\": \"category\",\n        \"num_unique_values\": 11495,\n        \"samples\": [\n          \"Sampige Nagar Bus Stop, Huskur Gate, Electronic City, Bangalore\",\n          \"12th Main, Koramangala 4th Block, Bangalore\",\n          \"30, 2nd Main Road, Jai Bheema Nagar, Sheshadripuram, Bangalore\"\n        ],\n        \"semantic_type\": \"\",\n        \"description\": \"\"\n      }\n    },\n    {\n      \"column\": \"name\",\n      \"properties\": {\n        \"dtype\": \"category\",\n        \"num_unique_values\": 8792,\n        \"samples\": [\n          \"Calcutta North Indian Meals\",\n          \"Parinitha Biryani Corner\",\n          \"Tiwari's\"\n        ],\n        \"semantic_type\": \"\",\n        \"description\": \"\"\n      }\n    },\n    {\n      \"column\": \"online_order\",\n      \"properties\": {\n        \"dtype\": \"category\",\n        \"num_unique_values\": 2,\n        \"samples\": [\n          \"No\",\n          \"Yes\"\n        ],\n        \"semantic_type\": \"\",\n        \"description\": \"\"\n      }\n    },\n    {\n      \"column\": \"book_table\",\n      \"properties\": {\n        \"dtype\": \"category\",\n        \"num_unique_values\": 2,\n        \"samples\": [\n          \"No\",\n          \"Yes\"\n        ],\n        \"semantic_type\": \"\",\n        \"description\": \"\"\n      }\n    },\n    {\n      \"column\": \"rate\",\n      \"properties\": {\n        \"dtype\": \"category\",\n        \"num_unique_values\": 64,\n        \"samples\": [\n          \"1.8/5\",\n          \"4.7 /5\"\n        ],\n        \"semantic_type\": \"\",\n        \"description\": \"\"\n      }\n    },\n    {\n      \"column\": \"votes\",\n      \"properties\": {\n        \"dtype\": \"number\",\n        \"std\": 803,\n        \"min\": 0,\n        \"max\": 16832,\n        \"num_unique_values\": 2328,\n        \"samples\": [\n          1807,\n          2392\n        ],\n        \"semantic_type\": \"\",\n        \"description\": \"\"\n      }\n    },\n    {\n      \"column\": \"phone\",\n      \"properties\": {\n        \"dtype\": \"category\",\n        \"num_unique_values\": 12903,\n        \"samples\": [\n          \"080 25534444\\n\\n+91 8939080649\",\n          \"+91 8105957766\"\n        ],\n        \"semantic_type\": \"\",\n        \"description\": \"\"\n      }\n    },\n    {\n      \"column\": \"location\",\n      \"properties\": {\n        \"dtype\": \"category\",\n        \"num_unique_values\": 93,\n        \"samples\": [\n          \"Church Street\",\n          \"Shanti Nagar\"\n        ],\n        \"semantic_type\": \"\",\n        \"description\": \"\"\n      }\n    },\n    {\n      \"column\": \"rest_type\",\n      \"properties\": {\n        \"dtype\": \"category\",\n        \"num_unique_values\": 93,\n        \"samples\": [\n          \"Quick Bites, Sweet Shop\",\n          \"Bakery, Quick Bites\"\n        ],\n        \"semantic_type\": \"\",\n        \"description\": \"\"\n      }\n    },\n    {\n      \"column\": \"dish_liked\",\n      \"properties\": {\n        \"dtype\": \"category\",\n        \"num_unique_values\": 5271,\n        \"samples\": [\n          \"Waffles, Pasta, Coleslaw Sandwich, Choco Waffle, Tacos, Momos, Cheese Nachos\",\n          \"Pasta, Garlic Bread, Wedges, Veg Supreme Pizza, Pane Pizza, Masala Lemonade, Salads\"\n        ],\n        \"semantic_type\": \"\",\n        \"description\": \"\"\n      }\n    },\n    {\n      \"column\": \"cuisines\",\n      \"properties\": {\n        \"dtype\": \"category\",\n        \"num_unique_values\": 2723,\n        \"samples\": [\n          \"North Indian, Chinese, Andhra, Biryani\",\n          \"Biryani, Chinese\"\n        ],\n        \"semantic_type\": \"\",\n        \"description\": \"\"\n      }\n    },\n    {\n      \"column\": \"Target\",\n      \"properties\": {\n        \"dtype\": \"number\",\n        \"std\": 438.8507280367452,\n        \"min\": 40.0,\n        \"max\": 6000.0,\n        \"num_unique_values\": 70,\n        \"samples\": [\n          199.0,\n          800.0\n        ],\n        \"semantic_type\": \"\",\n        \"description\": \"\"\n      }\n    },\n    {\n      \"column\": \"reviews_list\",\n      \"properties\": {\n        \"dtype\": \"category\",\n        \"num_unique_values\": 22509,\n        \"samples\": [\n          \"[('Rated 1.0', \\\"RATED\\\\n  So, Friday night we decide to grab a few drinks and we were in Whitefield. I have heard so much about windmills craftworks and I thought it was the perfect time to try it out.\\\\nThey were having a performance that night and they said we could have a table till 8, reached around 6:45. We decided to stay on, placed an order in another 10 minutes.\\\\nAt 7:30, when we asked the waiters regarding the order, they said that the order was not placed. The app they use is terrible and the waiters didn't care to check. And they did not even have the courtesy of letting us know ? just a few tables were full. We had to leave and then we headed to oota.\\\\nI'm definitely not going back!\\\"), ('Rated 3.0', 'RATED\\\\n  Visited this place on a weekday. Place is really nice with very good options of food with buffet. Taste of food was not that good. Not willing to visit again.'), ('Rated 4.0', 'RATED\\\\n  One of the finest dining place in Bangalore, innovative drinks , super amazing food and staff is also courteous.. only issue is seating availability...'), ('Rated 4.0', \\\"RATED\\\\n  This place is so beautiful, the ambience is lovely and the music is absolutely the best. Everything seems better with good music in the background.\\\\nIt's really difficult to get a table here but we went on a weekday afternoon and got it easily.\\\\nThe beer is great, the food was good too.\\\\nEverything was perfect, but I feel there can be more food options.\\\"), ('Rated 4.0', 'RATED\\\\n  Located a bit inside white field, this microbrewery is one of kind. I recently went to have lunch with couple of my friends and my experience was good. Usually this place is crowded and getting a outside sitting is almost impossible (Trust me the view is awesome :)). Each and every table is assigned to a guide and orders can be placed on the tab. We had grilled broccoli kebabs and Falafel for lunch which was pretty good. We all had hefeweizen beer which was really fantastic. Would love to come back again.'), ('Rated 4.0', 'RATED\\\\n  Food - 3.75/5\\\\nDrinks - 4.5/5\\\\nAmbience - 4.25/5\\\\nService - 3.5/5\\\\nValue for money - 3/5\\\\n\\\\nA little disappointing for all the hype created around this place. The food was decent, not extraordinary. The drinks were really good - definitely try their mango beer. The ambience is good, but was a little too crowded for my liking. The staff were a bit slow, not in serving food but the service altogether was a bit slow and hotchpotchy but it might be because of the crowd. All in all a decent experience, but not a five star experience.'), ('Rated 4.0', 'RATED\\\\n  A really sophisticated place to enjoy a dinner date with loved one, enjoy quality time or have fun with friends(Not tooo Loud Talks though :-P). \\\\n\\\\nWent with two of my friends and had great time with them!\\\\n\\\\nWe Ordered : Craft Beers, Paneer Tikka, LIIT, Nachos, Lasagne.\\\\nThe food was amazing to have. Craft Beers have good taste, with detailed description on the menu, it is easy to decide!!\\\\n\\\\nAmbience : The place is well spacious and decorated! Lighting and mood gets well into the ambience!\\\\nService : Staff is very co-operative and attentive.\\\\n\\\\nSugggestions : Add Menu to the Zomato!\\\\n\\\\nMust visit place on a fine dine with family and friends!!! Enjoyed the Time!'), ('Rated 4.0', \\\"RATED\\\\n  The place offers both open air and AC seating. And it's a real tease as both the options are amazing. The inside seating is super classy and chic. Outside one has it's classic charm. We opted for outside seating - a bit of a bummer here as despite pre-reservation, they did not keep a table for us outside. But they did accommodate us somehow. Later when there was place, we had to ask to be shifted. A bit more promptness in service can go the extra mile here. \\\\n\\\\nNow coming to more awesomeness. The cutlery and china they use is as classy and unique as the place. We missed live music but I am told the place rocks some really nice one. \\\\n\\\\nThe beer sampler presentation was amazing. Their wheat beer is amazing; rest, just about ok. \\\\n\\\\nMust go.\\\"), ('Rated 5.0', 'RATED\\\\n  Love the general buzz of this place... Sophisticated without screaming pretentiousness.\\\\nThe food, looks brilliant and the taste just as brilliant. Those cocktails were unique and deeelicious. Not a beer person, but I hear the brews here are one of the best as well.'), ('Rated 3.0', \\\"RATED\\\\n  Service was slow. The food wasn't anything to write home about. Nothing out of the ordinary. On the fence about recommending this place. If you live in central Bangalore this place isn't worth the trip.\\\"), ('Rated 5.0', 'RATED\\\\n  Best brew in this side of the town. State of the art ordering using tabs. Polite staff, awesome food and perfect furniture to spend the evening on!'), ('Rated 5.0', \\\"RATED\\\\n  Amazing ambiance on the top floor. The interiors are great. Must try keema pav, chicken nachos and chicken burgers. It has Bangalore's best brewing beers. Worth visiting the place again.\\\"), ('Rated 2.0', \\\"RATED\\\\n  This is such a boring place I have ever been on a new year eve. Giving 2 rating only because of ambience. Loved the Ambience pretty cool. It's awesome with perfect lighting, decors and sitting arrangements. But they were playing all boring melody songs. It completely ruined our evening.\\\\n\\\\nComing to food everything is overpriced. They had only few options in their menu. Had broccoli tikki, cocktail and beer. It was ok.\\\\n\\\\nAnd service was also very late. Anyway, it's a over hyped place.\\\\n\\\\nI will never visit this place again. Worst experience.\\\"), ('Rated 4.0', 'RATED\\\\n  We went for a team lunch ,which was on the rooftop and it was a buffet lunch .The food was good ,3 veg and 3 nonveg started ,nice options for lunch sweets fruits salid and my fav kesar ice-cream in small earthen pots.\\\\nOver all a nice experience.'), ('Rated 4.0', 'RATED\\\\n  The ambience is a total winner.. we were there after Christmas so the place so looking festive and beautiful.. the music plays well with the ambience and the food.. coming to the beers I\\u00c3\\u0083\\\\x83\\u00c3\\u0082\\\\x83\\u00c3\\u0083\\\\x82\\u00c3\\u0082\\\\x82\\u00c3\\u0083\\\\x83\\u00c3\\u0082\\\\x82\\u00c3\\u0083\\\\x82\\u00c3\\u0082\\\\x92m not a brew fan but the men loved it.. the tasting was a nice experience to know wat you want to have.. for starters we ordered the Persian kabab a total winner.. the French fries were done well..the tandoori prawns were succulent.. sausage platter was yumm if it\\u00c3\\u0083\\\\x83\\u00c3\\u0082\\\\x83\\u00c3\\u0083\\\\x82\\u00c3\\u0082\\\\x82\\u00c3\\u0083\\\\x83\\u00c3\\u0082\\\\x82\\u00c3\\u0083\\\\x82\\u00c3\\u0082\\\\x92s in house sausages you guys are doing a fine job.. the mini burgers were yumm.. Caesar salad one of the best I have had.. we didn\\u00c3\\u0083\\\\x83\\u00c3\\u0082\\\\x83\\u00c3\\u0083\\\\x82\\u00c3\\u0082\\\\x82\\u00c3\\u0083\\\\x83\\u00c3\\u0082\\\\x82\\u00c3\\u0083\\\\x82\\u00c3\\u0082\\\\x92t have room for mains so jumped into desserts.. the raspberry tiramisu was authentic.. flourless chocolate cake was too good and melt in the mouth.. the liquor desserts were a total winner.. the presentation was a gourmet treat.. will be back to try more!!!'), ('Rated 3.0', \\\"RATED\\\\n  Though the entire building is owned by Windmill, there are 3 restaurants on floors 6,7,8 - namely Windmills Craftworks, Oota and Terrace. The ambience of Oota is very nice and different.\\\\n\\\\nWindmills on floor 6 is elegant and has classy music. But frankly their staff's attitude is a bit disturbing. I would surely recommend their Gralic bread but not their Honey Chilly Potato. They are usually heavily booked so do reserve a seat before you walk in. Overall I think that this restaurant is over rated.\\\"), ('Rated 5.0', 'RATED\\\\n  This is a classy place. I love going there specially for good beers and amazing live jazz bands. Ambiance is brilliant and total value for money. Perfect place for a date.\\\\n\\\\nPricing- 4/5\\\\nAmbiance- 4.5/5\\\\nFood - 4/5\\\\nService- 4.5/5\\\\nBeers-4/4'), ('Rated 5.0', 'RATED\\\\n  My oh my!!!! What a place.... How did I miss out on this beauty for so long?\\\\nService-5/5\\\\nAmbience-5/5\\\\nFood- 5/5\\\\nBeer- I wish I could give a 6/5....\\\\n\\\\nMust try- Persian Kebab, Hazy IPA, Chocolate Bavarois'), ('Rated 5.0', 'RATED\\\\n  An awesome place with Combination of books, food and craft beer. I loved the ambiance, food, decore and drinks. Must visit place. Do try there brewed beer it is awesome.'), ('Rated 4.0', 'RATED\\\\n  Finely set and fairly rich. While the service is a bit less responsive than one might want, the cover it up pretty well with the delicious delicacies. Price is on a higher side. Almost justifiable. Drinks might need an improvement and beer variety is average. Not so splendid. Do try their vast variety food menu. Some are really amazing.'), ('Rated 3.0', \\\"RATED\\\\n  Though the entire building is owned by Windmill, there are 3 restaurants on floors 6,7,8 - namely Windmills Craftworks, Oota and Terrace. The ambience of Oota is very nice and different.\\\\n\\\\nWindmills on floor 6 is elegant and has classy music. But frankly their staff's attitude is a bit disturbing. I would surely recommend their Gralic bread but not their Honey Chilly Potato. They are usually heavily booked so do reserve a seat before you walk in. Overall I think that this restaurant is over rated.\\\"), ('Rated 5.0', 'RATED\\\\n  This is a classy place. I love going there specially for good beers and amazing live jazz bands. Ambiance is brilliant and total value for money. Perfect place for a date.\\\\n\\\\nPricing- 4/5\\\\nAmbiance- 4.5/5\\\\nFood - 4/5\\\\nService- 4.5/5\\\\nBeers-4/4'), ('Rated 5.0', 'RATED\\\\n  My oh my!!!! What a place.... How did I miss out on this beauty for so long?\\\\nService-5/5\\\\nAmbience-5/5\\\\nFood- 5/5\\\\nBeer- I wish I could give a 6/5....\\\\n\\\\nMust try- Persian Kebab, Hazy IPA, Chocolate Bavarois'), ('Rated 5.0', 'RATED\\\\n  An awesome place with Combination of books, food and craft beer. I loved the ambiance, food, decore and drinks. Must visit place. Do try there brewed beer it is awesome.'), ('Rated 4.0', 'RATED\\\\n  Finely set and fairly rich. While the service is a bit less responsive than one might want, the cover it up pretty well with the delicious delicacies. Price is on a higher side. Almost justifiable. Drinks might need an improvement and beer variety is average. Not so splendid. Do try their vast variety food menu. Some are really amazing.'), ('Rated 3.0', \\\"RATED\\\\n  Though the entire building is owned by Windmill, there are 3 restaurants on floors 6,7,8 - namely Windmills Craftworks, Oota and Terrace. The ambience of Oota is very nice and different.\\\\n\\\\nWindmills on floor 6 is elegant and has classy music. But frankly their staff's attitude is a bit disturbing. I would surely recommend their Gralic bread but not their Honey Chilly Potato. They are usually heavily booked so do reserve a seat before you walk in. Overall I think that this restaurant is over rated.\\\"), ('Rated 5.0', 'RATED\\\\n  This is a classy place. I love going there specially for good beers and amazing live jazz bands. Ambiance is brilliant and total value for money. Perfect place for a date.\\\\n\\\\nPricing- 4/5\\\\nAmbiance- 4.5/5\\\\nFood - 4/5\\\\nService- 4.5/5\\\\nBeers-4/4'), ('Rated 5.0', 'RATED\\\\n  My oh my!!!! What a place.... How did I miss out on this beauty for so long?\\\\nService-5/5\\\\nAmbience-5/5\\\\nFood- 5/5\\\\nBeer- I wish I could give a 6/5....\\\\n\\\\nMust try- Persian Kebab, Hazy IPA, Chocolate Bavarois'), ('Rated 5.0', 'RATED\\\\n  An awesome place with Combination of books, food and craft beer. I loved the ambiance, food, decore and drinks. Must visit place. Do try there brewed beer it is awesome.'), ('Rated 4.0', 'RATED\\\\n  Finely set and fairly rich. While the service is a bit less responsive than one might want, the cover it up pretty well with the delicious delicacies. Price is on a higher side. Almost justifiable. Drinks might need an improvement and beer variety is average. Not so splendid. Do try their vast variety food menu. Some are really amazing.'), ('Rated 3.0', \\\"RATED\\\\n  Though the entire building is owned by Windmill, there are 3 restaurants on floors 6,7,8 - namely Windmills Craftworks, Oota and Terrace. The ambience of Oota is very nice and different.\\\\n\\\\nWindmills on floor 6 is elegant and has classy music. But frankly their staff's attitude is a bit disturbing. I would surely recommend their Gralic bread but not their Honey Chilly Potato. They are usually heavily booked so do reserve a seat before you walk in. Overall I think that this restaurant is over rated.\\\"), ('Rated 5.0', 'RATED\\\\n  This is a classy place. I love going there specially for good beers and amazing live jazz bands. Ambiance is brilliant and total value for money. Perfect place for a date.\\\\n\\\\nPricing- 4/5\\\\nAmbiance- 4.5/5\\\\nFood - 4/5\\\\nService- 4.5/5\\\\nBeers-4/4'), ('Rated 5.0', 'RATED\\\\n  My oh my!!!! What a place.... How did I miss out on this beauty for so long?\\\\nService-5/5\\\\nAmbience-5/5\\\\nFood- 5/5\\\\nBeer- I wish I could give a 6/5....\\\\n\\\\nMust try- Persian Kebab, Hazy IPA, Chocolate Bavarois'), ('Rated 5.0', 'RATED\\\\n  An awesome place with Combination of books, food and craft beer. I loved the ambiance, food, decore and drinks. Must visit place. Do try there brewed beer it is awesome.'), ('Rated 4.0', 'RATED\\\\n  Finely set and fairly rich. While the service is a bit less responsive than one might want, the cover it up pretty well with the delicious delicacies. Price is on a higher side. Almost justifiable. Drinks might need an improvement and beer variety is average. Not so splendid. Do try their vast variety food menu. Some are really amazing.'), ('Rated 3.0', \\\"RATED\\\\n  Though the entire building is owned by Windmill, there are 3 restaurants on floors 6,7,8 - namely Windmills Craftworks, Oota and Terrace. The ambience of Oota is very nice and different.\\\\n\\\\nWindmills on floor 6 is elegant and has classy music. But frankly their staff's attitude is a bit disturbing. I would surely recommend their Gralic bread but not their Honey Chilly Potato. They are usually heavily booked so do reserve a seat before you walk in. Overall I think that this restaurant is over rated.\\\"), ('Rated 5.0', 'RATED\\\\n  This is a classy place. I love going there specially for good beers and amazing live jazz bands. Ambiance is brilliant and total value for money. Perfect place for a date.\\\\n\\\\nPricing- 4/5\\\\nAmbiance- 4.5/5\\\\nFood - 4/5\\\\nService- 4.5/5\\\\nBeers-4/4'), ('Rated 5.0', 'RATED\\\\n  My oh my!!!! What a place.... How did I miss out on this beauty for so long?\\\\nService-5/5\\\\nAmbience-5/5\\\\nFood- 5/5\\\\nBeer- I wish I could give a 6/5....\\\\n\\\\nMust try- Persian Kebab, Hazy IPA, Chocolate Bavarois'), ('Rated 5.0', 'RATED\\\\n  An awesome place with Combination of books, food and craft beer. I loved the ambiance, food, decore and drinks. Must visit place. Do try there brewed beer it is awesome.'), ('Rated 4.0', 'RATED\\\\n  Finely set and fairly rich. While the service is a bit less responsive than one might want, the cover it up pretty well with the delicious delicacies. Price is on a higher side. Almost justifiable. Drinks might need an improvement and beer variety is average. Not so splendid. Do try their vast variety food menu. Some are really amazing.'), ('Rated 3.0', \\\"RATED\\\\n  Though the entire building is owned by Windmill, there are 3 restaurants on floors 6,7,8 - namely Windmills Craftworks, Oota and Terrace. The ambience of Oota is very nice and different.\\\\n\\\\nWindmills on floor 6 is elegant and has classy music. But frankly their staff's attitude is a bit disturbing. I would surely recommend their Gralic bread but not their Honey Chilly Potato. They are usually heavily booked so do reserve a seat before you walk in. Overall I think that this restaurant is over rated.\\\"), ('Rated 5.0', 'RATED\\\\n  This is a classy place. I love going there specially for good beers and amazing live jazz bands. Ambiance is brilliant and total value for money. Perfect place for a date.\\\\n\\\\nPricing- 4/5\\\\nAmbiance- 4.5/5\\\\nFood - 4/5\\\\nService- 4.5/5\\\\nBeers-4/4'), ('Rated 5.0', 'RATED\\\\n  My oh my!!!! What a place.... How did I miss out on this beauty for so long?\\\\nService-5/5\\\\nAmbience-5/5\\\\nFood- 5/5\\\\nBeer- I wish I could give a 6/5....\\\\n\\\\nMust try- Persian Kebab, Hazy IPA, Chocolate Bavarois'), ('Rated 5.0', 'RATED\\\\n  An awesome place with Combination of books, food and craft beer. I loved the ambiance, food, decore and drinks. Must visit place. Do try there brewed beer it is awesome.'), ('Rated 4.0', 'RATED\\\\n  Finely set and fairly rich. While the service is a bit less responsive than one might want, the cover it up pretty well with the delicious delicacies. Price is on a higher side. Almost justifiable. Drinks might need an improvement and beer variety is average. Not so splendid. Do try their vast variety food menu. Some are really amazing.'), ('Rated 4.0', 'RATED\\\\n  Was taken to this place on a visit to Bangalore to have the best beer in the city. Great ambience. I went in the afternoon so didn\\u00c3\\u0083\\\\x83\\u00c3\\u0082\\\\x83\\u00c3\\u0083\\\\x82\\u00c3\\u0082\\\\x82\\u00c3\\u0083\\\\x83\\u00c3\\u0082\\\\x82\\u00c3\\u0083\\\\x82\\u00c3\\u0082\\\\x92t get a chance to enjoy their jazz performances.\\\\nTheir mango beer seemed the most enticing in the menu and it was beyond my expectations. Great beer, great place!'), ('Rated 4.0', 'RATED\\\\n  Beautiful indoors and outdoors.\\\\nLoved the ambience.\\\\nFood quality is super awesome and the way they serve it great too.\\\\nThe service time could be reduced, but I understand. Its the rush!!!\\\\nHappy place for a group or friends to hang out or some corporate lunch/dinners.\\\\nDefinitely waiting for a visit again.'), ('Rated 5.0', 'RATED\\\\n  Windmills is always a delight !\\\\nBeen a regular visitor here and the calm , comfortable ambience pulls me every time .\\\\nFrom cocktails , king louis is my personal favourite and do try there galouti kebabs..\\\\nStaff is polite and courteous.'), ('Rated 4.0', 'RATED\\\\n  My hubby took me here on date night to bring in my birthday! We were not disappointed. Food was good, maybe a little expansion on the menu would be great.\\\\nThe place looks amazing and you are surrounded by books! My kind of heaven.\\\\nWhat we tried:\\\\nBeef Picante\\\\nWindmills Pork Ribs\\\\nChocolate Bavaro is with Orange curd\\\\nSticky toffee pudding with Brandy snap and vanilla icecream\\\\nWould definitely visit again to spend some more time here exploring the shelves!'), ('Rated 5.0', \\\"RATED\\\\n  The ambience was so cosy and comfortable. Perfectly lit, the table and sofa set up was cleverly arranged. And the brewed beer was the best set I had in Bangalore so far. All the beers tasted good, the best being the most commonly ordered one, something starting with 'H' and the strongest beer had the right amount of chocolate in it and it tasted amazing. We had some kheema pao which tasted good. The view from the pub was also very soothing. So if you want to have a nice, relaxed evening and some really good beer, do visit this place.\\\"), ('Rated 4.0', 'RATED\\\\n  Was taken to this place on a visit to Bangalore to have the best beer in the city. Great ambience. I went in the afternoon so didn\\u00c3\\u0083\\\\x83\\u00c3\\u0082\\\\x83\\u00c3\\u0083\\\\x82\\u00c3\\u0082\\\\x82\\u00c3\\u0083\\\\x83\\u00c3\\u0082\\\\x82\\u00c3\\u0083\\\\x82\\u00c3\\u0082\\\\x92t get a chance to enjoy their jazz performances.\\\\nTheir mango beer seemed the most enticing in the menu and it was beyond my expectations. Great beer, great place!'), ('Rated 4.0', 'RATED\\\\n  Beautiful indoors and outdoors.\\\\nLoved the ambience.\\\\nFood quality is super awesome and the way they serve it great too.\\\\nThe service time could be reduced, but I understand. Its the rush!!!\\\\nHappy place for a group or friends to hang out or some corporate lunch/dinners.\\\\nDefinitely waiting for a visit again.'), ('Rated 5.0', 'RATED\\\\n  Windmills is always a delight !\\\\nBeen a regular visitor here and the calm , comfortable ambience pulls me every time .\\\\nFrom cocktails , king louis is my personal favourite and do try there galouti kebabs..\\\\nStaff is polite and courteous.'), ('Rated 4.0', 'RATED\\\\n  My hubby took me here on date night to bring in my birthday! We were not disappointed. Food was good, maybe a little expansion on the menu would be great.\\\\nThe place looks amazing and you are surrounded by books! My kind of heaven.\\\\nWhat we tried:\\\\nBeef Picante\\\\nWindmills Pork Ribs\\\\nChocolate Bavaro is with Orange curd\\\\nSticky toffee pudding with Brandy snap and vanilla icecream\\\\nWould definitely visit again to spend some more time here exploring the shelves!'), ('Rated 5.0', \\\"RATED\\\\n  The ambience was so cosy and comfortable. Perfectly lit, the table and sofa set up was cleverly arranged. And the brewed beer was the best set I had in Bangalore so far. All the beers tasted good, the best being the most commonly ordered one, something starting with 'H' and the strongest beer had the right amount of chocolate in it and it tasted amazing. We had some kheema pao which tasted good. The view from the pub was also very soothing. So if you want to have a nice, relaxed evening and some really good beer, do visit this place.\\\"), ('Rated 4.0', 'RATED\\\\n  Was taken to this place on a visit to Bangalore to have the best beer in the city. Great ambience. I went in the afternoon so didn\\u00c3\\u0083\\\\x83\\u00c3\\u0082\\\\x83\\u00c3\\u0083\\\\x82\\u00c3\\u0082\\\\x82\\u00c3\\u0083\\\\x83\\u00c3\\u0082\\\\x82\\u00c3\\u0083\\\\x82\\u00c3\\u0082\\\\x92t get a chance to enjoy their jazz performances.\\\\nTheir mango beer seemed the most enticing in the menu and it was beyond my expectations. Great beer, great place!'), ('Rated 4.0', 'RATED\\\\n  Beautiful indoors and outdoors.\\\\nLoved the ambience.\\\\nFood quality is super awesome and the way they serve it great too.\\\\nThe service time could be reduced, but I understand. Its the rush!!!\\\\nHappy place for a group or friends to hang out or some corporate lunch/dinners.\\\\nDefinitely waiting for a visit again.'), ('Rated 5.0', 'RATED\\\\n  Windmills is always a delight !\\\\nBeen a regular visitor here and the calm , comfortable ambience pulls me every time .\\\\nFrom cocktails , king louis is my personal favourite and do try there galouti kebabs..\\\\nStaff is polite and courteous.'), ('Rated 4.0', 'RATED\\\\n  My hubby took me here on date night to bring in my birthday! We were not disappointed. Food was good, maybe a little expansion on the menu would be great.\\\\nThe place looks amazing and you are surrounded by books! My kind of heaven.\\\\nWhat we tried:\\\\nBeef Picante\\\\nWindmills Pork Ribs\\\\nChocolate Bavaro is with Orange curd\\\\nSticky toffee pudding with Brandy snap and vanilla icecream\\\\nWould definitely visit again to spend some more time here exploring the shelves!'), ('Rated 5.0', \\\"RATED\\\\n  The ambience was so cosy and comfortable. Perfectly lit, the table and sofa set up was cleverly arranged. And the brewed beer was the best set I had in Bangalore so far. All the beers tasted good, the best being the most commonly ordered one, something starting with 'H' and the strongest beer had the right amount of chocolate in it and it tasted amazing. We had some kheema pao which tasted good. The view from the pub was also very soothing. So if you want to have a nice, relaxed evening and some really good beer, do visit this place.\\\"), ('Rated 4.0', 'RATED\\\\n  Was taken to this place on a visit to Bangalore to have the best beer in the city. Great ambience. I went in the afternoon so didn\\u00c3\\u0083\\\\x83\\u00c3\\u0082\\\\x83\\u00c3\\u0083\\\\x82\\u00c3\\u0082\\\\x82\\u00c3\\u0083\\\\x83\\u00c3\\u0082\\\\x82\\u00c3\\u0083\\\\x82\\u00c3\\u0082\\\\x92t get a chance to enjoy their jazz performances.\\\\nTheir mango beer seemed the most enticing in the menu and it was beyond my expectations. Great beer, great place!'), ('Rated 4.0', 'RATED\\\\n  Beautiful indoors and outdoors.\\\\nLoved the ambience.\\\\nFood quality is super awesome and the way they serve it great too.\\\\nThe service time could be reduced, but I understand. Its the rush!!!\\\\nHappy place for a group or friends to hang out or some corporate lunch/dinners.\\\\nDefinitely waiting for a visit again.'), ('Rated 5.0', 'RATED\\\\n  Windmills is always a delight !\\\\nBeen a regular visitor here and the calm , comfortable ambience pulls me every time .\\\\nFrom cocktails , king louis is my personal favourite and do try there galouti kebabs..\\\\nStaff is polite and courteous.'), ('Rated 4.0', 'RATED\\\\n  My hubby took me here on date night to bring in my birthday! We were not disappointed. Food was good, maybe a little expansion on the menu would be great.\\\\nThe place looks amazing and you are surrounded by books! My kind of heaven.\\\\nWhat we tried:\\\\nBeef Picante\\\\nWindmills Pork Ribs\\\\nChocolate Bavaro is with Orange curd\\\\nSticky toffee pudding with Brandy snap and vanilla icecream\\\\nWould definitely visit again to spend some more time here exploring the shelves!'), ('Rated 5.0', \\\"RATED\\\\n  The ambience was so cosy and comfortable. Perfectly lit, the table and sofa set up was cleverly arranged. And the brewed beer was the best set I had in Bangalore so far. All the beers tasted good, the best being the most commonly ordered one, something starting with 'H' and the strongest beer had the right amount of chocolate in it and it tasted amazing. We had some kheema pao which tasted good. The view from the pub was also very soothing. So if you want to have a nice, relaxed evening and some really good beer, do visit this place.\\\"), ('Rated 4.0', \\\"RATED\\\\n  One of the best breweries in Whitefield.\\\\nAmbience is cool.\\\\nAlways crowded, difficult to acquire a table.\\\\nThe brewed beer and cocktails are amazing.\\\\nFood tastes good, didn't try many items though.\\\\nA bit expensive compared to other places.\\\\nAmbience - 5/5\\\\nBeer/cocktails - 5/5\\\\nFood - 3/5\\\"), ('Rated 5.0', 'RATED\\\\n  I was in love with this place! Great ambiance! The terrace here is simply awesome. Great food and great drinks! One of the best late night hangout in Bangalore! We had a great night at this place. Definitely going back here again!'), ('Rated 3.0', \\\"RATED\\\\n  Been to WC recently, situated bang on in middle of EPIP hustle bustle. Wallet parking available. Been to terrace that's on 8th floor. It has few tables covered and rest of table in open, with canopy to protect from sunlight and rain. Lighting is bit on a dim side. It has live chat counter, bar, buffet spread. Starters are served on table, but plates meant for starters is very small, they should change them for sure. Mutton fry didn't had Mutton flavor, prawns were way too small, only thing which i liked was Paneer and fish tikka. Coming to chat counter, it has chat along pani poori, jalebi, chole kulcha. Amritsari kulcha with chole i liked most. In buffet spread lots of variety, Mutton paya soup was awesome, lots of salads. Even main course had lots of option for veg and non veg. In dessert counter no ice-cream but other options in ample amount. Friendly staff, that's why going with 3 rating. In this price you will definitely find better food and ambience for sure.\\\"), ('Rated 4.0', \\\"RATED\\\\n  \\u00c3\\u0083\\\\x83\\u00c3\\u0082\\\\x83\\u00c3\\u0083\\\\x82\\u00c3\\u0082\\\\x82\\u00c3\\u0083\\\\x83\\u00c3\\u0082\\\\x82\\u00c3\\u0083\\\\x82\\u00c3\\u0082\\\\x95The ambience is really nice and the interiors are well decorated. It gives a good amd peaceful vibe . I really love their outdoor seating arrangement as you can see the landscape of the area around, and I really love that about this place.\\\\n\\\\n\\u00c3\\u0083\\\\x83\\u00c3\\u0082\\\\x83\\u00c3\\u0083\\\\x82\\u00c3\\u0082\\\\x82\\u00c3\\u0083\\\\x83\\u00c3\\u0082\\\\x82\\u00c3\\u0083\\\\x82\\u00c3\\u0082\\\\x95The service is quick and the staff is really nice and polite.\\\\n\\\\n\\u00c3\\u0083\\\\x83\\u00c3\\u0082\\\\x83\\u00c3\\u0083\\\\x82\\u00c3\\u0082\\\\x82\\u00c3\\u0083\\\\x83\\u00c3\\u0082\\\\x82\\u00c3\\u0083\\\\x82\\u00c3\\u0082\\\\x95I just tried a few snacks here as we had gone to grab a few beers. But I would definitely go back to try the food when I'm in that area. But they have an amazing variety of craft beers to choose from which are unique and tasty.\\\\n\\\\n\\u00c3\\u0083\\\\x83\\u00c3\\u0082\\\\x83\\u00c3\\u0083\\\\x82\\u00c3\\u0082\\\\x82\\u00c3\\u0083\\\\x83\\u00c3\\u0082\\\\x82\\u00c3\\u0083\\\\x82\\u00c3\\u0082\\\\x95I would definitely visit this place again to grab a cold beer and some food as well next time and recommend it to my friends and family as well.\\\"), ('Rated 4.0', 'RATED\\\\n  Went there for lunch buffet. Spread was good but had limited options for starters. Service was slow but taste was really great. The food was really fresh, could feel that! Ambience was nice with slow music playing in the background. The buffet was on terrace which was partially open and there was a cool breeze blowing. Experience was really good. Looking forward to visit this place again ?'), ('Rated 4.0', \\\"RATED\\\\n  One of the best breweries in Whitefield.\\\\nAmbience is cool.\\\\nAlways crowded, difficult to acquire a table.\\\\nThe brewed beer and cocktails are amazing.\\\\nFood tastes good, didn't try many items though.\\\\nA bit expensive compared to other places.\\\\nAmbience - 5/5\\\\nBeer/cocktails - 5/5\\\\nFood - 3/5\\\"), ('Rated 5.0', 'RATED\\\\n  I was in love with this place! Great ambiance! The terrace here is simply awesome. Great food and great drinks! One of the best late night hangout in Bangalore! We had a great night at this place. Definitely going back here again!'), ('Rated 3.0', \\\"RATED\\\\n  Been to WC recently, situated bang on in middle of EPIP hustle bustle. Wallet parking available. Been to terrace that's on 8th floor. It has few tables covered and rest of table in open, with canopy to protect from sunlight and rain. Lighting is bit on a dim side. It has live chat counter, bar, buffet spread. Starters are served on table, but plates meant for starters is very small, they should change them for sure. Mutton fry didn't had Mutton flavor, prawns were way too small, only thing which i liked was Paneer and fish tikka. Coming to chat counter, it has chat along pani poori, jalebi, chole kulcha. Amritsari kulcha with chole i liked most. In buffet spread lots of variety, Mutton paya soup was awesome, lots of salads. Even main course had lots of option for veg and non veg. In dessert counter no ice-cream but other options in ample amount. Friendly staff, that's why going with 3 rating. In this price you will definitely find better food and ambience for sure.\\\"), ('Rated 4.0', \\\"RATED\\\\n  \\u00c3\\u0083\\\\x83\\u00c3\\u0082\\\\x83\\u00c3\\u0083\\\\x82\\u00c3\\u0082\\\\x82\\u00c3\\u0083\\\\x83\\u00c3\\u0082\\\\x82\\u00c3\\u0083\\\\x82\\u00c3\\u0082\\\\x95The ambience is really nice and the interiors are well decorated. It gives a good amd peaceful vibe . I really love their outdoor seating arrangement as you can see the landscape of the area around, and I really love that about this place.\\\\n\\\\n\\u00c3\\u0083\\\\x83\\u00c3\\u0082\\\\x83\\u00c3\\u0083\\\\x82\\u00c3\\u0082\\\\x82\\u00c3\\u0083\\\\x83\\u00c3\\u0082\\\\x82\\u00c3\\u0083\\\\x82\\u00c3\\u0082\\\\x95The service is quick and the staff is really nice and polite.\\\\n\\\\n\\u00c3\\u0083\\\\x83\\u00c3\\u0082\\\\x83\\u00c3\\u0083\\\\x82\\u00c3\\u0082\\\\x82\\u00c3\\u0083\\\\x83\\u00c3\\u0082\\\\x82\\u00c3\\u0083\\\\x82\\u00c3\\u0082\\\\x95I just tried a few snacks here as we had gone to grab a few beers. But I would definitely go back to try the food when I'm in that area. But they have an amazing variety of craft beers to choose from which are unique and tasty.\\\\n\\\\n\\u00c3\\u0083\\\\x83\\u00c3\\u0082\\\\x83\\u00c3\\u0083\\\\x82\\u00c3\\u0082\\\\x82\\u00c3\\u0083\\\\x83\\u00c3\\u0082\\\\x82\\u00c3\\u0083\\\\x82\\u00c3\\u0082\\\\x95I would definitely visit this place again to grab a cold beer and some food as well next time and recommend it to my friends and family as well.\\\"), ('Rated 4.0', 'RATED\\\\n  Went there for lunch buffet. Spread was good but had limited options for starters. Service was slow but taste was really great. The food was really fresh, could feel that! Ambience was nice with slow music playing in the background. The buffet was on terrace which was partially open and there was a cool breeze blowing. Experience was really good. Looking forward to visit this place again ?'), ('Rated 4.0', \\\"RATED\\\\n  One of the best breweries in Whitefield.\\\\nAmbience is cool.\\\\nAlways crowded, difficult to acquire a table.\\\\nThe brewed beer and cocktails are amazing.\\\\nFood tastes good, didn't try many items though.\\\\nA bit expensive compared to other places.\\\\nAmbience - 5/5\\\\nBeer/cocktails - 5/5\\\\nFood - 3/5\\\"), ('Rated 5.0', 'RATED\\\\n  I was in love with this place! Great ambiance! The terrace here is simply awesome. Great food and great drinks! One of the best late night hangout in Bangalore! We had a great night at this place. Definitely going back here again!'), ('Rated 3.0', \\\"RATED\\\\n  Been to WC recently, situated bang on in middle of EPIP hustle bustle. Wallet parking available. Been to terrace that's on 8th floor. It has few tables covered and rest of table in open, with canopy to protect from sunlight and rain. Lighting is bit on a dim side. It has live chat counter, bar, buffet spread. Starters are served on table, but plates meant for starters is very small, they should change them for sure. Mutton fry didn't had Mutton flavor, prawns were way too small, only thing which i liked was Paneer and fish tikka. Coming to chat counter, it has chat along pani poori, jalebi, chole kulcha. Amritsari kulcha with chole i liked most. In buffet spread lots of variety, Mutton paya soup was awesome, lots of salads. Even main course had lots of option for veg and non veg. In dessert counter no ice-cream but other options in ample amount. Friendly staff, that's why going with 3 rating. In this price you will definitely find better food and ambience for sure.\\\"), ('Rated 4.0', \\\"RATED\\\\n  \\u00c3\\u0083\\\\x83\\u00c3\\u0082\\\\x83\\u00c3\\u0083\\\\x82\\u00c3\\u0082\\\\x82\\u00c3\\u0083\\\\x83\\u00c3\\u0082\\\\x82\\u00c3\\u0083\\\\x82\\u00c3\\u0082\\\\x95The ambience is really nice and the interiors are well decorated. It gives a good amd peaceful vibe . I really love their outdoor seating arrangement as you can see the landscape of the area around, and I really love that about this place.\\\\n\\\\n\\u00c3\\u0083\\\\x83\\u00c3\\u0082\\\\x83\\u00c3\\u0083\\\\x82\\u00c3\\u0082\\\\x82\\u00c3\\u0083\\\\x83\\u00c3\\u0082\\\\x82\\u00c3\\u0083\\\\x82\\u00c3\\u0082\\\\x95The service is quick and the staff is really nice and polite.\\\\n\\\\n\\u00c3\\u0083\\\\x83\\u00c3\\u0082\\\\x83\\u00c3\\u0083\\\\x82\\u00c3\\u0082\\\\x82\\u00c3\\u0083\\\\x83\\u00c3\\u0082\\\\x82\\u00c3\\u0083\\\\x82\\u00c3\\u0082\\\\x95I just tried a few snacks here as we had gone to grab a few beers. But I would definitely go back to try the food when I'm in that area. But they have an amazing variety of craft beers to choose from which are unique and tasty.\\\\n\\\\n\\u00c3\\u0083\\\\x83\\u00c3\\u0082\\\\x83\\u00c3\\u0083\\\\x82\\u00c3\\u0082\\\\x82\\u00c3\\u0083\\\\x83\\u00c3\\u0082\\\\x82\\u00c3\\u0083\\\\x82\\u00c3\\u0082\\\\x95I would definitely visit this place again to grab a cold beer and some food as well next time and recommend it to my friends and family as well.\\\"), ('Rated 4.0', 'RATED\\\\n  Went there for lunch buffet. Spread was good but had limited options for starters. Service was slow but taste was really great. The food was really fresh, could feel that! Ambience was nice with slow music playing in the background. The buffet was on terrace which was partially open and there was a cool breeze blowing. Experience was really good. Looking forward to visit this place again ?'), ('Rated 4.0', \\\"RATED\\\\n  One of the best breweries in Whitefield.\\\\nAmbience is cool.\\\\nAlways crowded, difficult to acquire a table.\\\\nThe brewed beer and cocktails are amazing.\\\\nFood tastes good, didn't try many items though.\\\\nA bit expensive compared to other places.\\\\nAmbience - 5/5\\\\nBeer/cocktails - 5/5\\\\nFood - 3/5\\\"), ('Rated 5.0', 'RATED\\\\n  I was in love with this place! Great ambiance! The terrace here is simply awesome. Great food and great drinks! One of the best late night hangout in Bangalore! We had a great night at this place. Definitely going back here again!'), ('Rated 3.0', \\\"RATED\\\\n  Been to WC recently, situated bang on in middle of EPIP hustle bustle. Wallet parking available. Been to terrace that's on 8th floor. It has few tables covered and rest of table in open, with canopy to protect from sunlight and rain. Lighting is bit on a dim side. It has live chat counter, bar, buffet spread. Starters are served on table, but plates meant for starters is very small, they should change them for sure. Mutton fry didn't had Mutton flavor, prawns were way too small, only thing which i liked was Paneer and fish tikka. Coming to chat counter, it has chat along pani poori, jalebi, chole kulcha. Amritsari kulcha with chole i liked most. In buffet spread lots of variety, Mutton paya soup was awesome, lots of salads. Even main course had lots of option for veg and non veg. In dessert counter no ice-cream but other options in ample amount. Friendly staff, that's why going with 3 rating. In this price you will definitely find better food and ambience for sure.\\\"), ('Rated 4.0', \\\"RATED\\\\n  \\u00c3\\u0083\\\\x83\\u00c3\\u0082\\\\x83\\u00c3\\u0083\\\\x82\\u00c3\\u0082\\\\x82\\u00c3\\u0083\\\\x83\\u00c3\\u0082\\\\x82\\u00c3\\u0083\\\\x82\\u00c3\\u0082\\\\x95The ambience is really nice and the interiors are well decorated. It gives a good amd peaceful vibe . I really love their outdoor seating arrangement as you can see the landscape of the area around, and I really love that about this place.\\\\n\\\\n\\u00c3\\u0083\\\\x83\\u00c3\\u0082\\\\x83\\u00c3\\u0083\\\\x82\\u00c3\\u0082\\\\x82\\u00c3\\u0083\\\\x83\\u00c3\\u0082\\\\x82\\u00c3\\u0083\\\\x82\\u00c3\\u0082\\\\x95The service is quick and the staff is really nice and polite.\\\\n\\\\n\\u00c3\\u0083\\\\x83\\u00c3\\u0082\\\\x83\\u00c3\\u0083\\\\x82\\u00c3\\u0082\\\\x82\\u00c3\\u0083\\\\x83\\u00c3\\u0082\\\\x82\\u00c3\\u0083\\\\x82\\u00c3\\u0082\\\\x95I just tried a few snacks here as we had gone to grab a few beers. But I would definitely go back to try the food when I'm in that area. But they have an amazing variety of craft beers to choose from which are unique and tasty.\\\\n\\\\n\\u00c3\\u0083\\\\x83\\u00c3\\u0082\\\\x83\\u00c3\\u0083\\\\x82\\u00c3\\u0082\\\\x82\\u00c3\\u0083\\\\x83\\u00c3\\u0082\\\\x82\\u00c3\\u0083\\\\x82\\u00c3\\u0082\\\\x95I would definitely visit this place again to grab a cold beer and some food as well next time and recommend it to my friends and family as well.\\\"), ('Rated 4.0', 'RATED\\\\n  Went there for lunch buffet. Spread was good but had limited options for starters. Service was slow but taste was really great. The food was really fresh, could feel that! Ambience was nice with slow music playing in the background. The buffet was on terrace which was partially open and there was a cool breeze blowing. Experience was really good. Looking forward to visit this place again ?'), ('Rated 5.0', 'RATED\\\\n  The place is LIT ?? This is the first place to go to for yummy desserts, sticky toffee pudding is a must try and not forgetting the Brie and mushrooms!\\\\nThey serve some superb dishes within a wonderful ambience.'), ('Rated 5.0', 'RATED\\\\n  This place is so huge and it has amazing ambience\\\\nWe have been seated outdoor and it has some amazing view\\\\nThis place provides probably the best brewed beers in Bengaluru\\\\nAnd the cocktails here were liit?\\\\nWe have first started with beer samplers\\\\nAnd every beer was just amazing\\\\nWe went for pale ale and golden ale\\\\nAnd the bartender here has made very special cocktails for us\\\\nWe have been served\\\\nBrain damage and jasmine : blended with london dry gin\\\\nSmoking barrel : glenfidich with lemon tea cucumber and hickery fog\\\\nThis has been one of the best cocktails i ever had\\\\nThen we also tried cosmopolitan and akira which were good too\\\\n.\\\\n.\\\\nIn food we have tried chicken sliders ghost kabab chicken nachos and fries\\\\nGhost kabab was very tasty with amazing stuffing\\\\n.\\\\n.\\\\nIn deserts we had toffee with pudding and guava pudding\\\\nI have tried guava pudding for the first time here and it turned out to be very good'), ('Rated 5.0', 'RATED\\\\n  Just fell in love with the food and the ambience over here\\u00c3\\u0083\\\\x83\\u00c3\\u0082\\\\x83\\u00c3\\u0083\\\\x82\\u00c3\\u0082\\\\x82\\u00c3\\u0083\\\\x83\\u00c3\\u0082\\\\x82\\u00c3\\u0083\\\\x82\\u00c3\\u0082\\\\x85 too too toooooo fab worth travelling to such far place with my 1.5 year lil one. Tried a lot of stuff and everything was damn yumm\\u00c3\\u0083\\\\x83\\u00c3\\u0082\\\\x83\\u00c3\\u0083\\\\x82\\u00c3\\u0082\\\\x82\\u00c3\\u0083\\\\x83\\u00c3\\u0082\\\\x82\\u00c3\\u0083\\\\x82\\u00c3\\u0082\\\\x85.'), ('Rated 4.0', 'RATED\\\\n  I have been to this place atleast 3 times now. I love the ambience. The one thing that kept me getting back to this place was the Hefeweizen beer! The best in Bangalore according to me! I have tried out several breweries and this one tops the list!\\\\n\\\\nThe food at this place is quite mediocre. The malabar seafood was weird. It doesn\\u00c3\\u0083\\\\x83\\u00c3\\u0082\\\\x83\\u00c3\\u0083\\\\x82\\u00c3\\u0082\\\\x82\\u00c3\\u0083\\\\x83\\u00c3\\u0082\\\\x82\\u00c3\\u0083\\\\x82\\u00c3\\u0082\\\\x92t make sense to place a bunch of fried seafood to place on a bed of puffed rice.\\\\nThe tortilla salad pretty good. I would suggest to stick to the salads in this place. It was fresh and flavorful.\\\\nThe main disappointing dish was the beef fillet. It was served with fondant potato, some caramel iced onions, greens and mushrooms. All the components were completely bland.\\\\n\\\\nBut I would still visit this place because I love the Hefeweizen! And the ambience is just too good. Except I noticed they place like 5 songs in a loop.\\\\nI love the beer so much that I\\u00c3\\u0083\\\\x83\\u00c3\\u0082\\\\x83\\u00c3\\u0083\\\\x82\\u00c3\\u0082\\\\x82\\u00c3\\u0083\\\\x83\\u00c3\\u0082\\\\x82\\u00c3\\u0083\\\\x82\\u00c3\\u0082\\\\x92m willing to ignore the rest of the many many flaws ?\\\\n\\\\nThanks for reading!'), ('Rated 5.0', 'RATED\\\\n  The place is LIT ?? This is the first place to go to for yummy desserts, sticky toffee pudding is a must try and not forgetting the Brie and mushrooms!\\\\nThey serve some superb dishes within a wonderful ambience.'), ('Rated 5.0', 'RATED\\\\n  This place is so huge and it has amazing ambience\\\\nWe have been seated outdoor and it has some amazing view\\\\nThis place provides probably the best brewed beers in Bengaluru\\\\nAnd the cocktails here were liit?\\\\nWe have first started with beer samplers\\\\nAnd every beer was just amazing\\\\nWe went for pale ale and golden ale\\\\nAnd the bartender here has made very special cocktails for us\\\\nWe have been served\\\\nBrain damage and jasmine : blended with london dry gin\\\\nSmoking barrel : glenfidich with lemon tea cucumber and hickery fog\\\\nThis has been one of the best cocktails i ever had\\\\nThen we also tried cosmopolitan and akira which were good too\\\\n.\\\\n.\\\\nIn food we have tried chicken sliders ghost kabab chicken nachos and fries\\\\nGhost kabab was very tasty with amazing stuffing\\\\n.\\\\n.\\\\nIn deserts we had toffee with pudding and guava pudding\\\\nI have tried guava pudding for the first time here and it turned out to be very good'), ('Rated 5.0', 'RATED\\\\n  Just fell in love with the food and the ambience over here\\u00c3\\u0083\\\\x83\\u00c3\\u0082\\\\x83\\u00c3\\u0083\\\\x82\\u00c3\\u0082\\\\x82\\u00c3\\u0083\\\\x83\\u00c3\\u0082\\\\x82\\u00c3\\u0083\\\\x82\\u00c3\\u0082\\\\x85 too too toooooo fab worth travelling to such far place with my 1.5 year lil one. Tried a lot of stuff and everything was damn yumm\\u00c3\\u0083\\\\x83\\u00c3\\u0082\\\\x83\\u00c3\\u0083\\\\x82\\u00c3\\u0082\\\\x82\\u00c3\\u0083\\\\x83\\u00c3\\u0082\\\\x82\\u00c3\\u0083\\\\x82\\u00c3\\u0082\\\\x85.'), ('Rated 4.0', 'RATED\\\\n  I have been to this place atleast 3 times now. I love the ambience. The one thing that kept me getting back to this place was the Hefeweizen beer! The best in Bangalore according to me! I have tried out several breweries and this one tops the list!\\\\n\\\\nThe food at this place is quite mediocre. The malabar seafood was weird. It doesn\\u00c3\\u0083\\\\x83\\u00c3\\u0082\\\\x83\\u00c3\\u0083\\\\x82\\u00c3\\u0082\\\\x82\\u00c3\\u0083\\\\x83\\u00c3\\u0082\\\\x82\\u00c3\\u0083\\\\x82\\u00c3\\u0082\\\\x92t make sense to place a bunch of fried seafood to place on a bed of puffed rice.\\\\nThe tortilla salad pretty good. I would suggest to stick to the salads in this place. It was fresh and flavorful.\\\\nThe main disappointing dish was the beef fillet. It was served with fondant potato, some caramel iced onions, greens and mushrooms. All the components were completely bland.\\\\n\\\\nBut I would still visit this place because I love the Hefeweizen! And the ambience is just too good. Except I noticed they place like 5 songs in a loop.\\\\nI love the beer so much that I\\u00c3\\u0083\\\\x83\\u00c3\\u0082\\\\x83\\u00c3\\u0083\\\\x82\\u00c3\\u0082\\\\x82\\u00c3\\u0083\\\\x83\\u00c3\\u0082\\\\x82\\u00c3\\u0083\\\\x82\\u00c3\\u0082\\\\x92m willing to ignore the rest of the many many flaws ?\\\\n\\\\nThanks for reading!'), ('Rated 5.0', 'RATED\\\\n  The place is LIT ?? This is the first place to go to for yummy desserts, sticky toffee pudding is a must try and not forgetting the Brie and mushrooms!\\\\nThey serve some superb dishes within a wonderful ambience.'), ('Rated 5.0', 'RATED\\\\n  This place is so huge and it has amazing ambience\\\\nWe have been seated outdoor and it has some amazing view\\\\nThis place provides probably the best brewed beers in Bengaluru\\\\nAnd the cocktails here were liit?\\\\nWe have first started with beer samplers\\\\nAnd every beer was just amazing\\\\nWe went for pale ale and golden ale\\\\nAnd the bartender here has made very special cocktails for us\\\\nWe have been served\\\\nBrain damage and jasmine : blended with london dry gin\\\\nSmoking barrel : glenfidich with lemon tea cucumber and hickery fog\\\\nThis has been one of the best cocktails i ever had\\\\nThen we also tried cosmopolitan and akira which were good too\\\\n.\\\\n.\\\\nIn food we have tried chicken sliders ghost kabab chicken nachos and fries\\\\nGhost kabab was very tasty with amazing stuffing\\\\n.\\\\n.\\\\nIn deserts we had toffee with pudding and guava pudding\\\\nI have tried guava pudding for the first time here and it turned out to be very good'), ('Rated 5.0', 'RATED\\\\n  Just fell in love with the food and the ambience over here\\u00c3\\u0083\\\\x83\\u00c3\\u0082\\\\x83\\u00c3\\u0083\\\\x82\\u00c3\\u0082\\\\x82\\u00c3\\u0083\\\\x83\\u00c3\\u0082\\\\x82\\u00c3\\u0083\\\\x82\\u00c3\\u0082\\\\x85 too too toooooo fab worth travelling to such far place with my 1.5 year lil one. Tried a lot of stuff and everything was damn yumm\\u00c3\\u0083\\\\x83\\u00c3\\u0082\\\\x83\\u00c3\\u0083\\\\x82\\u00c3\\u0082\\\\x82\\u00c3\\u0083\\\\x83\\u00c3\\u0082\\\\x82\\u00c3\\u0083\\\\x82\\u00c3\\u0082\\\\x85.'), ('Rated 4.0', 'RATED\\\\n  I have been to this place atleast 3 times now. I love the ambience. The one thing that kept me getting back to this place was the Hefeweizen beer! The best in Bangalore according to me! I have tried out several breweries and this one tops the list!\\\\n\\\\nThe food at this place is quite mediocre. The malabar seafood was weird. It doesn\\u00c3\\u0083\\\\x83\\u00c3\\u0082\\\\x83\\u00c3\\u0083\\\\x82\\u00c3\\u0082\\\\x82\\u00c3\\u0083\\\\x83\\u00c3\\u0082\\\\x82\\u00c3\\u0083\\\\x82\\u00c3\\u0082\\\\x92t make sense to place a bunch of fried seafood to place on a bed of puffed rice.\\\\nThe tortilla salad pretty good. I would suggest to stick to the salads in this place. It was fresh and flavorful.\\\\nThe main disappointing dish was the beef fillet. It was served with fondant potato, some caramel iced onions, greens and mushrooms. All the components were completely bland.\\\\n\\\\nBut I would still visit this place because I love the Hefeweizen! And the ambience is just too good. Except I noticed they place like 5 songs in a loop.\\\\nI love the beer so much that I\\u00c3\\u0083\\\\x83\\u00c3\\u0082\\\\x83\\u00c3\\u0083\\\\x82\\u00c3\\u0082\\\\x82\\u00c3\\u0083\\\\x83\\u00c3\\u0082\\\\x82\\u00c3\\u0083\\\\x82\\u00c3\\u0082\\\\x92m willing to ignore the rest of the many many flaws ?\\\\n\\\\nThanks for reading!'), ('Rated 5.0', \\\"RATED\\\\n  One of my favourite microbreweries.\\\\nNot only is the beer of high quality and flavour but so is their food, which packs a punch of flavour.\\\\nReal variety in their menu and it's all knocked out of the park. Any glitches will be rectified immediately.\\\\nGreat place to head with: family, friends, colleagues, and corporate guests as it's classy design and comfort allows one to enjoy and have a conversation too (no loud music).\\\\n\\\\nIn my opinion, what makes this place stand out is that it's the only Microbrewery where the quality of their cocktails matches the quality their beer.\\\\n\\\\nAmbiance, food, drinks, service, crowd quality: all FIVE STAR\\\\n\\\\nTip: making a reservation from Fri-Sun and holidays is always useful.\\\\n\\\\nEnjoy!\\\"), ('Rated 5.0', 'RATED\\\\n  Always have the best time here. The beer, the wine and the cocktails are perfection. The food is really good as well, actually really elegant. The most surprising thing was the wasabi ice cream, just could not get enough.'), ('Rated 5.0', 'RATED\\\\n  One of the classic places that I have been in Whitefield . The place houses two floor occupancy. One being the jazz themed and other roof top I have been to both and they both are equally good. However the roof top is dedicated for the buffet.. The food is just brilliant. The ambience is very cosy and nice..valet parking and smoking zone available..the order comes really fast and no complains with food at all.. it makes your visit worth every penny. if you are a beer lover u must try their beers ?they have fantastic brewery collection. Place to visit anytime anyday the places promises to give u the same expirence.'), ('Rated 5.0', 'RATED\\\\n  I have been there with my team for lunch buffet. Liked the food service and ambience . Overall experience was too good. Would love to visit again.'), ('Rated 5.0', 'RATED\\\\n  I had been to the Terrace multiple times but never to the actual restaurant. My first impression was great. The place has a cozy & warm vibe. The food is consistently terrific & the drinks are on the point. The service was attentive & prompt. I really think you cannot go wrong with this place.'), ('Rated 5.0', \\\"RATED\\\\n  One of my favourite microbreweries.\\\\nNot only is the beer of high quality and flavour but so is their food, which packs a punch of flavour.\\\\nReal variety in their menu and it's all knocked out of the park. Any glitches will be rectified immediately.\\\\nGreat place to head with: family, friends, colleagues, and corporate guests as it's classy design and comfort allows one to enjoy and have a conversation too (no loud music).\\\\n\\\\nIn my opinion, what makes this place stand out is that it's the only Microbrewery where the quality of their cocktails matches the quality their beer.\\\\n\\\\nAmbiance, food, drinks, service, crowd quality: all FIVE STAR\\\\n\\\\nTip: making a reservation from Fri-Sun and holidays is always useful.\\\\n\\\\nEnjoy!\\\"), ('Rated 5.0', 'RATED\\\\n  Always have the best time here. The beer, the wine and the cocktails are perfection. The food is really good as well, actually really elegant. The most surprising thing was the wasabi ice cream, just could not get enough.'), ('Rated 5.0', 'RATED\\\\n  One of the classic places that I have been in Whitefield . The place houses two floor occupancy. One being the jazz themed and other roof top I have been to both and they both are equally good. However the roof top is dedicated for the buffet.. The food is just brilliant. The ambience is very cosy and nice..valet parking and smoking zone available..the order comes really fast and no complains with food at all.. it makes your visit worth every penny. if you are a beer lover u must try their beers ?they have fantastic brewery collection. Place to visit anytime anyday the places promises to give u the same expirence.'), ('Rated 5.0', 'RATED\\\\n  I have been there with my team for lunch buffet. Liked the food service and ambience . Overall experience was too good. Would love to visit again.'), ('Rated 5.0', 'RATED\\\\n  I had been to the Terrace multiple times but never to the actual restaurant. My first impression was great. The place has a cozy & warm vibe. The food is consistently terrific & the drinks are on the point. The service was attentive & prompt. I really think you cannot go wrong with this place.'), ('Rated 5.0', \\\"RATED\\\\n  One of my favourite microbreweries.\\\\nNot only is the beer of high quality and flavour but so is their food, which packs a punch of flavour.\\\\nReal variety in their menu and it's all knocked out of the park. Any glitches will be rectified immediately.\\\\nGreat place to head with: family, friends, colleagues, and corporate guests as it's classy design and comfort allows one to enjoy and have a conversation too (no loud music).\\\\n\\\\nIn my opinion, what makes this place stand out is that it's the only Microbrewery where the quality of their cocktails matches the quality their beer.\\\\n\\\\nAmbiance, food, drinks, service, crowd quality: all FIVE STAR\\\\n\\\\nTip: making a reservation from Fri-Sun and holidays is always useful.\\\\n\\\\nEnjoy!\\\"), ('Rated 5.0', 'RATED\\\\n  Always have the best time here. The beer, the wine and the cocktails are perfection. The food is really good as well, actually really elegant. The most surprising thing was the wasabi ice cream, just could not get enough.'), ('Rated 5.0', 'RATED\\\\n  One of the classic places that I have been in Whitefield . The place houses two floor occupancy. One being the jazz themed and other roof top I have been to both and they both are equally good. However the roof top is dedicated for the buffet.. The food is just brilliant. The ambience is very cosy and nice..valet parking and smoking zone available..the order comes really fast and no complains with food at all.. it makes your visit worth every penny. if you are a beer lover u must try their beers ?they have fantastic brewery collection. Place to visit anytime anyday the places promises to give u the same expirence.'), ('Rated 5.0', 'RATED\\\\n  I have been there with my team for lunch buffet. Liked the food service and ambience . Overall experience was too good. Would love to visit again.'), ('Rated 5.0', 'RATED\\\\n  I had been to the Terrace multiple times but never to the actual restaurant. My first impression was great. The place has a cozy & warm vibe. The food is consistently terrific & the drinks are on the point. The service was attentive & prompt. I really think you cannot go wrong with this place.'), ('Rated 5.0', 'RATED\\\\n  This place has a amazing view from roof top. the ambience is awesome. Food taste good. There are books available at this place. This is a must visit place if you plan to stay in whitefield'), ('Rated 4.0', 'RATED\\\\n  No complaints !!!\\\\nGreat place with very nice decor, yum food , good ambiance, not so expensive, good crowd. ...so wel! Easy way of telling \\\"visit this place\\\".\\\\nMust try their risotto(not everybody\\\\'s favorite), pork chops (ul love it), n my long island ice tea n few more.'), ('Rated 5.0', 'RATED\\\\n  This place has my heart.\\\\nThe beer the food the ambience everything is top notch.\\\\nIf you want to enjoy a beer while working , this place has the perfect soft music, comfy sitting and the calm ambience to do so.\\\\nAlso, if youre a jazz lover, this place organizes special jazz events quite often.\\\\nThe food is a little pricey, but its worth it.\\\\ndefinitely try the guava chicken.its a little sweet but very different and comes with a guava based pink dip.\\\\nThe garlic bread is a perfect option alongside beer.'), ('Rated 4.0', \\\"RATED\\\\n  One of the first places I visited before I moved to bangalore. And this place set the bar for me. How so, read below:\\\\n\\\\nAmbience (5/5): Love their decor, very contemporary design with very elegantly stacked books on the wall and lively little place.\\\\nMusic (5/5): Great choice of Music and perfect decibel levels that sets the mood.\\\\nFood (4/5): Enjoyed the food, some very interesting and exciting menu.\\\\nService (4/5): Good service, it live up to it's standard, but can certainly be great!\\\\n\\\\nOverall 4.5 for me and a very pleasant and delightful evening. They have indoor as well as outdoor seating area. Hope you enjoy your evening too. Good work Windmill Craftworks!!\\\"), ('Rated 4.0', 'RATED\\\\n  Getting a table at this place might be difficult, but it\\u00c3\\u0083\\\\x83\\u00c3\\u0082\\\\x83\\u00c3\\u0083\\\\x82\\u00c3\\u0082\\\\x82\\u00c3\\u0083\\\\x83\\u00c3\\u0082\\\\x82\\u00c3\\u0083\\\\x82\\u00c3\\u0082\\\\x92s worth the wait. They have a lot of books that you can read while enjoying food & drinks. Their Nachos are the best Nachos I ever had. These were not packet Nachos, they tasted better and looked like made by their chef. I also loved no bake Orange Cheesecake with chunks of Fresh oranges.'), ('Rated 5.0', 'RATED\\\\n  This place has a amazing view from roof top. the ambience is awesome. Food taste good. There are books available at this place. This is a must visit place if you plan to stay in whitefield'), ('Rated 4.0', 'RATED\\\\n  No complaints !!!\\\\nGreat place with very nice decor, yum food , good ambiance, not so expensive, good crowd. ...so wel! Easy way of telling \\\"visit this place\\\".\\\\nMust try their risotto(not everybody\\\\'s favorite), pork chops (ul love it), n my long island ice tea n few more.'), ('Rated 5.0', 'RATED\\\\n  This place has my heart.\\\\nThe beer the food the ambience everything is top notch.\\\\nIf you want to enjoy a beer while working , this place has the perfect soft music, comfy sitting and the calm ambience to do so.\\\\nAlso, if youre a jazz lover, this place organizes special jazz events quite often.\\\\nThe food is a little pricey, but its worth it.\\\\ndefinitely try the guava chicken.its a little sweet but very different and comes with a guava based pink dip.\\\\nThe garlic bread is a perfect option alongside beer.'), ('Rated 4.0', \\\"RATED\\\\n  One of the first places I visited before I moved to bangalore. And this place set the bar for me. How so, read below:\\\\n\\\\nAmbience (5/5): Love their decor, very contemporary design with very elegantly stacked books on the wall and lively little place.\\\\nMusic (5/5): Great choice of Music and perfect decibel levels that sets the mood.\\\\nFood (4/5): Enjoyed the food, some very interesting and exciting menu.\\\\nService (4/5): Good service, it live up to it's standard, but can certainly be great!\\\\n\\\\nOverall 4.5 for me and a very pleasant and delightful evening. They have indoor as well as outdoor seating area. Hope you enjoy your evening too. Good work Windmill Craftworks!!\\\"), ('Rated 4.0', 'RATED\\\\n  Getting a table at this place might be difficult, but it\\u00c3\\u0083\\\\x83\\u00c3\\u0082\\\\x83\\u00c3\\u0083\\\\x82\\u00c3\\u0082\\\\x82\\u00c3\\u0083\\\\x83\\u00c3\\u0082\\\\x82\\u00c3\\u0083\\\\x82\\u00c3\\u0082\\\\x92s worth the wait. They have a lot of books that you can read while enjoying food & drinks. Their Nachos are the best Nachos I ever had. These were not packet Nachos, they tasted better and looked like made by their chef. I also loved no bake Orange Cheesecake with chunks of Fresh oranges.'), ('Rated 5.0', 'RATED\\\\n  This place has a amazing view from roof top. the ambience is awesome. Food taste good. There are books available at this place. This is a must visit place if you plan to stay in whitefield'), ('Rated 4.0', 'RATED\\\\n  No complaints !!!\\\\nGreat place with very nice decor, yum food , good ambiance, not so expensive, good crowd. ...so wel! Easy way of telling \\\"visit this place\\\".\\\\nMust try their risotto(not everybody\\\\'s favorite), pork chops (ul love it), n my long island ice tea n few more.'), ('Rated 5.0', 'RATED\\\\n  This place has my heart.\\\\nThe beer the food the ambience everything is top notch.\\\\nIf you want to enjoy a beer while working , this place has the perfect soft music, comfy sitting and the calm ambience to do so.\\\\nAlso, if youre a jazz lover, this place organizes special jazz events quite often.\\\\nThe food is a little pricey, but its worth it.\\\\ndefinitely try the guava chicken.its a little sweet but very different and comes with a guava based pink dip.\\\\nThe garlic bread is a perfect option alongside beer.'), ('Rated 4.0', \\\"RATED\\\\n  One of the first places I visited before I moved to bangalore. And this place set the bar for me. How so, read below:\\\\n\\\\nAmbience (5/5): Love their decor, very contemporary design with very elegantly stacked books on the wall and lively little place.\\\\nMusic (5/5): Great choice of Music and perfect decibel levels that sets the mood.\\\\nFood (4/5): Enjoyed the food, some very interesting and exciting menu.\\\\nService (4/5): Good service, it live up to it's standard, but can certainly be great!\\\\n\\\\nOverall 4.5 for me and a very pleasant and delightful evening. They have indoor as well as outdoor seating area. Hope you enjoy your evening too. Good work Windmill Craftworks!!\\\"), ('Rated 4.0', 'RATED\\\\n  Getting a table at this place might be difficult, but it\\u00c3\\u0083\\\\x83\\u00c3\\u0082\\\\x83\\u00c3\\u0083\\\\x82\\u00c3\\u0082\\\\x82\\u00c3\\u0083\\\\x83\\u00c3\\u0082\\\\x82\\u00c3\\u0083\\\\x82\\u00c3\\u0082\\\\x92s worth the wait. They have a lot of books that you can read while enjoying food & drinks. Their Nachos are the best Nachos I ever had. These were not packet Nachos, they tasted better and looked like made by their chef. I also loved no bake Orange Cheesecake with chunks of Fresh oranges.'), ('Rated 4.0', 'RATED\\\\n  Windmills Craftworks is an authentic brewery, with a lot of variety in drinks. They give you a tablet which helps you in ordering everything and provides you with all the information you need. It is definitely a corporate party place. The food here has a lot of variety too. I loved the nachos here, they were so fully loaded and can go best with your beer. And the ambience is amazingly good.'), ('Rated 5.0', 'RATED\\\\n  Amazing ambience . Drinks too good . Food is ok. Suren service was really good . This place is one of the best places I have visited in Bangalore.'), ('Rated 4.0', 'RATED\\\\n  Windmills is the one which is good for corporate parties ? and recommended for team dinner\\u00c3\\u0083\\\\x83\\u00c3\\u0082\\\\x83\\u00c3\\u0083\\\\x82\\u00c3\\u0082\\\\x82\\u00c3\\u0083\\\\x83\\u00c3\\u0082\\\\x82\\u00c3\\u0083\\\\x82\\u00c3\\u0082\\\\x92s or lunch ?. The food is always good over there. The must try one is chilli ? guava. I heard they have there own prepared beer ?...'), ('Rated 4.0', \\\"RATED\\\\n  First things first , quality comes at a price. This isn't a place where you can have your daily meals. It's very much an upscale restaurant. Speaking about the experience, I loved their ambience with the concept of library bar even though it's not a complete resemblance to some of the other library bars. The brew was one of the best I ever had in Bangalore. Unfortunately I had a very short stint here and didn't get a chance to indulge in the food menu except few sides. I'm looking forward to returning here for a complete dining experience. So far so good.\\\"), ('Rated 4.0', 'RATED\\\\n  Windmills Craftworks is an authentic brewery, with a lot of variety in drinks. They give you a tablet which helps you in ordering everything and provides you with all the information you need. It is definitely a corporate party place. The food here has a lot of variety too. I loved the nachos here, they were so fully loaded and can go best with your beer. And the ambience is amazingly good.'), ('Rated 5.0', 'RATED\\\\n  Amazing ambience . Drinks too good . Food is ok. Suren service was really good . This place is one of the best places I have visited in Bangalore.'), ('Rated 4.0', 'RATED\\\\n  Windmills is the one which is good for corporate parties ? and recommended for team dinner\\u00c3\\u0083\\\\x83\\u00c3\\u0082\\\\x83\\u00c3\\u0083\\\\x82\\u00c3\\u0082\\\\x82\\u00c3\\u0083\\\\x83\\u00c3\\u0082\\\\x82\\u00c3\\u0083\\\\x82\\u00c3\\u0082\\\\x92s or lunch ?. The food is always good over there. The must try one is chilli ? guava. I heard they have there own prepared beer ?...'), ('Rated 4.0', \\\"RATED\\\\n  First things first , quality comes at a price. This isn't a place where you can have your daily meals. It's very much an upscale restaurant. Speaking about the experience, I loved their ambience with the concept of library bar even though it's not a complete resemblance to some of the other library bars. The brew was one of the best I ever had in Bangalore. Unfortunately I had a very short stint here and didn't get a chance to indulge in the food menu except few sides. I'm looking forward to returning here for a complete dining experience. So far so good.\\\"), ('Rated 4.0', 'RATED\\\\n  Windmills Craftworks is an authentic brewery, with a lot of variety in drinks. They give you a tablet which helps you in ordering everything and provides you with all the information you need. It is definitely a corporate party place. The food here has a lot of variety too. I loved the nachos here, they were so fully loaded and can go best with your beer. And the ambience is amazingly good.'), ('Rated 5.0', 'RATED\\\\n  Amazing ambience . Drinks too good . Food is ok. Suren service was really good . This place is one of the best places I have visited in Bangalore.'), ('Rated 4.0', 'RATED\\\\n  Windmills is the one which is good for corporate parties ? and recommended for team dinner\\u00c3\\u0083\\\\x83\\u00c3\\u0082\\\\x83\\u00c3\\u0083\\\\x82\\u00c3\\u0082\\\\x82\\u00c3\\u0083\\\\x83\\u00c3\\u0082\\\\x82\\u00c3\\u0083\\\\x82\\u00c3\\u0082\\\\x92s or lunch ?. The food is always good over there. The must try one is chilli ? guava. I heard they have there own prepared beer ?...'), ('Rated 4.0', \\\"RATED\\\\n  First things first , quality comes at a price. This isn't a place where you can have your daily meals. It's very much an upscale restaurant. Speaking about the experience, I loved their ambience with the concept of library bar even though it's not a complete resemblance to some of the other library bars. The brew was one of the best I ever had in Bangalore. Unfortunately I had a very short stint here and didn't get a chance to indulge in the food menu except few sides. I'm looking forward to returning here for a complete dining experience. So far so good.\\\"), ('Rated 5.0', 'RATED\\\\n  If you want a weekend with good music, classy seating, amazing food and sexy drinks this is the place you should go to. Among food: falafel, chicken tender, beef burger, chicken burger, blueberry cheese cake are the best. The drinks al the beers were fantastic. Mocktails were specially made natural and it was yum yum yum. Be it the exotica, or pine passion wid ginger it was lip smacking delicious.'), ('Rated 5.0', 'RATED\\\\n  One of the best place to be at if you are looking for nice ambience.. my office is next to windmills still it took almost 2 years to be at the place. But I am very happy that finally I visited the place.\\\\nWe ordered trial beer which was for 400 and they served 6 different glass of beer. It was delicious (all of them).\\\\nWe ordered keema pav and chicken kabab that was also delicious ?....\\\\n.\\\\nUnlike other restaurants like these it was not so expensive.. and the taste was worth..\\\\n.\\\\nFood:5/5\\\\nAmbience:5/5\\\\nCost for 2: 1500rs\\\\n.\\\\nAnd yeah we got a special birthday cake of chocolate flavor as complementary..'), ('Rated 4.0', 'RATED\\\\n  Had been there for my friend\\u00c3\\u0083\\\\x83\\u00c3\\u0082\\\\x83\\u00c3\\u0083\\\\x82\\u00c3\\u0082\\\\x82\\u00c3\\u0083\\\\x83\\u00c3\\u0082\\\\x82\\u00c3\\u0083\\\\x82\\u00c3\\u0082\\\\x92s birthday..we ordered a chicken salad, honey potato wedges, chicken kebabs, mutton keema pao, some mocktails and beer..everything except the salad was delicious..the salad din\\u00c3\\u0083\\\\x83\\u00c3\\u0082\\\\x83\\u00c3\\u0083\\\\x82\\u00c3\\u0082\\\\x82\\u00c3\\u0083\\\\x83\\u00c3\\u0082\\\\x82\\u00c3\\u0083\\\\x82\\u00c3\\u0082\\\\x92t have any proper veggies except some cauliflower leaves and the quantity was very less..apart from that, was satisfied with the rest of the delicacies..especially loved the keema pao..the beer was also authentic..loved the ambience and service was also good..will definitely recommend this place ??'), ('Rated 5.0', 'RATED\\\\n  Books, music and great food...The ambience is very minimal and subtle with a great view. I loved the concept of plain yet quirky wooden decor with comfortable seating inside. The arrangement of hardbound books is definitely an enhancement to the atmosphere. We started our afternoon with wine and a very smooth coconut beer. The gloomy weather was indeed pleasant to have a great time in this restaurant. The food was tasty especially the pecan pie...Very polite and courteous staff to help you out. Definitely a great space to have a relaxing lunch or dinner...'), ('Rated 5.0', \\\"RATED\\\\n  When I think about Windmills, I am always lost for words. It's the perfect fine dining experience even admist the city humdrum. Their craft beer is to die for. The gourmet cuisine, their music, the book shelf, the ambience, the service!! I mean, I could just go on. 5-stars are an understatement.\\\"), ('Rated 5.0', 'RATED\\\\n  If you want a weekend with good music, classy seating, amazing food and sexy drinks this is the place you should go to. Among food: falafel, chicken tender, beef burger, chicken burger, blueberry cheese cake are the best. The drinks al the beers were fantastic. Mocktails were specially made natural and it was yum yum yum. Be it the exotica, or pine passion wid ginger it was lip smacking delicious.'), ('Rated 5.0', 'RATED\\\\n  One of the best place to be at if you are looking for nice ambience.. my office is next to windmills still it took almost 2 years to be at the place. But I am very happy that finally I visited the place.\\\\nWe ordered trial beer which was for 400 and they served 6 different glass of beer. It was delicious (all of them).\\\\nWe ordered keema pav and chicken kabab that was also delicious ?....\\\\n.\\\\nUnlike other restaurants like these it was not so expensive.. and the taste was worth..\\\\n.\\\\nFood:5/5\\\\nAmbience:5/5\\\\nCost for 2: 1500rs\\\\n.\\\\nAnd yeah we got a special birthday cake of chocolate flavor as complementary..'), ('Rated 4.0', 'RATED\\\\n  Had been there for my friend\\u00c3\\u0083\\\\x83\\u00c3\\u0082\\\\x83\\u00c3\\u0083\\\\x82\\u00c3\\u0082\\\\x82\\u00c3\\u0083\\\\x83\\u00c3\\u0082\\\\x82\\u00c3\\u0083\\\\x82\\u00c3\\u0082\\\\x92s birthday..we ordered a chicken salad, honey potato wedges, chicken kebabs, mutton keema pao, some mocktails and beer..everything except the salad was delicious..the salad din\\u00c3\\u0083\\\\x83\\u00c3\\u0082\\\\x83\\u00c3\\u0083\\\\x82\\u00c3\\u0082\\\\x82\\u00c3\\u0083\\\\x83\\u00c3\\u0082\\\\x82\\u00c3\\u0083\\\\x82\\u00c3\\u0082\\\\x92t have any proper veggies except some cauliflower leaves and the quantity was very less..apart from that, was satisfied with the rest of the delicacies..especially lo\",\n          \"[('Rated 5.0', 'RATED\\\\n  What: continental and Indian restaurant.\\\\n\\\\nWhere: @taj mg road\\\\n\\\\nAmbience: excellent\\\\n\\\\nStayed @ Taj for some official purpose and had a chance to have breakfast at cafe mozaic. The best place to have breakfast Buffet in Bangalore. They had all south indian breakfast like idli vada, bondas, pakodas, avalakki, dosa, upma, puliyogare bisibelebath etc. And continental foods like omlet, sausages, chicken stew, veg stew, muffins, cup cakes and many more. The list continues. This foods may sound very similar but hygiene level was high.\\\\n\\\\nLoved the stay and food as well.\\\\n\\\\nYes, I would visit this place again.'), ('Rated 4.0', 'RATED\\\\n  Good service and had a good time with my beloved the soup was good and the pasta was also good with spices and was tasty ? the staff was awesome and had a great dinner over all the option for veg is little but the food is good'), ('Rated 3.0', 'RATED\\\\n  Caf\\u00c3\\u0083\\\\x83\\u00c3\\u0082\\\\x83\\u00c3\\u0083\\\\x82\\u00c3\\u0082\\\\x83\\u00c3\\u0083\\\\x83\\u00c3\\u0082\\\\x82\\u00c3\\u0083\\\\x82\\u00c3\\u0082\\u00c2\\u00a9 Mozaic- It is situated on MG Road ? the heart throb of Bangalore. We have been there to celebrate a special day. The ambience is very nice and it?s pretty obvious because it?s a 5 star restaurant. We chose pool side table. The buffet spread here I would say was decent and not huge. Starters they served were totally cold and taste nothing like great. Main course also I found very average. But I liked their dessert section. The service was very prompt; when we complained about cold food they agreed and replaced that dish immediately. The chocolate cake was yummy, which they arranged for our special day. '), ('Rated 3.0', 'RATED\\\\n  The Quality of the buffet has dropped significantly over the last few months. The food tastes standard - definitely not something that you would expect to be produced by a brand like Taj. Disappointed.'), ('Rated 5.0', 'RATED\\\\n  Absolutely love the breakfast here! It has a good ambience and the cakes served here are delicious!\\\\nThe service is very quick and the staff are helpful!')]\"\n        ],\n        \"semantic_type\": \"\",\n        \"description\": \"\"\n      }\n    },\n    {\n      \"column\": \"menu_item\",\n      \"properties\": {\n        \"dtype\": \"category\",\n        \"num_unique_values\": 9098,\n        \"samples\": [\n          \"['Chicken Fried Rice', 'Veg Noodles', 'Egg Noodles', 'Chicken Noodles', 'Litti Chokha', 'Litti Chicken', 'Veg Sweet Corn Soup', 'Veg Manchow Soup', 'Veg Hot and Sour Soup', 'Chicken Sweet Corn Soup', 'Chicken Hot and Sour Soup', 'Chicken Manchow Soup', 'Dal Fry', 'Aloo Jeera', 'Aloo Dum', 'Aloo Gobi', 'Aloo Matar Masala', 'Mushroom Matar Masala', 'Paneer Butter Masala', 'Kadai Paneer', 'Palak Paneer', 'Mixed Veg', 'Chicken Curry', 'Chicken Masala', 'Butter Chicken', 'Kadai Chicken', 'Palak Chicken', 'Chicken Korma', 'Phulka', 'Butter Phulka', 'Ghee Phulka', 'Plain Paratha', 'Steam Rice', 'Jeera Rice', 'Ghee Rice', 'Onion Rice', 'Veg Pulao', 'Veg Fried Rice', 'Mushroom Chilli Fried Rice', 'Veg Spring Onion Fried Rice', 'Veg Schezwan Fried Rice', 'Egg Fried Rice', 'Chicken Schezwan Fried Rice', 'Chicken Fried Rice', 'Veg Noodles', 'Veg Schezwan Noodles', 'Veg Chilli Garlic Noodles', 'Veg Green Dragon Noodles', 'Egg Noodles', 'Chicken Green Dragon Noodles', 'Chicken Chilli Garlic Noodles', 'Chicken Noodles', 'Chicken Schezwan Noodles', 'Mixed Noodles', 'Chilly Baby Corn', 'Hunan Baby Corn', 'Pepper Baby Corn', 'Manchurian Baby Corn', 'Veg Crispy', 'Mushroom Chilli', 'Black Pepper Mushroom', 'Gobi Manchurian', 'Honey Chilli Potato', 'Veg Manchurian', 'Chilli Paneer', 'Egg Manchurian', 'Egg Chilli', 'Spinach Chicken', 'Hunan Chicken', 'Chilli Garlic Chicken', 'Chilli Chicken', 'Honey Chilli Chicken', 'Pepper Chicken', 'Chicken Schezwan', 'Drums of Heaven', 'Chicken Wings', 'Chicken Manchurian Gravy', 'Veg Roll', 'Chilli Paneer Roll', 'Egg Roll', 'Manchurian Egg Roll', 'Chicken Roll', 'Chilli Chicken Roll', 'Veg Maggi', 'Masala Maggi', 'Egg Maggi', 'Chicken Maggi', 'Litti Chokha', 'French Fries', 'Masala Fries', 'Litti Chicken', 'Sattu Beverage', 'Lime Juice']\",\n          \"['Churros [Serves 1]', 'Churros [Serves 2]', 'Nutella and Chocolate Dip Churros', 'Loaded Nachos', 'Sicilia Pizza', 'Barbaresca Pasta', 'Lasagna Alla Nepolitana', 'Thai Green Curry', 'Veg Lunch Box', 'Minestrone Soup', 'Passato Di Verdure Soup', 'Zuppa Di Broccoli Soup', 'Creme Di Funghi Soup', 'Insalata Mista Salad', 'Corleone Salad', 'Insalata Gennarino Salad', 'Contadina Slaad', 'Caesar Salad', 'Pesto Salad', 'Cheese Garlic Bread', 'Masala Garlic Bread', 'Special Crostini', 'Bruschetta', 'Fungi Trifolati', 'Spinach Salsa', 'Jalapeno Salsa', 'Infused Cheese Garlic Mushroom Caps', 'Africano Paneer', 'Loaded Pototo Wedges', 'Honey Pepper Fries', \\\"Melvyn's Fries\\\", 'Cheese Stuffed Jalapeno Veg Balls', 'Stir Fried Veg', 'Loaded Nachos', 'Nachos with Cheese Sauce', 'Tortilla Chips with Salsa', 'Onion Rings', 'Babycorn Longs', 'Cheese Corn Balls', 'Exotic Veg in Cilantro Curry', 'Exotic Veg in Peppery Curry', 'Thai Green Curry', 'Thai Red Curry', 'Exotic Veggies and Cilantro Flavoured Rice', 'Paneer and Spinach Sandwich', 'Mexican Paneer Sandwich', 'Veg Club Sandwich', 'Mexican Veg Sandwich', 'Spinach Corn Cheese Sandwich', 'Churros [Serves 1]', 'Churros [Serves 2]', 'Nutella and Chocolate Dip Churros', 'Fondue [Serves 2]', 'Churros Fiesta', 'Margarita Pizza', 'Fantasia Pizza', 'Purpigna Pizza', 'Peri Peri Pizza', 'Four Seasons Pizza', 'Cross Country Ranch Pizza', 'Rustic Pizza', 'Tabasco Pizza', 'Sicilia Pizza', 'Exotica Pizza', 'Goa Pizza', 'Mediterranean Pizza', 'Indian Pizza', 'Solarina Pizza', 'Pesto Pizza', 'Toe Toe Pizza', 'Paprika Pizza', 'Bombay Pizza', 'Kamarina Pizza', 'Botticino Pizza', 'Sputini Pizza', 'Aglio Olio Peperoncino Pasta', 'All Arrabiata Pasta', 'Barbaresca Pasta', 'Alla Firritiana Pasta', 'Alla Alfredo Pasta', 'All Bakunin Pasta', '4 Stagioni Pasta', 'Primavera Pasta', 'Della Casa Dry Pasta', 'Al Pesto Genovese Pasta', 'Mediterranean Pasta', 'Metauro Pasta', 'Gambaza Pasta', 'Alla Sallome Pasta', 'Del Barone Pasta', 'Masala Mafia Pasta', 'Spinach Cannelloni', 'Lasagna Alla Nepolitana', 'Browine Sundae', 'Chocolate Bomb', 'Cream Caramel', 'Mango Fresh Cheese Cake', 'Pineapple Fresh Cheese Cake', 'Cookie Sundae', 'Classic Spanish Chocolate', 'Aztec Chilli Chocolate', 'Hot and Cold Chocolate', 'Marid Mocha Chocolate', 'Mint Magnifico Chocolate', 'Affogato Coffee', 'Latte Coffee', 'Cappuccino Coffee', 'Americano Coffee', 'Espresso Coffee', 'Spanish Latte Coffee', 'Cafe Mocha Coffee', 'Sunbreeze', 'Virgin Sangria', 'Virgin Pinacolada', 'Shirley Temple', 'Virgin Mojito', 'Fresh Lime Soda', 'Peach Iced Tea', 'Lemon Iced Tea', 'Blue Lagoon', 'Choco Loco Shake', 'Mango Tango Shake', 'Banana Lambada Shake', 'Mocha Mambo Shake', 'Cookie Cha Cha Shake', 'Cream De Fresca Shake', 'Chocolate Creme Pie Shake', 'Iced Coffees Shake']\"\n        ],\n        \"semantic_type\": \"\",\n        \"description\": \"\"\n      }\n    },\n    {\n      \"column\": \"listed_in(type)\",\n      \"properties\": {\n        \"dtype\": \"category\",\n        \"num_unique_values\": 7,\n        \"samples\": [\n          \"Buffet\",\n          \"Cafes\"\n        ],\n        \"semantic_type\": \"\",\n        \"description\": \"\"\n      }\n    },\n    {\n      \"column\": \"listed_in(city)\",\n      \"properties\": {\n        \"dtype\": \"category\",\n        \"num_unique_values\": 30,\n        \"samples\": [\n          \"Residency Road\",\n          \"Kammanahalli\"\n        ],\n        \"semantic_type\": \"\",\n        \"description\": \"\"\n      }\n    }\n  ]\n}"
            }
          },
          "metadata": {},
          "execution_count": 3
        }
      ]
    },
    {
      "cell_type": "code",
      "source": [
        "data.info()"
      ],
      "metadata": {
        "colab": {
          "base_uri": "https://localhost:8080/"
        },
        "id": "tZki8WC9CnYq",
        "outputId": "37a6b0fb-f576-4e99-e3d5-c981accc7010"
      },
      "execution_count": null,
      "outputs": [
        {
          "output_type": "stream",
          "name": "stdout",
          "text": [
            "<class 'pandas.core.frame.DataFrame'>\n",
            "RangeIndex: 51717 entries, 0 to 51716\n",
            "Data columns (total 17 columns):\n",
            " #   Column           Non-Null Count  Dtype  \n",
            "---  ------           --------------  -----  \n",
            " 0   url              51717 non-null  object \n",
            " 1   address          51717 non-null  object \n",
            " 2   name             51717 non-null  object \n",
            " 3   online_order     51717 non-null  object \n",
            " 4   book_table       51717 non-null  object \n",
            " 5   rate             43942 non-null  object \n",
            " 6   votes            51717 non-null  int64  \n",
            " 7   phone            50509 non-null  object \n",
            " 8   location         51696 non-null  object \n",
            " 9   rest_type        51490 non-null  object \n",
            " 10  dish_liked       23639 non-null  object \n",
            " 11  cuisines         51672 non-null  object \n",
            " 12  Target           51371 non-null  float64\n",
            " 13  reviews_list     51717 non-null  object \n",
            " 14  menu_item        51717 non-null  object \n",
            " 15  listed_in(type)  51717 non-null  object \n",
            " 16  listed_in(city)  51717 non-null  object \n",
            "dtypes: float64(1), int64(1), object(15)\n",
            "memory usage: 6.7+ MB\n"
          ]
        }
      ]
    },
    {
      "cell_type": "code",
      "source": [
        "data.isnull().sum()"
      ],
      "metadata": {
        "colab": {
          "base_uri": "https://localhost:8080/"
        },
        "id": "sp9ASjcJD0EG",
        "outputId": "403bbc72-3634-42b8-91f8-85bed99b1112"
      },
      "execution_count": null,
      "outputs": [
        {
          "output_type": "execute_result",
          "data": {
            "text/plain": [
              "url                    0\n",
              "address                0\n",
              "name                   0\n",
              "online_order           0\n",
              "book_table             0\n",
              "rate                7775\n",
              "votes                  0\n",
              "phone               1208\n",
              "location              21\n",
              "rest_type            227\n",
              "dish_liked         28078\n",
              "cuisines              45\n",
              "Target               346\n",
              "reviews_list           0\n",
              "menu_item              0\n",
              "listed_in(type)        0\n",
              "listed_in(city)        0\n",
              "dtype: int64"
            ]
          },
          "metadata": {},
          "execution_count": 5
        }
      ]
    },
    {
      "cell_type": "code",
      "source": [
        "data.isna().sum() #Checking null values"
      ],
      "metadata": {
        "colab": {
          "base_uri": "https://localhost:8080/"
        },
        "id": "6u1ITldRIhiL",
        "outputId": "a1321d22-501f-43eb-ff95-37b8670b21c8"
      },
      "execution_count": null,
      "outputs": [
        {
          "output_type": "execute_result",
          "data": {
            "text/plain": [
              "url                    0\n",
              "address                0\n",
              "name                   0\n",
              "online_order           0\n",
              "book_table             0\n",
              "rate                7775\n",
              "votes                  0\n",
              "phone               1208\n",
              "location              21\n",
              "rest_type            227\n",
              "dish_liked         28078\n",
              "cuisines              45\n",
              "Target               346\n",
              "reviews_list           0\n",
              "menu_item              0\n",
              "listed_in(type)        0\n",
              "listed_in(city)        0\n",
              "dtype: int64"
            ]
          },
          "metadata": {},
          "execution_count": 6
        }
      ]
    },
    {
      "cell_type": "code",
      "source": [
        "df=data.drop(['url','phone'],axis=1) #Dropping the column like \"phone\" and \"url\""
      ],
      "metadata": {
        "id": "EI7ELxHHIk1l"
      },
      "execution_count": null,
      "outputs": []
    },
    {
      "cell_type": "code",
      "source": [
        "df.duplicated().sum()"
      ],
      "metadata": {
        "colab": {
          "base_uri": "https://localhost:8080/"
        },
        "id": "UxNWUEiNIm2W",
        "outputId": "4d309843-e6bd-4c76-ac58-456999ebfa8d"
      },
      "execution_count": null,
      "outputs": [
        {
          "output_type": "execute_result",
          "data": {
            "text/plain": [
              "43"
            ]
          },
          "metadata": {},
          "execution_count": 8
        }
      ]
    },
    {
      "cell_type": "code",
      "source": [
        "df.drop_duplicates(inplace=True)"
      ],
      "metadata": {
        "id": "aXT5kDdCIp1L"
      },
      "execution_count": null,
      "outputs": []
    },
    {
      "cell_type": "code",
      "source": [
        "df.duplicated().sum()"
      ],
      "metadata": {
        "colab": {
          "base_uri": "https://localhost:8080/"
        },
        "id": "hXB9TMlaIsVe",
        "outputId": "163274fc-2aa4-4d0c-d0fa-83f045fe80da"
      },
      "execution_count": null,
      "outputs": [
        {
          "output_type": "execute_result",
          "data": {
            "text/plain": [
              "0"
            ]
          },
          "metadata": {},
          "execution_count": 10
        }
      ]
    },
    {
      "cell_type": "code",
      "source": [
        "df.dropna(how='any',inplace=True)\n",
        "df.isnull().sum()"
      ],
      "metadata": {
        "colab": {
          "base_uri": "https://localhost:8080/"
        },
        "id": "SUXGcVTtIu1-",
        "outputId": "319a472d-d40d-47ba-b0ca-be7bfde1f984"
      },
      "execution_count": null,
      "outputs": [
        {
          "output_type": "execute_result",
          "data": {
            "text/plain": [
              "address            0\n",
              "name               0\n",
              "online_order       0\n",
              "book_table         0\n",
              "rate               0\n",
              "votes              0\n",
              "location           0\n",
              "rest_type          0\n",
              "dish_liked         0\n",
              "cuisines           0\n",
              "Target             0\n",
              "reviews_list       0\n",
              "menu_item          0\n",
              "listed_in(type)    0\n",
              "listed_in(city)    0\n",
              "dtype: int64"
            ]
          },
          "metadata": {},
          "execution_count": 11
        }
      ]
    },
    {
      "cell_type": "code",
      "source": [
        "df.columns"
      ],
      "metadata": {
        "colab": {
          "base_uri": "https://localhost:8080/"
        },
        "id": "Y3v_xMxKMasr",
        "outputId": "1a67d4f0-e98c-439e-db40-2ff02a2bfe61"
      },
      "execution_count": null,
      "outputs": [
        {
          "output_type": "execute_result",
          "data": {
            "text/plain": [
              "Index(['address', 'name', 'online_order', 'book_table', 'rate', 'votes',\n",
              "       'location', 'rest_type', 'dish_liked', 'cuisines', 'Target',\n",
              "       'reviews_list', 'menu_item', 'listed_in(type)', 'listed_in(city)'],\n",
              "      dtype='object')"
            ]
          },
          "metadata": {},
          "execution_count": 12
        }
      ]
    },
    {
      "cell_type": "code",
      "source": [
        "df = df.rename(columns={\n",
        "\n",
        "    'listed_in(type)': 'type',\n",
        "    'listed_in(city)': 'city'\n",
        "})\n",
        "print(df.columns)"
      ],
      "metadata": {
        "colab": {
          "base_uri": "https://localhost:8080/"
        },
        "id": "QznOn-bNIx8q",
        "outputId": "2e5149cb-470e-4ae1-8c0c-0b850c0aa421"
      },
      "execution_count": null,
      "outputs": [
        {
          "output_type": "stream",
          "name": "stdout",
          "text": [
            "Index(['address', 'name', 'online_order', 'book_table', 'rate', 'votes',\n",
            "       'location', 'rest_type', 'dish_liked', 'cuisines', 'Target',\n",
            "       'reviews_list', 'menu_item', 'type', 'city'],\n",
            "      dtype='object')\n"
          ]
        }
      ]
    },
    {
      "cell_type": "code",
      "source": [
        "df.head()"
      ],
      "metadata": {
        "colab": {
          "base_uri": "https://localhost:8080/",
          "height": 590
        },
        "id": "l9WSqFuMM1dH",
        "outputId": "aadd88d1-0778-44b9-959a-f3e51d8b2ad2"
      },
      "execution_count": null,
      "outputs": [
        {
          "output_type": "execute_result",
          "data": {
            "text/plain": [
              "                                             address                   name  \\\n",
              "0  942, 21st Main Road, 2nd Stage, Banashankari, ...                  Jalsa   \n",
              "1  2nd Floor, 80 Feet Road, Near Big Bazaar, 6th ...         Spice Elephant   \n",
              "2  1112, Next to KIMS Medical College, 17th Cross...        San Churro Cafe   \n",
              "3  1st Floor, Annakuteera, 3rd Stage, Banashankar...  Addhuri Udupi Bhojana   \n",
              "4  10, 3rd Floor, Lakshmi Associates, Gandhi Baza...          Grand Village   \n",
              "\n",
              "  online_order book_table   rate  votes      location            rest_type  \\\n",
              "0          Yes        Yes  4.1/5    775  Banashankari        Casual Dining   \n",
              "1          Yes         No  4.1/5    787  Banashankari        Casual Dining   \n",
              "2          Yes         No  3.8/5    918  Banashankari  Cafe, Casual Dining   \n",
              "3           No         No  3.7/5     88  Banashankari          Quick Bites   \n",
              "4           No         No  3.8/5    166  Basavanagudi        Casual Dining   \n",
              "\n",
              "                                          dish_liked  \\\n",
              "0  Pasta, Lunch Buffet, Masala Papad, Paneer Laja...   \n",
              "1  Momos, Lunch Buffet, Chocolate Nirvana, Thai G...   \n",
              "2  Churros, Cannelloni, Minestrone Soup, Hot Choc...   \n",
              "3                                        Masala Dosa   \n",
              "4                                Panipuri, Gol Gappe   \n",
              "\n",
              "                         cuisines  Target  \\\n",
              "0  North Indian, Mughlai, Chinese   800.0   \n",
              "1     Chinese, North Indian, Thai   800.0   \n",
              "2          Cafe, Mexican, Italian   800.0   \n",
              "3      South Indian, North Indian   300.0   \n",
              "4        North Indian, Rajasthani   600.0   \n",
              "\n",
              "                                        reviews_list menu_item    type  \\\n",
              "0  [('Rated 4.0', 'RATED\\n  A beautiful place to ...        []  Buffet   \n",
              "1  [('Rated 4.0', 'RATED\\n  Had been here for din...        []  Buffet   \n",
              "2  [('Rated 3.0', \"RATED\\n  Ambience is not that ...        []  Buffet   \n",
              "3  [('Rated 4.0', \"RATED\\n  Great food and proper...        []  Buffet   \n",
              "4  [('Rated 4.0', 'RATED\\n  Very good restaurant ...        []  Buffet   \n",
              "\n",
              "           city  \n",
              "0  Banashankari  \n",
              "1  Banashankari  \n",
              "2  Banashankari  \n",
              "3  Banashankari  \n",
              "4  Banashankari  "
            ],
            "text/html": [
              "\n",
              "  <div id=\"df-cedd8806-c216-47fa-98f9-5c633802bb81\" class=\"colab-df-container\">\n",
              "    <div>\n",
              "<style scoped>\n",
              "    .dataframe tbody tr th:only-of-type {\n",
              "        vertical-align: middle;\n",
              "    }\n",
              "\n",
              "    .dataframe tbody tr th {\n",
              "        vertical-align: top;\n",
              "    }\n",
              "\n",
              "    .dataframe thead th {\n",
              "        text-align: right;\n",
              "    }\n",
              "</style>\n",
              "<table border=\"1\" class=\"dataframe\">\n",
              "  <thead>\n",
              "    <tr style=\"text-align: right;\">\n",
              "      <th></th>\n",
              "      <th>address</th>\n",
              "      <th>name</th>\n",
              "      <th>online_order</th>\n",
              "      <th>book_table</th>\n",
              "      <th>rate</th>\n",
              "      <th>votes</th>\n",
              "      <th>location</th>\n",
              "      <th>rest_type</th>\n",
              "      <th>dish_liked</th>\n",
              "      <th>cuisines</th>\n",
              "      <th>Target</th>\n",
              "      <th>reviews_list</th>\n",
              "      <th>menu_item</th>\n",
              "      <th>type</th>\n",
              "      <th>city</th>\n",
              "    </tr>\n",
              "  </thead>\n",
              "  <tbody>\n",
              "    <tr>\n",
              "      <th>0</th>\n",
              "      <td>942, 21st Main Road, 2nd Stage, Banashankari, ...</td>\n",
              "      <td>Jalsa</td>\n",
              "      <td>Yes</td>\n",
              "      <td>Yes</td>\n",
              "      <td>4.1/5</td>\n",
              "      <td>775</td>\n",
              "      <td>Banashankari</td>\n",
              "      <td>Casual Dining</td>\n",
              "      <td>Pasta, Lunch Buffet, Masala Papad, Paneer Laja...</td>\n",
              "      <td>North Indian, Mughlai, Chinese</td>\n",
              "      <td>800.0</td>\n",
              "      <td>[('Rated 4.0', 'RATED\\n  A beautiful place to ...</td>\n",
              "      <td>[]</td>\n",
              "      <td>Buffet</td>\n",
              "      <td>Banashankari</td>\n",
              "    </tr>\n",
              "    <tr>\n",
              "      <th>1</th>\n",
              "      <td>2nd Floor, 80 Feet Road, Near Big Bazaar, 6th ...</td>\n",
              "      <td>Spice Elephant</td>\n",
              "      <td>Yes</td>\n",
              "      <td>No</td>\n",
              "      <td>4.1/5</td>\n",
              "      <td>787</td>\n",
              "      <td>Banashankari</td>\n",
              "      <td>Casual Dining</td>\n",
              "      <td>Momos, Lunch Buffet, Chocolate Nirvana, Thai G...</td>\n",
              "      <td>Chinese, North Indian, Thai</td>\n",
              "      <td>800.0</td>\n",
              "      <td>[('Rated 4.0', 'RATED\\n  Had been here for din...</td>\n",
              "      <td>[]</td>\n",
              "      <td>Buffet</td>\n",
              "      <td>Banashankari</td>\n",
              "    </tr>\n",
              "    <tr>\n",
              "      <th>2</th>\n",
              "      <td>1112, Next to KIMS Medical College, 17th Cross...</td>\n",
              "      <td>San Churro Cafe</td>\n",
              "      <td>Yes</td>\n",
              "      <td>No</td>\n",
              "      <td>3.8/5</td>\n",
              "      <td>918</td>\n",
              "      <td>Banashankari</td>\n",
              "      <td>Cafe, Casual Dining</td>\n",
              "      <td>Churros, Cannelloni, Minestrone Soup, Hot Choc...</td>\n",
              "      <td>Cafe, Mexican, Italian</td>\n",
              "      <td>800.0</td>\n",
              "      <td>[('Rated 3.0', \"RATED\\n  Ambience is not that ...</td>\n",
              "      <td>[]</td>\n",
              "      <td>Buffet</td>\n",
              "      <td>Banashankari</td>\n",
              "    </tr>\n",
              "    <tr>\n",
              "      <th>3</th>\n",
              "      <td>1st Floor, Annakuteera, 3rd Stage, Banashankar...</td>\n",
              "      <td>Addhuri Udupi Bhojana</td>\n",
              "      <td>No</td>\n",
              "      <td>No</td>\n",
              "      <td>3.7/5</td>\n",
              "      <td>88</td>\n",
              "      <td>Banashankari</td>\n",
              "      <td>Quick Bites</td>\n",
              "      <td>Masala Dosa</td>\n",
              "      <td>South Indian, North Indian</td>\n",
              "      <td>300.0</td>\n",
              "      <td>[('Rated 4.0', \"RATED\\n  Great food and proper...</td>\n",
              "      <td>[]</td>\n",
              "      <td>Buffet</td>\n",
              "      <td>Banashankari</td>\n",
              "    </tr>\n",
              "    <tr>\n",
              "      <th>4</th>\n",
              "      <td>10, 3rd Floor, Lakshmi Associates, Gandhi Baza...</td>\n",
              "      <td>Grand Village</td>\n",
              "      <td>No</td>\n",
              "      <td>No</td>\n",
              "      <td>3.8/5</td>\n",
              "      <td>166</td>\n",
              "      <td>Basavanagudi</td>\n",
              "      <td>Casual Dining</td>\n",
              "      <td>Panipuri, Gol Gappe</td>\n",
              "      <td>North Indian, Rajasthani</td>\n",
              "      <td>600.0</td>\n",
              "      <td>[('Rated 4.0', 'RATED\\n  Very good restaurant ...</td>\n",
              "      <td>[]</td>\n",
              "      <td>Buffet</td>\n",
              "      <td>Banashankari</td>\n",
              "    </tr>\n",
              "  </tbody>\n",
              "</table>\n",
              "</div>\n",
              "    <div class=\"colab-df-buttons\">\n",
              "\n",
              "  <div class=\"colab-df-container\">\n",
              "    <button class=\"colab-df-convert\" onclick=\"convertToInteractive('df-cedd8806-c216-47fa-98f9-5c633802bb81')\"\n",
              "            title=\"Convert this dataframe to an interactive table.\"\n",
              "            style=\"display:none;\">\n",
              "\n",
              "  <svg xmlns=\"http://www.w3.org/2000/svg\" height=\"24px\" viewBox=\"0 -960 960 960\">\n",
              "    <path d=\"M120-120v-720h720v720H120Zm60-500h600v-160H180v160Zm220 220h160v-160H400v160Zm0 220h160v-160H400v160ZM180-400h160v-160H180v160Zm440 0h160v-160H620v160ZM180-180h160v-160H180v160Zm440 0h160v-160H620v160Z\"/>\n",
              "  </svg>\n",
              "    </button>\n",
              "\n",
              "  <style>\n",
              "    .colab-df-container {\n",
              "      display:flex;\n",
              "      gap: 12px;\n",
              "    }\n",
              "\n",
              "    .colab-df-convert {\n",
              "      background-color: #E8F0FE;\n",
              "      border: none;\n",
              "      border-radius: 50%;\n",
              "      cursor: pointer;\n",
              "      display: none;\n",
              "      fill: #1967D2;\n",
              "      height: 32px;\n",
              "      padding: 0 0 0 0;\n",
              "      width: 32px;\n",
              "    }\n",
              "\n",
              "    .colab-df-convert:hover {\n",
              "      background-color: #E2EBFA;\n",
              "      box-shadow: 0px 1px 2px rgba(60, 64, 67, 0.3), 0px 1px 3px 1px rgba(60, 64, 67, 0.15);\n",
              "      fill: #174EA6;\n",
              "    }\n",
              "\n",
              "    .colab-df-buttons div {\n",
              "      margin-bottom: 4px;\n",
              "    }\n",
              "\n",
              "    [theme=dark] .colab-df-convert {\n",
              "      background-color: #3B4455;\n",
              "      fill: #D2E3FC;\n",
              "    }\n",
              "\n",
              "    [theme=dark] .colab-df-convert:hover {\n",
              "      background-color: #434B5C;\n",
              "      box-shadow: 0px 1px 3px 1px rgba(0, 0, 0, 0.15);\n",
              "      filter: drop-shadow(0px 1px 2px rgba(0, 0, 0, 0.3));\n",
              "      fill: #FFFFFF;\n",
              "    }\n",
              "  </style>\n",
              "\n",
              "    <script>\n",
              "      const buttonEl =\n",
              "        document.querySelector('#df-cedd8806-c216-47fa-98f9-5c633802bb81 button.colab-df-convert');\n",
              "      buttonEl.style.display =\n",
              "        google.colab.kernel.accessAllowed ? 'block' : 'none';\n",
              "\n",
              "      async function convertToInteractive(key) {\n",
              "        const element = document.querySelector('#df-cedd8806-c216-47fa-98f9-5c633802bb81');\n",
              "        const dataTable =\n",
              "          await google.colab.kernel.invokeFunction('convertToInteractive',\n",
              "                                                    [key], {});\n",
              "        if (!dataTable) return;\n",
              "\n",
              "        const docLinkHtml = 'Like what you see? Visit the ' +\n",
              "          '<a target=\"_blank\" href=https://colab.research.google.com/notebooks/data_table.ipynb>data table notebook</a>'\n",
              "          + ' to learn more about interactive tables.';\n",
              "        element.innerHTML = '';\n",
              "        dataTable['output_type'] = 'display_data';\n",
              "        await google.colab.output.renderOutput(dataTable, element);\n",
              "        const docLink = document.createElement('div');\n",
              "        docLink.innerHTML = docLinkHtml;\n",
              "        element.appendChild(docLink);\n",
              "      }\n",
              "    </script>\n",
              "  </div>\n",
              "\n",
              "\n",
              "<div id=\"df-f5329966-5594-45a6-8046-0a2751b7f67d\">\n",
              "  <button class=\"colab-df-quickchart\" onclick=\"quickchart('df-f5329966-5594-45a6-8046-0a2751b7f67d')\"\n",
              "            title=\"Suggest charts\"\n",
              "            style=\"display:none;\">\n",
              "\n",
              "<svg xmlns=\"http://www.w3.org/2000/svg\" height=\"24px\"viewBox=\"0 0 24 24\"\n",
              "     width=\"24px\">\n",
              "    <g>\n",
              "        <path d=\"M19 3H5c-1.1 0-2 .9-2 2v14c0 1.1.9 2 2 2h14c1.1 0 2-.9 2-2V5c0-1.1-.9-2-2-2zM9 17H7v-7h2v7zm4 0h-2V7h2v10zm4 0h-2v-4h2v4z\"/>\n",
              "    </g>\n",
              "</svg>\n",
              "  </button>\n",
              "\n",
              "<style>\n",
              "  .colab-df-quickchart {\n",
              "      --bg-color: #E8F0FE;\n",
              "      --fill-color: #1967D2;\n",
              "      --hover-bg-color: #E2EBFA;\n",
              "      --hover-fill-color: #174EA6;\n",
              "      --disabled-fill-color: #AAA;\n",
              "      --disabled-bg-color: #DDD;\n",
              "  }\n",
              "\n",
              "  [theme=dark] .colab-df-quickchart {\n",
              "      --bg-color: #3B4455;\n",
              "      --fill-color: #D2E3FC;\n",
              "      --hover-bg-color: #434B5C;\n",
              "      --hover-fill-color: #FFFFFF;\n",
              "      --disabled-bg-color: #3B4455;\n",
              "      --disabled-fill-color: #666;\n",
              "  }\n",
              "\n",
              "  .colab-df-quickchart {\n",
              "    background-color: var(--bg-color);\n",
              "    border: none;\n",
              "    border-radius: 50%;\n",
              "    cursor: pointer;\n",
              "    display: none;\n",
              "    fill: var(--fill-color);\n",
              "    height: 32px;\n",
              "    padding: 0;\n",
              "    width: 32px;\n",
              "  }\n",
              "\n",
              "  .colab-df-quickchart:hover {\n",
              "    background-color: var(--hover-bg-color);\n",
              "    box-shadow: 0 1px 2px rgba(60, 64, 67, 0.3), 0 1px 3px 1px rgba(60, 64, 67, 0.15);\n",
              "    fill: var(--button-hover-fill-color);\n",
              "  }\n",
              "\n",
              "  .colab-df-quickchart-complete:disabled,\n",
              "  .colab-df-quickchart-complete:disabled:hover {\n",
              "    background-color: var(--disabled-bg-color);\n",
              "    fill: var(--disabled-fill-color);\n",
              "    box-shadow: none;\n",
              "  }\n",
              "\n",
              "  .colab-df-spinner {\n",
              "    border: 2px solid var(--fill-color);\n",
              "    border-color: transparent;\n",
              "    border-bottom-color: var(--fill-color);\n",
              "    animation:\n",
              "      spin 1s steps(1) infinite;\n",
              "  }\n",
              "\n",
              "  @keyframes spin {\n",
              "    0% {\n",
              "      border-color: transparent;\n",
              "      border-bottom-color: var(--fill-color);\n",
              "      border-left-color: var(--fill-color);\n",
              "    }\n",
              "    20% {\n",
              "      border-color: transparent;\n",
              "      border-left-color: var(--fill-color);\n",
              "      border-top-color: var(--fill-color);\n",
              "    }\n",
              "    30% {\n",
              "      border-color: transparent;\n",
              "      border-left-color: var(--fill-color);\n",
              "      border-top-color: var(--fill-color);\n",
              "      border-right-color: var(--fill-color);\n",
              "    }\n",
              "    40% {\n",
              "      border-color: transparent;\n",
              "      border-right-color: var(--fill-color);\n",
              "      border-top-color: var(--fill-color);\n",
              "    }\n",
              "    60% {\n",
              "      border-color: transparent;\n",
              "      border-right-color: var(--fill-color);\n",
              "    }\n",
              "    80% {\n",
              "      border-color: transparent;\n",
              "      border-right-color: var(--fill-color);\n",
              "      border-bottom-color: var(--fill-color);\n",
              "    }\n",
              "    90% {\n",
              "      border-color: transparent;\n",
              "      border-bottom-color: var(--fill-color);\n",
              "    }\n",
              "  }\n",
              "</style>\n",
              "\n",
              "  <script>\n",
              "    async function quickchart(key) {\n",
              "      const quickchartButtonEl =\n",
              "        document.querySelector('#' + key + ' button');\n",
              "      quickchartButtonEl.disabled = true;  // To prevent multiple clicks.\n",
              "      quickchartButtonEl.classList.add('colab-df-spinner');\n",
              "      try {\n",
              "        const charts = await google.colab.kernel.invokeFunction(\n",
              "            'suggestCharts', [key], {});\n",
              "      } catch (error) {\n",
              "        console.error('Error during call to suggestCharts:', error);\n",
              "      }\n",
              "      quickchartButtonEl.classList.remove('colab-df-spinner');\n",
              "      quickchartButtonEl.classList.add('colab-df-quickchart-complete');\n",
              "    }\n",
              "    (() => {\n",
              "      let quickchartButtonEl =\n",
              "        document.querySelector('#df-f5329966-5594-45a6-8046-0a2751b7f67d button');\n",
              "      quickchartButtonEl.style.display =\n",
              "        google.colab.kernel.accessAllowed ? 'block' : 'none';\n",
              "    })();\n",
              "  </script>\n",
              "</div>\n",
              "\n",
              "    </div>\n",
              "  </div>\n"
            ],
            "application/vnd.google.colaboratory.intrinsic+json": {
              "type": "dataframe",
              "variable_name": "df",
              "summary": "{\n  \"name\": \"df\",\n  \"rows\": 23395,\n  \"fields\": [\n    {\n      \"column\": \"address\",\n      \"properties\": {\n        \"dtype\": \"category\",\n        \"num_unique_values\": 4401,\n        \"samples\": [\n          \"204, 4th Cross, KSRTC Layout, 2nd Phase, JP Nagar, Bangalore\",\n          \"502, 4th C Cross, HRBR Layout 2nd Block Extension, Kalyan Nagar, Bangalore\",\n          \"78, B K Plaza, Kaggadasapura Main Road, Vignan Nagar, Bangalore, Kaggadasapura, Bangalore\"\n        ],\n        \"semantic_type\": \"\",\n        \"description\": \"\"\n      }\n    },\n    {\n      \"column\": \"name\",\n      \"properties\": {\n        \"dtype\": \"category\",\n        \"num_unique_values\": 3174,\n        \"samples\": [\n          \"Lazy Suzy\",\n          \"Tandoor Garden\",\n          \"Asha Food Camp\"\n        ],\n        \"semantic_type\": \"\",\n        \"description\": \"\"\n      }\n    },\n    {\n      \"column\": \"online_order\",\n      \"properties\": {\n        \"dtype\": \"category\",\n        \"num_unique_values\": 2,\n        \"samples\": [\n          \"No\",\n          \"Yes\"\n        ],\n        \"semantic_type\": \"\",\n        \"description\": \"\"\n      }\n    },\n    {\n      \"column\": \"book_table\",\n      \"properties\": {\n        \"dtype\": \"category\",\n        \"num_unique_values\": 2,\n        \"samples\": [\n          \"No\",\n          \"Yes\"\n        ],\n        \"semantic_type\": \"\",\n        \"description\": \"\"\n      }\n    },\n    {\n      \"column\": \"rate\",\n      \"properties\": {\n        \"dtype\": \"category\",\n        \"num_unique_values\": 63,\n        \"samples\": [\n          \"2.0 /5\",\n          \"4.7 /5\"\n        ],\n        \"semantic_type\": \"\",\n        \"description\": \"\"\n      }\n    },\n    {\n      \"column\": \"votes\",\n      \"properties\": {\n        \"dtype\": \"number\",\n        \"std\": 1111,\n        \"min\": 0,\n        \"max\": 16832,\n        \"num_unique_values\": 2303,\n        \"samples\": [\n          598,\n          1391\n        ],\n        \"semantic_type\": \"\",\n        \"description\": \"\"\n      }\n    },\n    {\n      \"column\": \"location\",\n      \"properties\": {\n        \"dtype\": \"category\",\n        \"num_unique_values\": 88,\n        \"samples\": [\n          \"Sadashiv Nagar\",\n          \"Banashankari\"\n        ],\n        \"semantic_type\": \"\",\n        \"description\": \"\"\n      }\n    },\n    {\n      \"column\": \"rest_type\",\n      \"properties\": {\n        \"dtype\": \"category\",\n        \"num_unique_values\": 73,\n        \"samples\": [\n          \"Cafe\",\n          \"Microbrewery, Bar\"\n        ],\n        \"semantic_type\": \"\",\n        \"description\": \"\"\n      }\n    },\n    {\n      \"column\": \"dish_liked\",\n      \"properties\": {\n        \"dtype\": \"category\",\n        \"num_unique_values\": 5238,\n        \"samples\": [\n          \"Luchi, Sweet Corn Veg Soup\",\n          \"Mutton Chops, Mutton Fry, Brain Fry, Mutton Masala, Mutton Curry, Donne Biryani, Chicken Curry\"\n        ],\n        \"semantic_type\": \"\",\n        \"description\": \"\"\n      }\n    },\n    {\n      \"column\": \"cuisines\",\n      \"properties\": {\n        \"dtype\": \"category\",\n        \"num_unique_values\": 1691,\n        \"samples\": [\n          \"Mithai, Fast Food\",\n          \"North Indian, Chinese, Kebab, Beverages\"\n        ],\n        \"semantic_type\": \"\",\n        \"description\": \"\"\n      }\n    },\n    {\n      \"column\": \"Target\",\n      \"properties\": {\n        \"dtype\": \"number\",\n        \"std\": 520.3918272956247,\n        \"min\": 40.0,\n        \"max\": 6000.0,\n        \"num_unique_values\": 57,\n        \"samples\": [\n          800.0,\n          500.0\n        ],\n        \"semantic_type\": \"\",\n        \"description\": \"\"\n      }\n    },\n    {\n      \"column\": \"reviews_list\",\n      \"properties\": {\n        \"dtype\": \"string\",\n        \"num_unique_values\": 14152,\n        \"samples\": [\n          \"[('Rated 4.0', \\\"RATED\\\\n  Quite an old place to have authentic mangalorean food...the decor is old school and have it's own charm..visited two times so far and loved the food..\\\\n\\\\nComing to the food...so far we have tasted mutton ghee roast,calamari sukka,mutton ghee roast biriyani and appam and mutton curry and in dessert had creme brulee...mutton ghee roast and calamari sukka was lil chewy but ghee roast taste was good...mutton ghee roast biriyani was also great and mutton curry with appam was nice...\\\\n\\\\nWhat i feel was ghee roast quantity was lil less according to the prices...\\\\n\\\\nService is good..staffs are friendly and polite..ambience is nice...A must visit place for mangalorean food lovers...want to try their other dishes too...will visit sometime soon...\\\"), ('Rated 2.0', 'RATED\\\\n  I dono how this restaurant got 4+ ratings. Coming to ambience, its typical old school. Nothing fancy. You can old steel dented jugs to serve water. But hygenic.\\\\nComing to food - overrated. Squid was just squid nithing great abt it. Mutton ghee roast nothing very special. Meat was hard and they have potato in between.\\\\nTheir neer dosa is so small and thin that 2 dosa can be consumed as one bite.\\\\nComing to price, its very pricey. Dono why they charge so much. Neither they have unique taste nor they have ambience.\\\\nNot going there agn\\\\nIf u wana try Mangalore cuisine try Meenu ootada Mane. U can feed 4 ppl at this price'), ('Rated 5.0', 'RATED\\\\n  Toms at richmond town is an almost antiqued place with an old world charm. Food is good especially if you are a fan of seafood. Its lil expensive for the quantity they serve but definitely worth a visit. Really liked the macroons. Also the staff are really friendly and super helpful. So one extra star for them'), ('Rated 4.0', 'RATED\\\\n  I visited Bangalore and wanted to have Mangalorean food. Found this place with good rating on zomato gold and it was a great choice. I had mutton ghee roast, koki roti, chicken sukkha, chicken baffat and oh boy the flavors and the taste was great. But I must say that Mangalorean food is quiet spicy. The service was food too. Nothing great about the ambiance of the place though!'), ('Rated 5.0', 'RATED\\\\n  Perfect place to dig in good Mangalorean food, right in the heart of the city. We ordered mutton ghee roast, prawn curry, neer dosa and appams. The portion sizes are good, the food is super yum, and everything is very reasonably priced. This is not the place for high end ambiance. If one goes with the expectation of having good Mangalorean food, then there?s little chance of getting disappointed.'), ('Rated 5.0', \\\"RATED\\\\n  My favorite out of all the restaurants I have visited. Period! Not for it's ambience or extravagance , but for the sheer delight of the food served there. It's the yummiest I have had. The setting is nothing to boast of, just tables with chairs. No decor to talk much. But the food... Is splendid! The pork vindaloo is a must have. Just go and prepare to have your mind blown !\\\"), ('Rated 4.0', \\\"RATED\\\\n  If you are craving for some nice Mangalorean food, Tom's is the place. I been to this place couple of times and have ordered online as well, and every time the experience was satisfying. However, there were occasional issues with the salt quantity in the food. Still, if you love pork, do try their pork dry fry.\\\"), ('Rated 5.0', 'RATED\\\\n  Had ordered Appam and Chicken Curry here..And it was delicious!! Loved their soft Appam and softness of chicken..Very well cooked..We relished very bite of this dish!!'), ('Rated 3.0', \\\"RATED\\\\n  Went for dinner with family and indulged in the following:\\\\n\\\\nPrawn Ghee Roast\\\\nBeef Pepper Fry\\\\nAppams and Mutton Stew\\\\nMutton Ghee Roast Biryani\\\\nMussels Sukkah\\\\nCreme Brulee\\\\n\\\\nThe Prawn Ghee Roast, Beef Pepper Fry and Mutton Ghee Roast Biryani were absolutely delightful and are definite must-tries.\\\\n\\\\nThe Mutton Stew with Appams was a decent fare. Having said that, I personally found the stew to be slightly more sweeter than it should be.\\\\n\\\\nThe Mussels Sukkah was a huge disappointment. Lacking punch in flavour, it didn't come together at all as a dish.\\\\n\\\\nThe Creme Brulee was simply outstanding. A melt in your mouth dessert, it was a great way to end the meal. Without a doubt, a definite must-try.\\\\n\\\\nP.S - Enjoy 1+1 on food with Zomato Gold.\\\"), ('Rated 3.0', \\\"RATED\\\\n  Visited this place after recommendation and again due to my love for Mangalorean Cuisine. The place has a Catholic touch with respect to the interiors. We ordered the Kori Rotti and Tom's Special curry along with appams. The dishes are priced high, the reason might be the bustling street of Richmond Town.\\\\n\\\\nWas disappointed with the food as the Kori Roti curry was tangy & sweetish as opposed to the usual Coconut based gravy. Cant really blame the place as I have never imagined to have my Kori Roti sweet and the dish might not be to my liking. We even found the Special curry sweetish. Would love to visit again maybe to try out some other dishes and then conclude on my review.\\\"), ('Rated 5.0', 'RATED\\\\n  Had ordered Appam and Chicken Curry here..And it was delicious!! Loved their soft Appam and softness of chicken..Very well cooked..We relished very bite of this dish!!'), ('Rated 3.0', \\\"RATED\\\\n  Went for dinner with family and indulged in the following:\\\\n\\\\nPrawn Ghee Roast\\\\nBeef Pepper Fry\\\\nAppams and Mutton Stew\\\\nMutton Ghee Roast Biryani\\\\nMussels Sukkah\\\\nCreme Brulee\\\\n\\\\nThe Prawn Ghee Roast, Beef Pepper Fry and Mutton Ghee Roast Biryani were absolutely delightful and are definite must-tries.\\\\n\\\\nThe Mutton Stew with Appams was a decent fare. Having said that, I personally found the stew to be slightly more sweeter than it should be.\\\\n\\\\nThe Mussels Sukkah was a huge disappointment. Lacking punch in flavour, it didn't come together at all as a dish.\\\\n\\\\nThe Creme Brulee was simply outstanding. A melt in your mouth dessert, it was a great way to end the meal. Without a doubt, a definite must-try.\\\\n\\\\nP.S - Enjoy 1+1 on food with Zomato Gold.\\\"), ('Rated 3.0', \\\"RATED\\\\n  Visited this place after recommendation and again due to my love for Mangalorean Cuisine. The place has a Catholic touch with respect to the interiors. We ordered the Kori Rotti and Tom's Special curry along with appams. The dishes are priced high, the reason might be the bustling street of Richmond Town.\\\\n\\\\nWas disappointed with the food as the Kori Roti curry was tangy & sweetish as opposed to the usual Coconut based gravy. Cant really blame the place as I have never imagined to have my Kori Roti sweet and the dish might not be to my liking. We even found the Special curry sweetish. Would love to visit again maybe to try out some other dishes and then conclude on my review.\\\"), ('Rated 5.0', 'RATED\\\\n  Had ordered Appam and Chicken Curry here..And it was delicious!! Loved their soft Appam and softness of chicken..Very well cooked..We relished very bite of this dish!!'), ('Rated 3.0', \\\"RATED\\\\n  Went for dinner with family and indulged in the following:\\\\n\\\\nPrawn Ghee Roast\\\\nBeef Pepper Fry\\\\nAppams and Mutton Stew\\\\nMutton Ghee Roast Biryani\\\\nMussels Sukkah\\\\nCreme Brulee\\\\n\\\\nThe Prawn Ghee Roast, Beef Pepper Fry and Mutton Ghee Roast Biryani were absolutely delightful and are definite must-tries.\\\\n\\\\nThe Mutton Stew with Appams was a decent fare. Having said that, I personally found the stew to be slightly more sweeter than it should be.\\\\n\\\\nThe Mussels Sukkah was a huge disappointment. Lacking punch in flavour, it didn't come together at all as a dish.\\\\n\\\\nThe Creme Brulee was simply outstanding. A melt in your mouth dessert, it was a great way to end the meal. Without a doubt, a definite must-try.\\\\n\\\\nP.S - Enjoy 1+1 on food with Zomato Gold.\\\"), ('Rated 3.0', \\\"RATED\\\\n  Visited this place after recommendation and again due to my love for Mangalorean Cuisine. The place has a Catholic touch with respect to the interiors. We ordered the Kori Rotti and Tom's Special curry along with appams. The dishes are priced high, the reason might be the bustling street of Richmond Town.\\\\n\\\\nWas disappointed with the food as the Kori Roti curry was tangy & sweetish as opposed to the usual Coconut based gravy. Cant really blame the place as I have never imagined to have my Kori Roti sweet and the dish might not be to my liking. We even found the Special curry sweetish. Would love to visit again maybe to try out some other dishes and then conclude on my review.\\\"), ('Rated 4.0', \\\"RATED\\\\n  Went for lunch on a holiday. Ambiance is fine, old school and decently clean (but nothing extraordinary). Food was good.\\\\n\\\\nChicken Ghee Roast -- Good. Must try with Neer Dosa\\\\nChili Beef Fry -- Good. Must try if you like beef. Can also be had with Kerala Parota.\\\\nMutton Curry -- Didn't like it. Can be avoided.\\\\nFresh Lime Soda -- Decent. You need it with the heavy food.\\\\n\\\\nOverall, a good place to try.\\\"), ('Rated 4.0', \\\"RATED\\\\n  So I was here for Saturday lunch with my friends.\\\\nTom's Restaurant is beside Fatima bakery near Richmond road.\\\\n\\\\nThis is the one of the oldest restaurant in Bangalore. It has decent ambiance, A typical family restaurant this is.\\\\n\\\\nQuiet cool and clam place and very neat and clean.\\\\n\\\\nThey have wide range of food on their menu, If you are hardcore non vegetarian then your stop ends here.\\\\n\\\\nSo quickly coming to what we had were as follows:\\\\n\\\\nIn Starters\\\\n\\\\nMussels Fry, Squid Sukkah, Prawn Ghee Roast, Neer Dosa, Chicken Ghee Roast, Seer Tava fish fry, Pork Dry Fry.\\\\n\\\\nEverything was really good and tasty I liked seer tava fry more..\\\\n\\\\nThey had different types of biryanis one among that should out was prawn Biryani which I liked the most the aroma it had just amazing. Highly recommended one.\\\\n\\\\nComing to my favourite part\\\\n\\\\nDesserts ?\\\\n\\\\nRed Velvet cheese cake, Creme brul\\u00c3\\u0083\\\\x83\\u00c3\\u0082\\\\x83\\u00c3\\u0083\\\\x82\\u00c3\\u0082\\\\x83\\u00c3\\u0083\\\\x83\\u00c3\\u0082\\\\x82\\u00c3\\u0083\\\\x82\\u00c3\\u0082\\u00c2\\u00a9, Sticky toffee pudding and Chocolate ganache.\\\\n\\\\nAll the desserts we're extraordinary really liked it.\\\"), ('Rated 5.0', \\\"RATED\\\\n  Had a late breakfast and I was full, yet I was craving for some delicious coastal food.\\\\n\\\\nSo my destination was TOM'S RESTAURANT.\\\\n\\\\nWent with my friend, the ambience is so got me into homely feeling.A typical classic restaurant.\\\\n\\\\nFOOD:--\\\\n\\\\n1) BEEF SUKKAH : FRIED IN GHEE WITH GENEROUS AMOUNT OF SPICE, had this with neer dosa.OMG what a combo.\\\\n\\\\n2) BASAL FISH FRY :-- Very tender fish fried and served with green salad. After long time had a good fish fry.\\\\n\\\\n3) PRAWN PEPPER FRY:-- This one was amazing n must try. The prawns were oozing with spices and it was so juicy.\\\\n\\\\n4) CHICKEN GHEE ROAST BIRYANI:-- This one is must recommend from my side.\\\\n\\\\n5) HAD SOME LIME JUICES AND SOME DESSERTS WHICH WERE QUITE GOOD.\\\\n\\\\nIf you are a true sea food lover then this place should be in your agenda\\\"), ('Rated 5.0', 'RATED\\\\n  I love the food out here. Just wow. So simple and yet so delicious. Some of the dishes like the Mutton Stew, Toms Special Chicken Curry and Pepper Mutton Fry are mouth watering. Additionally the service is excellent, very polite and helpful staff.'), ('Rated 5.0', 'RATED\\\\n  Visited today. Ate so much, could barely move by the end?. Everything tasted divine, especially made better by how hot each dish was. Scrumptious!'), ('Rated 4.0', \\\"RATED\\\\n  Went for lunch on a holiday. Ambiance is fine, old school and decently clean (but nothing extraordinary). Food was good.\\\\n\\\\nChicken Ghee Roast -- Good. Must try with Neer Dosa\\\\nChili Beef Fry -- Good. Must try if you like beef. Can also be had with Kerala Parota.\\\\nMutton Curry -- Didn't like it. Can be avoided.\\\\nFresh Lime Soda -- Decent. You need it with the heavy food.\\\\n\\\\nOverall, a good place to try.\\\"), ('Rated 4.0', \\\"RATED\\\\n  So I was here for Saturday lunch with my friends.\\\\nTom's Restaurant is beside Fatima bakery near Richmond road.\\\\n\\\\nThis is the one of the oldest restaurant in Bangalore. It has decent ambiance, A typical family restaurant this is.\\\\n\\\\nQuiet cool and clam place and very neat and clean.\\\\n\\\\nThey have wide range of food on their menu, If you are hardcore non vegetarian then your stop ends here.\\\\n\\\\nSo quickly coming to what we had were as follows:\\\\n\\\\nIn Starters\\\\n\\\\nMussels Fry, Squid Sukkah, Prawn Ghee Roast, Neer Dosa, Chicken Ghee Roast, Seer Tava fish fry, Pork Dry Fry.\\\\n\\\\nEverything was really good and tasty I liked seer tava fry more..\\\\n\\\\nThey had different types of biryanis one among that should out was prawn Biryani which I liked the most the aroma it had just amazing. Highly recommended one.\\\\n\\\\nComing to my favourite part\\\\n\\\\nDesserts ?\\\\n\\\\nRed Velvet cheese cake, Creme brul\\u00c3\\u0083\\\\x83\\u00c3\\u0082\\\\x83\\u00c3\\u0083\\\\x82\\u00c3\\u0082\\\\x83\\u00c3\\u0083\\\\x83\\u00c3\\u0082\\\\x82\\u00c3\\u0083\\\\x82\\u00c3\\u0082\\u00c2\\u00a9, Sticky toffee pudding and Chocolate ganache.\\\\n\\\\nAll the desserts we're extraordinary really liked it.\\\"), ('Rated 5.0', \\\"RATED\\\\n  Had a late breakfast and I was full, yet I was craving for some delicious coastal food.\\\\n\\\\nSo my destination was TOM'S RESTAURANT.\\\\n\\\\nWent with my friend, the ambience is so got me into homely feeling.A typical classic restaurant.\\\\n\\\\nFOOD:--\\\\n\\\\n1) BEEF SUKKAH : FRIED IN GHEE WITH GENEROUS AMOUNT OF SPICE, had this with neer dosa.OMG what a combo.\\\\n\\\\n2) BASAL FISH FRY :-- Very tender fish fried and served with green salad. After long time had a good fish fry.\\\\n\\\\n3) PRAWN PEPPER FRY:-- This one was amazing n must try. The prawns were oozing with spices and it was so juicy.\\\\n\\\\n4) CHICKEN GHEE ROAST BIRYANI:-- This one is must recommend from my side.\\\\n\\\\n5) HAD SOME LIME JUICES AND SOME DESSERTS WHICH WERE QUITE GOOD.\\\\n\\\\nIf you are a true sea food lover then this place should be in your agenda\\\"), ('Rated 5.0', 'RATED\\\\n  I love the food out here. Just wow. So simple and yet so delicious. Some of the dishes like the Mutton Stew, Toms Special Chicken Curry and Pepper Mutton Fry are mouth watering. Additionally the service is excellent, very polite and helpful staff.'), ('Rated 5.0', 'RATED\\\\n  Visited today. Ate so much, could barely move by the end?. Everything tasted divine, especially made better by how hot each dish was. Scrumptious!'), ('Rated 3.0', 'RATED\\\\n  ???????????????????????????????????????????????????????????????????????????????????????????????????????????????????????????????????????????????????????????????????????????????????'), ('Rated 4.0', 'RATED\\\\n  Had beef sukka and chicken roast here. Both were good. Quantities were less but Zomato gold made it up for it with 1+1. May visit again to try few other dishes. Overall an average experience. Was not too crowded even on a weekend.'), ('Rated 4.0', \\\"RATED\\\\n  This 1983 restaurant is an authentic place for Mangalorean-Kerala style cuisine.\\\\nThey have the same kind of ambiance that you get in the normally good restaurants in Kerala and Mangalore.\\\\nIt's a standard place to be for family dining.\\\\nBut the place is expensive and the food here is decent and good.\\\\nFood : 4.0/5\\\\nAmbiance : 3.6/5\\\\nService : 4.0/5\\\\nOverall a good place to dine in.\\\"), ('Rated 3.0', 'RATED\\\\n  Overrated. Overpriced. I tried their chicken ghee roast. They will need to rename it chicken oil roast because that was what it was roasted in. And while it was very red, it was not fiery at all and the colour stayed on my fingers for a long time.'), ('Rated 5.0', \\\"RATED\\\\n  Had been to Tom's with family for a Sunday dinner.. the sea food here is just too good.\\\\nWe loved their squid fry. Prawn curry and sannas are to die for. Sannas are soooooo fresh and so tastyy!!\\\\n\\\\nBest part is it's not just the food, ambience is very peaceful ..unlik most restaurants which play loud music and is too chaotic. Tom's is simple and beautiful.\\\\n\\\\nAlso the staff are really kind.\\\"), ('Rated 3.0', 'RATED\\\\n  ???????????????????????????????????????????????????????????????????????????????????????????????????????????????????????????????????????????????????????????????????????????????????'), ('Rated 4.0', 'RATED\\\\n  Had beef sukka and chicken roast here. Both were good. Quantities were less but Zomato gold made it up for it with 1+1. May visit again to try few other dishes. Overall an average experience. Was not too crowded even on a weekend.'), ('Rated 4.0', \\\"RATED\\\\n  This 1983 restaurant is an authentic place for Mangalorean-Kerala style cuisine.\\\\nThey have the same kind of ambiance that you get in the normally good restaurants in Kerala and Mangalore.\\\\nIt's a standard place to be for family dining.\\\\nBut the place is expensive and the food here is decent and good.\\\\nFood : 4.0/5\\\\nAmbiance : 3.6/5\\\\nService : 4.0/5\\\\nOverall a good place to dine in.\\\"), ('Rated 3.0', 'RATED\\\\n  Overrated. Overpriced. I tried their chicken ghee roast. They will need to rename it chicken oil roast because that was what it was roasted in. And while it was very red, it was not fiery at all and the colour stayed on my fingers for a long time.'), ('Rated 5.0', \\\"RATED\\\\n  Had been to Tom's with family for a Sunday dinner.. the sea food here is just too good.\\\\nWe loved their squid fry. Prawn curry and sannas are to die for. Sannas are soooooo fresh and so tastyy!!\\\\n\\\\nBest part is it's not just the food, ambience is very peaceful ..unlik most restaurants which play loud music and is too chaotic. Tom's is simple and beautiful.\\\\n\\\\nAlso the staff are really kind.\\\"), ('Rated 3.0', 'RATED\\\\n  ???????????????????????????????????????????????????????????????????????????????????????????????????????????????????????????????????????????????????????????????????????????????????'), ('Rated 4.0', 'RATED\\\\n  Had beef sukka and chicken roast here. Both were good. Quantities were less but Zomato gold made it up for it with 1+1. May visit again to try few other dishes. Overall an average experience. Was not too crowded even on a weekend.'), ('Rated 4.0', \\\"RATED\\\\n  This 1983 restaurant is an authentic place for Mangalorean-Kerala style cuisine.\\\\nThey have the same kind of ambiance that you get in the normally good restaurants in Kerala and Mangalore.\\\\nIt's a standard place to be for family dining.\\\\nBut the place is expensive and the food here is decent and good.\\\\nFood : 4.0/5\\\\nAmbiance : 3.6/5\\\\nService : 4.0/5\\\\nOverall a good place to dine in.\\\"), ('Rated 3.0', 'RATED\\\\n  Overrated. Overpriced. I tried their chicken ghee roast. They will need to rename it chicken oil roast because that was what it was roasted in. And while it was very red, it was not fiery at all and the colour stayed on my fingers for a long time.'), ('Rated 5.0', \\\"RATED\\\\n  Had been to Tom's with family for a Sunday dinner.. the sea food here is just too good.\\\\nWe loved their squid fry. Prawn curry and sannas are to die for. Sannas are soooooo fresh and so tastyy!!\\\\n\\\\nBest part is it's not just the food, ambience is very peaceful ..unlik most restaurants which play loud music and is too chaotic. Tom's is simple and beautiful.\\\\n\\\\nAlso the staff are really kind.\\\"), ('Rated 4.0', 'RATED\\\\n  A mangalorean delight if not anything.\\\\nIt is inside a hotel and they have parking inside for guests as well.\\\\n\\\\nThe staff and the manager are courteous.\\\\n\\\\nComing to the food,\\\\nThe biryani was a delight, had the prawns too and they did not dissapoint either.\\\\nQuite good on the tastebuds. They adjust the dishes to your spices.\\\\n\\\\nTried the mutton and was pretty soft and curry was thick and tasty as well.\\\\n\\\\nGood with appams and neer dosas to company the mangalore styled dishes.\\\\n\\\\nMust visit if you want to have some mangalore food!'), ('Rated 4.0', \\\"RATED\\\\n  Must visit this place if you are a non vegetarian...\\\\nThey have the best selection in non veg..\\\\nWe had ordered Pork Pepper fry which was amazing!\\\\nThen aapam with tom's special mutton curry was also delicious..\\\\nMoving on, Kerala paratha was good but along with that we had ordered paneer butter masala which was very sweet... Hence for vegetarians I would not suggest this restaurant....\\\\nWe had prawns biryani which was awesome!!\\\\nOverall I would say this restaurant is heaven for non vegetarians!!\\\"), ('Rated 4.0', \\\"RATED\\\\n  It was an impromptu decision to go to Tom's and I would say it was the best decision. They have all non veg varities in their menu and being a Manglorean restaurant, we decided to try out the mangalore varities. Chicken ghee roast was delicious!! Seer fish curry was also good. I had gone through the zomato reviews and saw that the Cream Brulle was recommended by almost all. Saying so, I really had to give it a try. And my! It was delicious!! (I couldn't stop on one and ordered the second time :D)\\\"), ('Rated 4.0', 'RATED\\\\n  Been here multiple times and love the food. Unfortunately, today, the Chicken ghee Roast was terrible coz it din look like ghee Roast at all. When questioned, they said the main chef wasn?t available. The pork n beef are brilliant here along with Neer Dosa. For desserts, their Creme Br\\u00c3\\u0083\\\\x83\\u00c3\\u0082\\\\x83\\u00c3\\u0083\\\\x82\\u00c3\\u0082\\\\x83\\u00c3\\u0083\\\\x83\\u00c3\\u0082\\\\x82\\u00c3\\u0083\\\\x82\\u00c3\\u0082\\u00c2\\u00bbl\\u00c3\\u0083\\\\x83\\u00c3\\u0082\\\\x83\\u00c3\\u0083\\\\x82\\u00c3\\u0082\\\\x83\\u00c3\\u0083\\\\x83\\u00c3\\u0082\\\\x82\\u00c3\\u0083\\\\x82\\u00c3\\u0082\\u00c2\\u00a9e is awesome ?? Can?t find the previous pictures but would suggest Indian Hardcore Non Veg lovers to try this place for a good South Indian experience ?')]\",\n          \"[('Rated 5.0', 'RATED\\\\n  Epic is the word! The food was delicious, pizza, the chicken starters, veg nachos, stuffed mushroom, the main course (paneer mackhani and jeera rice), pasta, everything was good. Staff was so polite. The ambiance is great. 5 on 5 Any day!.'), ('Rated 4.0', 'RATED\\\\n  We had Sunday Lunch in their outside dining area, they have a plenty of food options and each dish was very nicely prepared. Best part was they had lot of varieties of food to offer from different states in India. We had pineapple fried rice, mangalore speciality chana ( it goes really well with beer) , vegetarian nachos, potato pineapple salad! Everything was good except the fact that they were not ready to make small customisations, for instance pineapple fried rice was available only with minced chicken and they were not ready to make it vegetarian!! Else great place! All the best'), ('Rated 4.0', 'RATED\\\\n  Myu Bar is a great place to have a good time with friends over some food and drinks. The staff is quite prompt and friendly. The food and drinks are amazing. The Electric Iced Tea was something new and to be tried if someone likes LIITs.'), ('Rated 5.0', 'RATED\\\\n  Very budget friendly n if u are a zomato gold person u can feast on n nothing is gonna stop u. Look at the quantity n service bang on u guys!! Taste is good too. The team works in so much symphony, it was raining while I was there they had made some arrangements for it, n once the rain stopped, they mopped n cleaned out n made it all just fresh for a perfect Saturday evening. Brews are good as well. Going back soon.'), ('Rated 3.0', 'RATED\\\\n  A nice place to hang out with friends when you want to just sit back and relax and talk about anything and everything. The food is decent, the ambience is great and the overall experience was good.'), ('Rated 4.0', \\\"RATED\\\\n  A beautiful place to hangout with friends. Ambience is good ( except the smell of beer that I hate) especially outside if you don't like the smell of alcohol. The service was quite slow and not so great ,but the taste will make up for that.\\\\n\\\\nWe ordered Mango chill for mocktail,Asian BBQ Chicken wings, double cooked chilli pork, chilli beef, Alfredo chicken pasta and for dessert Lemon Panna cotta and baked cheese cake . Desserts were not upto the mark.\\\\n\\\\nMust try : Asian BBQ Chicken wings\\\\n\\\\nAmbience - 4/5\\\\nTaste - 5/5\\\\nVFM - 3/5\\\\nService - 3/5\\\"), ('Rated 3.0', 'RATED\\\\n  The staff was courteus and friendly,. We ordered paneer tikka and jalapeno cheese balls, the cheese balls were very nice and tasty and the paneer tikka was ok.. Nothing extraordinary. The place was nice and good. Ambience was fine.'), ('Rated 4.0', \\\"RATED\\\\n  If you plan to go here on a weekend make sure to reach early! The music is upbeat crowd is amazing food and cocktails won't disappoint. Definitely a fun place.\\\"), ('Rated 4.0', \\\"RATED\\\\n  A truly amazing place!\\\\nHad a great time on a Sunday with a friend.\\\\nMyu Bar is a part of Gillys Redefined, in Koramangala 4th Block.\\\\n\\\\nThe ambience was great! Full marks for ambience.\\\\n\\\\nThe food was really good! Amazing pizzas! We ordered chicken lollipop too. Even that was great, but pizza was better than expected. We even had one of the craft beers. However, many weren't available. I wonder why wouldn't they stock the beer on a weekend!\\\\n\\\\nThe service is was good; room for improvement.\\\\n\\\\nComing to the pricing, i think its only worth if one has a zomato gold. Or else, i think its a bit expensive compared to the other competitors.\\\\n\\\\nBut overall, had a great experience. Keep it up.\\\"), ('Rated 5.0', 'RATED\\\\n  Loved the ambiance...more than that happy with the hospitality of P.C(I guess so,not sure about the name).... prefer to have more pizzas...I recommend for craft beer'), ('Rated 5.0', \\\"RATED\\\\n  Absolutely great food! Definitely try the Guntur chicken and the kebabs. The hurricane drink - gives you a taste of good 'old' monk!\\\\n\\\\nPappu was extremely friendly and had a really good service! :)\\\"), ('Rated 4.0', 'RATED\\\\n  We went to chill in a Wednesday afternoon. The place was full and boring. Ambience is a big let down. The music was okay. The food is good. We ordered a Barbecue pizza and a French chicken steak and Pizza was good and the steak was tasty and filling. Vijay was courteous.'), ('Rated 4.0', 'RATED\\\\n  Awesome place to hangout with friends. Been there in Saturday evening and got place instantly which was not expected without prior bookings. Tried their craft beer, in-house wine, onion rings, caramel custard, kolkata chicken, crispy prawns, cocktails and totally loved it.\\\\n\\\\nVijay was very helpful, he modified our cocktails as per our likes and requirements. A true customer obsession.\\\\n\\\\nFood - 4.5\\\\nDrinks - 4\\\\nAmbiance - 5\\\\nLocation - 5\\\\nService - 5\\\\n\\\\nOvdrall - 4.5'), ('Rated 3.0', \\\"RATED\\\\n  First if we talk about the ambience , it's pretty good , the place is big enough that you won't feel crowded in here. I visited this place on a Saturday night , the service here is good , prompt and the staff is also responsive. I din like the music that much .\\\\n\\\\nComing to food and beverages .\\\\n\\\\nWe ordered Kingfisher Premium ( which was nice ) whisky in drinks\\\\n\\\\nIn food -\\\\nArrabiata Pasta veg - average , won't recommend it\\\\n\\\\nIndian twist French fried - felt like south Indian tadka on fries , again would have preferred normal ones\\\\n\\\\nGuntur Chicken Tikka - A MUST TRY , if you love spicy food , it is definitely for you . Highly recommended.\\\\n\\\\nOverall-\\\\nAmbience - 4.5/5\\\\nStaff / service - 4/5\\\\nFood - 3/5\\\\n\\\\nOn an average a good place to hangout , if you got nowhere else to go.\\\"), ('Rated 5.0', 'RATED\\\\n  Loved the ambiance...more than that happy with the hospitality of P.C(I guess so,not sure about the name).... prefer to have more pizzas...I recommend for craft beer'), ('Rated 5.0', \\\"RATED\\\\n  Absolutely great food! Definitely try the Guntur chicken and the kebabs. The hurricane drink - gives you a taste of good 'old' monk!\\\\n\\\\nPappu was extremely friendly and had a really good service! :)\\\"), ('Rated 4.0', 'RATED\\\\n  We went to chill in a Wednesday afternoon. The place was full and boring. Ambience is a big let down. The music was okay. The food is good. We ordered a Barbecue pizza and a French chicken steak and Pizza was good and the steak was tasty and filling. Vijay was courteous.'), ('Rated 4.0', 'RATED\\\\n  Awesome place to hangout with friends. Been there in Saturday evening and got place instantly which was not expected without prior bookings. Tried their craft beer, in-house wine, onion rings, caramel custard, kolkata chicken, crispy prawns, cocktails and totally loved it.\\\\n\\\\nVijay was very helpful, he modified our cocktails as per our likes and requirements. A true customer obsession.\\\\n\\\\nFood - 4.5\\\\nDrinks - 4\\\\nAmbiance - 5\\\\nLocation - 5\\\\nService - 5\\\\n\\\\nOvdrall - 4.5'), ('Rated 3.0', \\\"RATED\\\\n  First if we talk about the ambience , it's pretty good , the place is big enough that you won't feel crowded in here. I visited this place on a Saturday night , the service here is good , prompt and the staff is also responsive. I din like the music that much .\\\\n\\\\nComing to food and beverages .\\\\n\\\\nWe ordered Kingfisher Premium ( which was nice ) whisky in drinks\\\\n\\\\nIn food -\\\\nArrabiata Pasta veg - average , won't recommend it\\\\n\\\\nIndian twist French fried - felt like south Indian tadka on fries , again would have preferred normal ones\\\\n\\\\nGuntur Chicken Tikka - A MUST TRY , if you love spicy food , it is definitely for you . Highly recommended.\\\\n\\\\nOverall-\\\\nAmbience - 4.5/5\\\\nStaff / service - 4/5\\\\nFood - 3/5\\\\n\\\\nOn an average a good place to hangout , if you got nowhere else to go.\\\"), ('Rated 5.0', 'RATED\\\\n  Loved the ambiance...more than that happy with the hospitality of P.C(I guess so,not sure about the name).... prefer to have more pizzas...I recommend for craft beer'), ('Rated 5.0', \\\"RATED\\\\n  Absolutely great food! Definitely try the Guntur chicken and the kebabs. The hurricane drink - gives you a taste of good 'old' monk!\\\\n\\\\nPappu was extremely friendly and had a really good service! :)\\\"), ('Rated 4.0', 'RATED\\\\n  We went to chill in a Wednesday afternoon. The place was full and boring. Ambience is a big let down. The music was okay. The food is good. We ordered a Barbecue pizza and a French chicken steak and Pizza was good and the steak was tasty and filling. Vijay was courteous.'), ('Rated 4.0', 'RATED\\\\n  Awesome place to hangout with friends. Been there in Saturday evening and got place instantly which was not expected without prior bookings. Tried their craft beer, in-house wine, onion rings, caramel custard, kolkata chicken, crispy prawns, cocktails and totally loved it.\\\\n\\\\nVijay was very helpful, he modified our cocktails as per our likes and requirements. A true customer obsession.\\\\n\\\\nFood - 4.5\\\\nDrinks - 4\\\\nAmbiance - 5\\\\nLocation - 5\\\\nService - 5\\\\n\\\\nOvdrall - 4.5'), ('Rated 3.0', \\\"RATED\\\\n  First if we talk about the ambience , it's pretty good , the place is big enough that you won't feel crowded in here. I visited this place on a Saturday night , the service here is good , prompt and the staff is also responsive. I din like the music that much .\\\\n\\\\nComing to food and beverages .\\\\n\\\\nWe ordered Kingfisher Premium ( which was nice ) whisky in drinks\\\\n\\\\nIn food -\\\\nArrabiata Pasta veg - average , won't recommend it\\\\n\\\\nIndian twist French fried - felt like south Indian tadka on fries , again would have preferred normal ones\\\\n\\\\nGuntur Chicken Tikka - A MUST TRY , if you love spicy food , it is definitely for you . Highly recommended.\\\\n\\\\nOverall-\\\\nAmbience - 4.5/5\\\\nStaff / service - 4/5\\\\nFood - 3/5\\\\n\\\\nOn an average a good place to hangout , if you got nowhere else to go.\\\"), ('Rated 4.0', 'RATED\\\\n  A good place with an nice draught beer. Ambience is nice and staff is courteous enough. Must try their dal makhani and butter chicken. The music their is also good and a nice place to hang out with your friends. They also have happy hours until 6 pm and on weekends this place is lit as hell.'), ('Rated 3.0', \\\"RATED\\\\n  A hip hangout spot for the young.\\\\n\\\\nAmbience: 3.5/5\\\\nWhile the floor is spacious and open, it can give off a diner-like feel. It tends to be a bit impersonal and can be hard to grab the attention of the servers. The outhouse is lovely and spacious.\\\\n\\\\nService: 4/5\\\\nAll the servers and nice and brisk, keeping things to the point. They are well aware of the menu and drinks and can answer all your questions. It can be hard to get their attention at times.\\\\n\\\\nFood: 3.5/5\\\\nStandard bar food. Tasty but predictable. Their veg biryani is a must try.\\\\n\\\\nDrinks: 3/5\\\\nTheir cocktails are average. They could do with a revamp. Feels as though they aren't keeping up with the rest of Bangalore!!\\\\n\\\\nOverall: 3.5/5\\\\nA fun place to bring your colleagues or college friends to have a loud, fun night!\\\"), ('Rated 3.0', 'RATED\\\\n  Just another hangout place in the busy Koramangala street. Well it\\u00c3\\u0083\\\\x83\\u00c3\\u0082\\\\x83\\u00c3\\u0083\\\\x82\\u00c3\\u0082\\\\x82\\u00c3\\u0083\\\\x83\\u00c3\\u0082\\\\x82\\u00c3\\u0083\\\\x82\\u00c3\\u0082\\\\x92s not the best when compared to peers. You can try once & chose yourself. Not in my frequent visiting list!'), ('Rated 4.0', 'RATED\\\\n  Brewed beer was just average but food and ambience are very good. Karaoke was fun but obviously looking at others sing :) Food wise is pretty decent'), ('Rated 5.0', 'RATED\\\\n  Awesome place! Spent 4 hours here without any boredom. 6 lagers down the throat, lovely ambiance and lovely food. Visit this place for a good experience of a microbrewery. They have a terrace sitting but apparently just with Buffet option. The service guy Pappu suggested us real good beer and food.'), ('Rated 4.0', 'RATED\\\\n  A good place with an nice draught beer. Ambience is nice and staff is courteous enough. Must try their dal makhani and butter chicken. The music their is also good and a nice place to hang out with your friends. They also have happy hours until 6 pm and on weekends this place is lit as hell.'), ('Rated 3.0', \\\"RATED\\\\n  A hip hangout spot for the young.\\\\n\\\\nAmbience: 3.5/5\\\\nWhile the floor is spacious and open, it can give off a diner-like feel. It tends to be a bit impersonal and can be hard to grab the attention of the servers. The outhouse is lovely and spacious.\\\\n\\\\nService: 4/5\\\\nAll the servers and nice and brisk, keeping things to the point. They are well aware of the menu and drinks and can answer all your questions. It can be hard to get their attention at times.\\\\n\\\\nFood: 3.5/5\\\\nStandard bar food. Tasty but predictable. Their veg biryani is a must try.\\\\n\\\\nDrinks: 3/5\\\\nTheir cocktails are average. They could do with a revamp. Feels as though they aren't keeping up with the rest of Bangalore!!\\\\n\\\\nOverall: 3.5/5\\\\nA fun place to bring your colleagues or college friends to have a loud, fun night!\\\"), ('Rated 3.0', 'RATED\\\\n  Just another hangout place in the busy Koramangala street. Well it\\u00c3\\u0083\\\\x83\\u00c3\\u0082\\\\x83\\u00c3\\u0083\\\\x82\\u00c3\\u0082\\\\x82\\u00c3\\u0083\\\\x83\\u00c3\\u0082\\\\x82\\u00c3\\u0083\\\\x82\\u00c3\\u0082\\\\x92s not the best when compared to peers. You can try once & chose yourself. Not in my frequent visiting list!'), ('Rated 4.0', 'RATED\\\\n  Brewed beer was just average but food and ambience are very good. Karaoke was fun but obviously looking at others sing :) Food wise is pretty decent'), ('Rated 5.0', 'RATED\\\\n  Awesome place! Spent 4 hours here without any boredom. 6 lagers down the throat, lovely ambiance and lovely food. Visit this place for a good experience of a microbrewery. They have a terrace sitting but apparently just with Buffet option. The service guy Pappu suggested us real good beer and food.'), ('Rated 4.0', 'RATED\\\\n  A good place with an nice draught beer. Ambience is nice and staff is courteous enough. Must try their dal makhani and butter chicken. The music their is also good and a nice place to hang out with your friends. They also have happy hours until 6 pm and on weekends this place is lit as hell.'), ('Rated 3.0', \\\"RATED\\\\n  A hip hangout spot for the young.\\\\n\\\\nAmbience: 3.5/5\\\\nWhile the floor is spacious and open, it can give off a diner-like feel. It tends to be a bit impersonal and can be hard to grab the attention of the servers. The outhouse is lovely and spacious.\\\\n\\\\nService: 4/5\\\\nAll the servers and nice and brisk, keeping things to the point. They are well aware of the menu and drinks and can answer all your questions. It can be hard to get their attention at times.\\\\n\\\\nFood: 3.5/5\\\\nStandard bar food. Tasty but predictable. Their veg biryani is a must try.\\\\n\\\\nDrinks: 3/5\\\\nTheir cocktails are average. They could do with a revamp. Feels as though they aren't keeping up with the rest of Bangalore!!\\\\n\\\\nOverall: 3.5/5\\\\nA fun place to bring your colleagues or college friends to have a loud, fun night!\\\"), ('Rated 3.0', 'RATED\\\\n  Just another hangout place in the busy Koramangala street. Well it\\u00c3\\u0083\\\\x83\\u00c3\\u0082\\\\x83\\u00c3\\u0083\\\\x82\\u00c3\\u0082\\\\x82\\u00c3\\u0083\\\\x83\\u00c3\\u0082\\\\x82\\u00c3\\u0083\\\\x82\\u00c3\\u0082\\\\x92s not the best when compared to peers. You can try once & chose yourself. Not in my frequent visiting list!'), ('Rated 4.0', 'RATED\\\\n  Brewed beer was just average but food and ambience are very good. Karaoke was fun but obviously looking at others sing :) Food wise is pretty decent'), ('Rated 5.0', 'RATED\\\\n  Awesome place! Spent 4 hours here without any boredom. 6 lagers down the throat, lovely ambiance and lovely food. Visit this place for a good experience of a microbrewery. They have a terrace sitting but apparently just with Buffet option. The service guy Pappu suggested us real good beer and food.'), ('Rated 4.0', 'RATED\\\\n  A good place with an nice draught beer. Ambience is nice and staff is courteous enough. Must try their dal makhani and butter chicken. The music their is also good and a nice place to hang out with your friends. They also have happy hours until 6 pm and on weekends this place is lit as hell.'), ('Rated 3.0', \\\"RATED\\\\n  A hip hangout spot for the young.\\\\n\\\\nAmbience: 3.5/5\\\\nWhile the floor is spacious and open, it can give off a diner-like feel. It tends to be a bit impersonal and can be hard to grab the attention of the servers. The outhouse is lovely and spacious.\\\\n\\\\nService: 4/5\\\\nAll the servers and nice and brisk, keeping things to the point. They are well aware of the menu and drinks and can answer all your questions. It can be hard to get their attention at times.\\\\n\\\\nFood: 3.5/5\\\\nStandard bar food. Tasty but predictable. Their veg biryani is a must try.\\\\n\\\\nDrinks: 3/5\\\\nTheir cocktails are average. They could do with a revamp. Feels as though they aren't keeping up with the rest of Bangalore!!\\\\n\\\\nOverall: 3.5/5\\\\nA fun place to bring your colleagues or college friends to have a loud, fun night!\\\"), ('Rated 3.0', 'RATED\\\\n  Just another hangout place in the busy Koramangala street. Well it\\u00c3\\u0083\\\\x83\\u00c3\\u0082\\\\x83\\u00c3\\u0083\\\\x82\\u00c3\\u0082\\\\x82\\u00c3\\u0083\\\\x83\\u00c3\\u0082\\\\x82\\u00c3\\u0083\\\\x82\\u00c3\\u0082\\\\x92s not the best when compared to peers. You can try once & chose yourself. Not in my frequent visiting list!'), ('Rated 4.0', 'RATED\\\\n  Brewed beer was just average but food and ambience are very good. Karaoke was fun but obviously looking at others sing :) Food wise is pretty decent'), ('Rated 5.0', 'RATED\\\\n  Awesome place! Spent 4 hours here without any boredom. 6 lagers down the throat, lovely ambiance and lovely food. Visit this place for a good experience of a microbrewery. They have a terrace sitting but apparently just with Buffet option. The service guy Pappu suggested us real good beer and food.'), ('Rated 4.0', 'RATED\\\\n  A good place with an nice draught beer. Ambience is nice and staff is courteous enough. Must try their dal makhani and butter chicken. The music their is also good and a nice place to hang out with your friends. They also have happy hours until 6 pm and on weekends this place is lit as hell.'), ('Rated 3.0', \\\"RATED\\\\n  A hip hangout spot for the young.\\\\n\\\\nAmbience: 3.5/5\\\\nWhile the floor is spacious and open, it can give off a diner-like feel. It tends to be a bit impersonal and can be hard to grab the attention of the servers. The outhouse is lovely and spacious.\\\\n\\\\nService: 4/5\\\\nAll the servers and nice and brisk, keeping things to the point. They are well aware of the menu and drinks and can answer all your questions. It can be hard to get their attention at times.\\\\n\\\\nFood: 3.5/5\\\\nStandard bar food. Tasty but predictable. Their veg biryani is a must try.\\\\n\\\\nDrinks: 3/5\\\\nTheir cocktails are average. They could do with a revamp. Feels as though they aren't keeping up with the rest of Bangalore!!\\\\n\\\\nOverall: 3.5/5\\\\nA fun place to bring your colleagues or college friends to have a loud, fun night!\\\"), ('Rated 3.0', 'RATED\\\\n  Just another hangout place in the busy Koramangala street. Well it\\u00c3\\u0083\\\\x83\\u00c3\\u0082\\\\x83\\u00c3\\u0083\\\\x82\\u00c3\\u0082\\\\x82\\u00c3\\u0083\\\\x83\\u00c3\\u0082\\\\x82\\u00c3\\u0083\\\\x82\\u00c3\\u0082\\\\x92s not the best when compared to peers. You can try once & chose yourself. Not in my frequent visiting list!'), ('Rated 4.0', 'RATED\\\\n  Brewed beer was just average but food and ambience are very good. Karaoke was fun but obviously looking at others sing :) Food wise is pretty decent'), ('Rated 5.0', 'RATED\\\\n  Awesome place! Spent 4 hours here without any boredom. 6 lagers down the throat, lovely ambiance and lovely food. Visit this place for a good experience of a microbrewery. They have a terrace sitting but apparently just with Buffet option. The service guy Pappu suggested us real good beer and food.'), ('Rated 4.0', 'RATED\\\\n  A good place with an nice draught beer. Ambience is nice and staff is courteous enough. Must try their dal makhani and butter chicken. The music their is also good and a nice place to hang out with your friends. They also have happy hours until 6 pm and on weekends this place is lit as hell.'), ('Rated 3.0', \\\"RATED\\\\n  A hip hangout spot for the young.\\\\n\\\\nAmbience: 3.5/5\\\\nWhile the floor is spacious and open, it can give off a diner-like feel. It tends to be a bit impersonal and can be hard to grab the attention of the servers. The outhouse is lovely and spacious.\\\\n\\\\nService: 4/5\\\\nAll the servers and nice and brisk, keeping things to the point. They are well aware of the menu and drinks and can answer all your questions. It can be hard to get their attention at times.\\\\n\\\\nFood: 3.5/5\\\\nStandard bar food. Tasty but predictable. Their veg biryani is a must try.\\\\n\\\\nDrinks: 3/5\\\\nTheir cocktails are average. They could do with a revamp. Feels as though they aren't keeping up with the rest of Bangalore!!\\\\n\\\\nOverall: 3.5/5\\\\nA fun place to bring your colleagues or college friends to have a loud, fun night!\\\"), ('Rated 3.0', 'RATED\\\\n  Just another hangout place in the busy Koramangala street. Well it\\u00c3\\u0083\\\\x83\\u00c3\\u0082\\\\x83\\u00c3\\u0083\\\\x82\\u00c3\\u0082\\\\x82\\u00c3\\u0083\\\\x83\\u00c3\\u0082\\\\x82\\u00c3\\u0083\\\\x82\\u00c3\\u0082\\\\x92s not the best when compared to peers. You can try once & chose yourself. Not in my frequent visiting list!'), ('Rated 4.0', 'RATED\\\\n  Brewed beer was just average but food and ambience are very good. Karaoke was fun but obviously looking at others sing :) Food wise is pretty decent'), ('Rated 5.0', 'RATED\\\\n  Awesome place! Spent 4 hours here without any boredom. 6 lagers down the throat, lovely ambiance and lovely food. Visit this place for a good experience of a microbrewery. They have a terrace sitting but apparently just with Buffet option. The service guy Pappu suggested us real good beer and food.'), ('Rated 4.0', 'RATED\\\\n  A good place with an nice draught beer. Ambience is nice and staff is courteous enough. Must try their dal makhani and butter chicken. The music their is also good and a nice place to hang out with your friends. They also have happy hours until 6 pm and on weekends this place is lit as hell.'), ('Rated 3.0', \\\"RATED\\\\n  A hip hangout spot for the young.\\\\n\\\\nAmbience: 3.5/5\\\\nWhile the floor is spacious and open, it can give off a diner-like feel. It tends to be a bit impersonal and can be hard to grab the attention of the servers. The outhouse is lovely and spacious.\\\\n\\\\nService: 4/5\\\\nAll the servers and nice and brisk, keeping things to the point. They are well aware of the menu and drinks and can answer all your questions. It can be hard to get their attention at times.\\\\n\\\\nFood: 3.5/5\\\\nStandard bar food. Tasty but predictable. Their veg biryani is a must try.\\\\n\\\\nDrinks: 3/5\\\\nTheir cocktails are average. They could do with a revamp. Feels as though they aren't keeping up with the rest of Bangalore!!\\\\n\\\\nOverall: 3.5/5\\\\nA fun place to bring your colleagues or college friends to have a loud, fun night!\\\"), ('Rated 3.0', 'RATED\\\\n  Just another hangout place in the busy Koramangala street. Well it\\u00c3\\u0083\\\\x83\\u00c3\\u0082\\\\x83\\u00c3\\u0083\\\\x82\\u00c3\\u0082\\\\x82\\u00c3\\u0083\\\\x83\\u00c3\\u0082\\\\x82\\u00c3\\u0083\\\\x82\\u00c3\\u0082\\\\x92s not the best when compared to peers. You can try once & chose yourself. Not in my frequent visiting list!'), ('Rated 4.0', 'RATED\\\\n  Brewed beer was just average but food and ambience are very good. Karaoke was fun but obviously looking at others sing :) Food wise is pretty decent'), ('Rated 5.0', 'RATED\\\\n  Awesome place! Spent 4 hours here without any boredom. 6 lagers down the throat, lovely ambiance and lovely food. Visit this place for a good experience of a microbrewery. They have a terrace sitting but apparently just with Buffet option. The service guy Pappu suggested us real good beer and food.'), ('Rated 4.0', 'RATED\\\\n  A good place with an nice draught beer. Ambience is nice and staff is courteous enough. Must try their dal makhani and butter chicken. The music their is also good and a nice place to hang out with your friends. They also have happy hours until 6 pm and on weekends this place is lit as hell.'), ('Rated 3.0', \\\"RATED\\\\n  A hip hangout spot for the young.\\\\n\\\\nAmbience: 3.5/5\\\\nWhile the floor is spacious and open, it can give off a diner-like feel. It tends to be a bit impersonal and can be hard to grab the attention of the servers. The outhouse is lovely and spacious.\\\\n\\\\nService: 4/5\\\\nAll the servers and nice and brisk, keeping things to the point. They are well aware of the menu and drinks and can answer all your questions. It can be hard to get their attention at times.\\\\n\\\\nFood: 3.5/5\\\\nStandard bar food. Tasty but predictable. Their veg biryani is a must try.\\\\n\\\\nDrinks: 3/5\\\\nTheir cocktails are average. They could do with a revamp. Feels as though they aren't keeping up with the rest of Bangalore!!\\\\n\\\\nOverall: 3.5/5\\\\nA fun place to bring your colleagues or college friends to have a loud, fun night!\\\"), ('Rated 3.0', 'RATED\\\\n  Just another hangout place in the busy Koramangala street. Well it\\u00c3\\u0083\\\\x83\\u00c3\\u0082\\\\x83\\u00c3\\u0083\\\\x82\\u00c3\\u0082\\\\x82\\u00c3\\u0083\\\\x83\\u00c3\\u0082\\\\x82\\u00c3\\u0083\\\\x82\\u00c3\\u0082\\\\x92s not the best when compared to peers. You can try once & chose yourself. Not in my frequent visiting list!'), ('Rated 4.0', 'RATED\\\\n  Brewed beer was just average but food and ambience are very good. Karaoke was fun but obviously looking at others sing :) Food wise is pretty decent'), ('Rated 5.0', 'RATED\\\\n  Awesome place! Spent 4 hours here without any boredom. 6 lagers down the throat, lovely ambiance and lovely food. Visit this place for a good experience of a microbrewery. They have a terrace sitting but apparently just with Buffet option. The service guy Pappu suggested us real good beer and food.'), ('Rated 4.0', 'RATED\\\\n  A good place with an nice draught beer. Ambience is nice and staff is courteous enough. Must try their dal makhani and butter chicken. The music their is also good and a nice place to hang out with your friends. They also have happy hours until 6 pm and on weekends this place is lit as hell.'), ('Rated 3.0', \\\"RATED\\\\n  A hip hangout spot for the young.\\\\n\\\\nAmbience: 3.5/5\\\\nWhile the floor is spacious and open, it can give off a diner-like feel. It tends to be a bit impersonal and can be hard to grab the attention of the servers. The outhouse is lovely and spacious.\\\\n\\\\nService: 4/5\\\\nAll the servers and nice and brisk, keeping things to the point. They are well aware of the menu and drinks and can answer all your questions. It can be hard to get their attention at times.\\\\n\\\\nFood: 3.5/5\\\\nStandard bar food. Tasty but predictable. Their veg biryani is a must try.\\\\n\\\\nDrinks: 3/5\\\\nTheir cocktails are average. They could do with a revamp. Feels as though they aren't keeping up with the rest of Bangalore!!\\\\n\\\\nOverall: 3.5/5\\\\nA fun place to bring your colleagues or college friends to have a loud, fun night!\\\"), ('Rated 3.0', 'RATED\\\\n  Just another hangout place in the busy Koramangala street. Well it\\u00c3\\u0083\\\\x83\\u00c3\\u0082\\\\x83\\u00c3\\u0083\\\\x82\\u00c3\\u0082\\\\x82\\u00c3\\u0083\\\\x83\\u00c3\\u0082\\\\x82\\u00c3\\u0083\\\\x82\\u00c3\\u0082\\\\x92s not the best when compared to peers. You can try once & chose yourself. Not in my frequent visiting list!'), ('Rated 4.0', 'RATED\\\\n  Brewed beer was just average but food and ambience are very good. Karaoke was fun but obviously looking at others sing :) Food wise is pretty decent'), ('Rated 5.0', 'RATED\\\\n  Awesome place! Spent 4 hours here without any boredom. 6 lagers down the throat, lovely ambiance and lovely food. Visit this place for a good experience of a microbrewery. They have a terrace sitting but apparently just with Buffet option. The service guy Pappu suggested us real good beer and food.'), ('Rated 4.0', 'RATED\\\\n  Overall- 4/5\\\\nReally nice place located at the heart of koramangala. Decent food and music, ok service and great ambience.\\\\n\\\\nFood- 4/5\\\\nService 3/5\\\\nHygiene- 4/5\\\\nMusic- 4/5\\\\nCost- 5/5\\\\nAmbience- 4/5\\\\n\\\\nMy experience- Walked in on a Saturday afternoon for lunch. Was empty and so we did not require any pre-booking. Great ambience and music!! Service could have been better. Took us a long time to place the order, get our food and a longer time to get the bill.\\\\nOrder- French fries Italiano, guava blush, litchi blush, chicken roll, Kolkata egg roll, Pepsi. Total cost- 870/-.\\\\nOverall a great experience, must visit for the good lighting and party music.\\\\nCheers!! Keep hogging, keep gillying!!'), ('Rated 5.0', 'RATED\\\\n  Nice place, been there before also but never disappointed me.. will come back again and will recommend to my colleagues and friends. Cheers to Myu Bar team..'), ('Rated 4.0', 'RATED\\\\n  I enjoyed the drinks. The crowd and the ambience are good. Service is great. But they can definitely do better with the food. And a word of caution - you need to go in early to reserve a place for yourself and your gang - else you might end up waiting for an hour on weekend evenings.'), ('Rated 5.0', 'RATED\\\\n  Always a good experience coming here! The ambience, the food and the MUSIC! Excellent service!\\\\nOrdered the Veg Nachos, Calamari and Volcano chocolate cake! Even got a custom made Guava drink! Love coming here, no matter who the company! Value for money- 10/10'), ('Rated 4.0', 'RATED\\\\n  Overall- 4/5\\\\nReally nice place located at the heart of koramangala. Decent food and music, ok service and great ambience.\\\\n\\\\nFood- 4/5\\\\nService 3/5\\\\nHygiene- 4/5\\\\nMusic- 4/5\\\\nCost- 5/5\\\\nAmbience- 4/5\\\\n\\\\nMy experience- Walked in on a Saturday afternoon for lunch. Was empty and so we did not require any pre-booking. Great ambience and music!! Service could have been better. Took us a long time to place the order, get our food and a longer time to get the bill.\\\\nOrder- French fries Italiano, guava blush, litchi blush, chicken roll, Kolkata egg roll, Pepsi. Total cost- 870/-.\\\\nOverall a great experience, must visit for the good lighting and party music.\\\\nCheers!! Keep hogging, keep gillying!!'), ('Rated 5.0', 'RATED\\\\n  Nice place, been there before also but never disappointed me.. will come back again and will recommend to my colleagues and friends. Cheers to Myu Bar team..'), ('Rated 4.0', 'RATED\\\\n  I enjoyed the drinks. The crowd and the ambience are good. Service is great. But they can definitely do better with the food. And a word of caution - you need to go in early to reserve a place for yourself and your gang - else you might end up waiting for an hour on weekend evenings.'), ('Rated 5.0', 'RATED\\\\n  Always a good experience coming here! The ambience, the food and the MUSIC! Excellent service!\\\\nOrdered the Veg Nachos, Calamari and Volcano chocolate cake! Even got a custom made Guava drink! Love coming here, no matter who the company! Value for money- 10/10'), ('Rated 4.0', 'RATED\\\\n  Overall- 4/5\\\\nReally nice place located at the heart of koramangala. Decent food and music, ok service and great ambience.\\\\n\\\\nFood- 4/5\\\\nService 3/5\\\\nHygiene- 4/5\\\\nMusic- 4/5\\\\nCost- 5/5\\\\nAmbience- 4/5\\\\n\\\\nMy experience- Walked in on a Saturday afternoon for lunch. Was empty and so we did not require any pre-booking. Great ambience and music!! Service could have been better. Took us a long time to place the order, get our food and a longer time to get the bill.\\\\nOrder- French fries Italiano, guava blush, litchi blush, chicken roll, Kolkata egg roll, Pepsi. Total cost- 870/-.\\\\nOverall a great experience, must visit for the good lighting and party music.\\\\nCheers!! Keep hogging, keep gillying!!'), ('Rated 5.0', 'RATED\\\\n  Nice place, been there before also but never disappointed me.. will come back again and will recommend to my colleagues and friends. Cheers to Myu Bar team..'), ('Rated 4.0', 'RATED\\\\n  I enjoyed the drinks. The crowd and the ambience are good. Service is great. But they can definitely do better with the food. And a word of caution - you need to go in early to reserve a place for yourself and your gang - else you might end up waiting for an hour on weekend evenings.'), ('Rated 5.0', 'RATED\\\\n  Always a good experience coming here! The ambience, the food and the MUSIC! Excellent service!\\\\nOrdered the Veg Nachos, Calamari and Volcano chocolate cake! Even got a custom made Guava drink! Love coming here, no matter who the company! Value for money- 10/10'), ('Rated 4.0', 'RATED\\\\n  Overall- 4/5\\\\nReally nice place located at the heart of koramangala. Decent food and music, ok service and great ambience.\\\\n\\\\nFood- 4/5\\\\nService 3/5\\\\nHygiene- 4/5\\\\nMusic- 4/5\\\\nCost- 5/5\\\\nAmbience- 4/5\\\\n\\\\nMy experience- Walked in on a Saturday afternoon for lunch. Was empty and so we did not require any pre-booking. Great ambience and music!! Service could have been better. Took us a long time to place the order, get our food and a longer time to get the bill.\\\\nOrder- French fries Italiano, guava blush, litchi blush, chicken roll, Kolkata egg roll, Pepsi. Total cost- 870/-.\\\\nOverall a great experience, must visit for the good lighting and party music.\\\\nCheers!! Keep hogging, keep gillying!!'), ('Rated 5.0', 'RATED\\\\n  Nice place, been there before also but never disappointed me.. will come back again and will recommend to my colleagues and friends. Cheers to Myu Bar team..'), ('Rated 4.0', 'RATED\\\\n  I enjoyed the drinks. The crowd and the ambience are good. Service is great. But they can definitely do better with the food. And a word of caution - you need to go in early to reserve a place for yourself and your gang - else you might end up waiting for an hour on weekend evenings.'), ('Rated 5.0', 'RATED\\\\n  Always a good experience coming here! The ambience, the food and the MUSIC! Excellent service!\\\\nOrdered the Veg Nachos, Calamari and Volcano chocolate cake! Even got a custom made Guava drink! Love coming here, no matter who the company! Value for money- 10/10'), ('Rated 4.0', 'RATED\\\\n  Overall- 4/5\\\\nReally nice place located at the heart of koramangala. Decent food and music, ok service and great ambience.\\\\n\\\\nFood- 4/5\\\\nService 3/5\\\\nHygiene- 4/5\\\\nMusic- 4/5\\\\nCost- 5/5\\\\nAmbience- 4/5\\\\n\\\\nMy experience- Walked in on a Saturday afternoon for lunch. Was empty and so we did not require any pre-booking. Great ambience and music!! Service could have been better. Took us a long time to place the order, get our food and a longer time to get the bill.\\\\nOrder- French fries Italiano, guava blush, litchi blush, chicken roll, Kolkata egg roll, Pepsi. Total cost- 870/-.\\\\nOverall a great experience, must visit for the good lighting and party music.\\\\nCheers!! Keep hogging, keep gillying!!'), ('Rated 5.0', 'RATED\\\\n  Nice place, been there before also but never disappointed me.. will come back again and will recommend to my colleagues and friends. Cheers to Myu Bar team..'), ('Rated 4.0', 'RATED\\\\n  I enjoyed the drinks. The crowd and the ambience are good. Service is great. But they can definitely do better with the food. And a word of caution - you need to go in early to reserve a place for yourself and your gang - else you might end up waiting for an hour on weekend evenings.'), ('Rated 5.0', 'RATED\\\\n  Always a good experience coming here! The ambience, the food and the MUSIC! Excellent service!\\\\nOrdered the Veg Nachos, Calamari and Volcano chocolate cake! Even got a custom made Guava drink! Love coming here, no matter who the company! Value for money- 10/10'), ('Rated 4.0', 'RATED\\\\n  Overall- 4/5\\\\nReally nice place located at the heart of koramangala. Decent food and music, ok service and great ambience.\\\\n\\\\nFood- 4/5\\\\nService 3/5\\\\nHygiene- 4/5\\\\nMusic- 4/5\\\\nCost- 5/5\\\\nAmbience- 4/5\\\\n\\\\nMy experience- Walked in on a Saturday afternoon for lunch. Was empty and so we did not require any pre-booking. Great ambience and music!! Service could have been better. Took us a long time to place the order, get our food and a longer time to get the bill.\\\\nOrder- French fries Italiano, guava blush, litchi blush, chicken roll, Kolkata egg roll, Pepsi. Total cost- 870/-.\\\\nOverall a great experience, must visit for the good lighting and party music.\\\\nCheers!! Keep hogging, keep gillying!!'), ('Rated 5.0', 'RATED\\\\n  Nice place, been there before also but never disappointed me.. will come back again and will recommend to my colleagues and friends. Cheers to Myu Bar team..'), ('Rated 4.0', 'RATED\\\\n  I enjoyed the drinks. The crowd and the ambience are good. Service is great. But they can definitely do better with the food. And a word of caution - you need to go in early to reserve a place for yourself and your gang - else you might end up waiting for an hour on weekend evenings.'), ('Rated 5.0', 'RATED\\\\n  Always a good experience coming here! The ambience, the food and the MUSIC! Excellent service!\\\\nOrdered the Veg Nachos, Calamari and Volcano chocolate cake! Even got a custom made Guava drink! Love coming here, no matter who the company! Value for money- 10/10'), ('Rated 4.0', 'RATED\\\\n  Overall- 4/5\\\\nReally nice place located at the heart of koramangala. Decent food and music, ok service and great ambience.\\\\n\\\\nFood- 4/5\\\\nService 3/5\\\\nHygiene- 4/5\\\\nMusic- 4/5\\\\nCost- 5/5\\\\nAmbience- 4/5\\\\n\\\\nMy experience- Walked in on a Saturday afternoon for lunch. Was empty and so we did not require any pre-booking. Great ambience and music!! Service could have been better. Took us a long time to place the order, get our food and a longer time to get the bill.\\\\nOrder- French fries Italiano, guava blush, litchi blush, chicken roll, Kolkata egg roll, Pepsi. Total cost- 870/-.\\\\nOverall a great experience, must visit for the good lighting and party music.\\\\nCheers!! Keep hogging, keep gillying!!'), ('Rated 5.0', 'RATED\\\\n  Nice place, been there before also but never disappointed me.. will come back again and will recommend to my colleagues and friends. Cheers to Myu Bar team..'), ('Rated 4.0', 'RATED\\\\n  I enjoyed the drinks. The crowd and the ambience are good. Service is great. But they can definitely do better with the food. And a word of caution - you need to go in early to reserve a place for yourself and your gang - else you might end up waiting for an hour on weekend evenings.'), ('Rated 5.0', 'RATED\\\\n  Always a good experience coming here! The ambience, the food and the MUSIC! Excellent service!\\\\nOrdered the Veg Nachos, Calamari and Volcano chocolate cake! Even got a custom made Guava drink! Love coming here, no matter who the company! Value for money- 10/10'), ('Rated 4.0', 'RATED\\\\n  Overall- 4/5\\\\nReally nice place located at the heart of koramangala. Decent food and music, ok service and great ambience.\\\\n\\\\nFood- 4/5\\\\nService 3/5\\\\nHygiene- 4/5\\\\nMusic- 4/5\\\\nCost- 5/5\\\\nAmbience- 4/5\\\\n\\\\nMy experience- Walked in on a Saturday afternoon for lunch. Was empty and so we did not require any pre-booking. Great ambience and music!! Service could have been better. Took us a long time to place the order, get our food and a longer time to get the bill.\\\\nOrder- French fries Italiano, guava blush, litchi blush, chicken roll, Kolkata egg roll, Pepsi. Total cost- 870/-.\\\\nOverall a great experience, must visit for the good lighting and party music.\\\\nCheers!! Keep hogging, keep gillying!!'), ('Rated 5.0', 'RATED\\\\n  Nice place, been there before also but never disappointed me.. will come back again and will recommend to my colleagues and friends. Cheers to Myu Bar team..'), ('Rated 4.0', 'RATED\\\\n  I enjoyed the drinks. The crowd and the ambience are good. Service is great. But they can definitely do better with the food. And a word of caution - you need to go in early to reserve a place for yourself and your gang - else you might end up waiting for an hour on weekend evenings.'), ('Rated 5.0', 'RATED\\\\n  Always a good experience coming here! The ambience, the food and the MUSIC! Excellent service!\\\\nOrdered the Veg Nachos, Calamari and Volcano chocolate cake! Even got a custom made Guava drink! Love coming here, no matter who the company! Value for money- 10/10'), ('Rated 4.0', 'RATED\\\\n  Overall- 4/5\\\\nReally nice place located at the heart of koramangala. Decent food and music, ok service and great ambience.\\\\n\\\\nFood- 4/5\\\\nService 3/5\\\\nHygiene- 4/5\\\\nMusic- 4/5\\\\nCost- 5/5\\\\nAmbience- 4/5\\\\n\\\\nMy experience- Walked in on a Saturday afternoon for lunch. Was empty and so we did not require any pre-booking. Great ambience and music!! Service could have been better. Took us a long time to place the order, get our food and a longer time to get the bill.\\\\nOrder- French fries Italiano, guava blush, litchi blush, chicken roll, Kolkata egg roll, Pepsi. Total cost- 870/-.\\\\nOverall a great experience, must visit for the good lighting and party music.\\\\nCheers!! Keep hogging, keep gillying!!'), ('Rated 5.0', 'RATED\\\\n  Nice place, been there before also but never disappointed me.. will come back again and will recommend to my colleagues and friends. Cheers to Myu Bar team..'), ('Rated 4.0', 'RATED\\\\n  I enjoyed the drinks. The crowd and the ambience are good. Service is great. But they can definitely do better with the food. And a word of caution - you need to go in early to reserve a place for yourself and your gang - else you might end up waiting for an hour on weekend evenings.'), ('Rated 5.0', 'RATED\\\\n  Always a good experience coming here! The ambience, the food and the MUSIC! Excellent service!\\\\nOrdered the Veg Nachos, Calamari and Volcano chocolate cake! Even got a custom made Guava drink! Love coming here, no matter who the company! Value for money- 10/10'), ('Rated 5.0', 'RATED\\\\n  The food was awesome and the service was at par with any other place in bangalore. I have been visiting this place since its revamp and this places never ceases to amaze. This time we went for the Breezer Vivid gig by Kenneth Sebastian and Anish Mathews at Fandom, Myu Bar. It was an amazing experience, with an awesome hospitality. After the show we went for the first floor restaurant at Myu Bar and ordered some items. Chicken tikka pizza, white sauce and red sauce penne pasta, red sangrias and corn cheese fingers. Everything was perfectly cooked, well balanced spices and had the perfect aroma. The guy who served us Pappu was awesome and was really helpful. They earned a regular customer. ...'), ('Rated 4.0', 'RATED\\\\n  Visited the place on Independence Day. And as expected the crowd was huge. Thanks to Zomato, we have already booked a table for us. And we were seated quite quickly. Zomato gold have 1+1 on food. Food here was quite good. Drinks were great. Ambience was great. Service was bit slow (even with less crowd). But overall experience is quite good.\\\\n\\\\nFood - 4/5\\\\nAmbience - 4/5\\\\nService - 4/5\\\\nOverall - 4/5'), ('Rated 1.0', 'RATED\\\\n  Zomato says, be polite and kind. Does the staff know the meaning of the these words. If you\\u00c3\\u0083\\\\x83\\u00c3\\u0082\\\\x83\\u00c3\\u0083\\\\x82\\u00c3\\u0082\\\\x82\\u00c3\\u0083\\\\x83\\u00c3\\u0082\\\\x82\\u00c3\\u0083\\\\x82\\u00c3\\u0082\\\\x92re looking to have a good time, please avoid this place. The staff is rude, service is bad. Girls cannot feel comfortable here. I can confidently say, it\\u00c3\\u0083\\\\x83\\u00c3\\u0082\\\\x83\\u00c3\\u0083\\\\x82\\u00c3\\u0082\\\\x82\\u00c3\\u0083\\\\x83\\u00c3\\u0082\\\\x82\\u00c3\\u0083\\\\x82\\u00c3\\u0082\\\\x92s unsafe and the worst place I\\u00c3\\u0083\\\\x83\\u00c3\\u0082\\\\x83\\u00c3\\u0083\\\\x82\\u00c3\\u0082\\\\x82\\u00c3\\u0083\\\\x83\\u00c3\\u0082\\\\x82\\u00c3\\u0083\\\\x82\\u00c3\\u0082\\\\x92ve been to in bangalore.'), ('Rated 5.0', 'RATED\\\\n  Food was amazing and the staff courteous. Place was beautiful and worth a visit. Had a chicken stroganoff and was as expected. The wooden benches and tables at the restaurant is something not seen everywhere.'), ('Rated 5.0', 'RATED\\\\n  The food was awesome and the service was at par with any other place in bangalore. I have been visiting this place since its revamp and this places never ceases to amaze. This time we went for the Breezer Vivid gig by Kenneth Sebastian and Anish Mathews at Fandom, Myu Bar. It was an amazing experience, with an awesome hospitality. After the show we went for the first floor restaurant at Myu Bar and ordered some items. Chicken tikka pizza, white sauce and red sauce penne pasta, red sangrias and corn cheese fingers. Everything was perfectly cooked, well balanced spices and had the perfect aroma. The guy who served us Pappu was awesome and was really helpful. They earned a regular customer. ...'), ('Rated 4.0', 'RATED\\\\n  Visited the place on Independence Day. And as expected the crowd was huge. Thanks to Zomato, we have already booked a table for us. And we were seated quite quickly. Zomato gold have 1+1 on food. Food here was quite good. Drinks were great. Ambience was great. Service was bit slow (even with less crowd). But overall experience is quite good.\\\\n\\\\nFood - 4/5\\\\nAmbience - 4/5\\\\nService - 4/5\\\\nOverall - 4/5'), ('Rated 1.0', 'RATED\\\\n  Zomato says, be polite and kind. Does the staff know the meaning of the these words. If you\\u00c3\\u0083\\\\x83\\u00c3\\u0082\\\\x83\\u00c3\\u0083\\\\x82\\u00c3\\u0082\\\\x82\\u00c3\\u0083\\\\x83\\u00c3\\u0082\\\\x82\\u00c3\\u0083\\\\x82\\u00c3\\u0082\\\\x92re looking to have a good time, please avoid this place. The staff is rude, service is bad. Girls cannot feel comfortable here. I can confidently say, it\\u00c3\\u0083\\\\x83\\u00c3\\u0082\\\\x83\\u00c3\\u0083\\\\x82\\u00c3\\u0082\\\\x82\\u00c3\\u0083\\\\x83\\u00c3\\u0082\\\\x82\\u00c3\\u0083\\\\x82\\u00c3\\u0082\\\\x92s unsafe and the worst place I\\u00c3\\u0083\\\\x83\\u00c3\\u0082\\\\x83\\u00c3\\u0083\\\\x82\\u00c3\\u0082\\\\x82\\u00c3\\u0083\\\\x83\\u00c3\\u0082\\\\x82\\u00c3\\u0083\\\\x82\\u00c3\\u0082\\\\x92ve been to in bangalore.'), ('Rated 5.0', 'RATED\\\\n  Food was amazing and the staff courteous. Place was beautiful and worth a visit. Had a chicken stroganoff and was as expected. The wooden benches and tables at the restaurant is something not seen everywhere.'), ('Rated 5.0', 'RATED\\\\n  The food was awesome and the service was at par with any other place in bangalore. I have been visiting this place since its revamp and this places never ceases to amaze. This time we went for the Breezer Vivid gig by Kenneth Sebastian and Anish Mathews at Fandom, Myu Bar. It was an amazing experience, with an awesome hospitality. After the show we went for the first floor restaurant at Myu Bar and ordered some items. Chicken tikka pizza, white sauce and red sauce penne pasta, red sangrias and corn cheese fingers. Everything was perfectly cooked, well balanced spices and had the perfect aroma. The guy who served us Pappu was awesome and was really helpful. They earned a regular customer. ...'), ('Rated 4.0', 'RATED\\\\n  Visited the place on Independence Day. And as expected the crowd was huge. Thanks to Zomato, we have already booked a table for us. And we were seated quite quickly. Zomato gold have 1+1 on food. Food here was quite good. Drinks were great. Ambience was great. Service was bit slow (even with less crowd). But overall experience is quite good.\\\\n\\\\nFood - 4/5\\\\nAmbience - 4/5\\\\nService - 4/5\\\\nOverall - 4/5'), ('Rated 1.0', 'RATED\\\\n  Zomato says, be polite and kind. Does the staff know the meaning of the these words. If you\\u00c3\\u0083\\\\x83\\u00c3\\u0082\\\\x83\\u00c3\\u0083\\\\x82\\u00c3\\u0082\\\\x82\\u00c3\\u0083\\\\x83\\u00c3\\u0082\\\\x82\\u00c3\\u0083\\\\x82\\u00c3\\u0082\\\\x92re looking to have a good time, please avoid this place. The staff is rude, service is bad. Girls cannot feel comfortable here. I can confidently say, it\\u00c3\\u0083\\\\x83\\u00c3\\u0082\\\\x83\\u00c3\\u0083\\\\x82\\u00c3\\u0082\\\\x82\\u00c3\\u0083\\\\x83\\u00c3\\u0082\\\\x82\\u00c3\\u0083\\\\x82\\u00c3\\u0082\\\\x92s unsafe and the worst place I\\u00c3\\u0083\\\\x83\\u00c3\\u0082\\\\x83\\u00c3\\u0083\\\\x82\\u00c3\\u0082\\\\x82\\u00c3\\u0083\\\\x83\\u00c3\\u0082\\\\x82\\u00c3\\u0083\\\\x82\\u00c3\\u0082\\\\x92ve been to in bangalore.'), ('Rated 5.0', 'RATED\\\\n  Food was amazing and the staff courteous. Place was beautiful and worth a visit. Had a chicken stroganoff and was as expected. The wooden benches and tables at the restaurant is something not seen everywhere.'), ('Rated 5.0', 'RATED\\\\n  The food was awesome and the service was at par with any other place in bangalore. I have been visiting this place since its revamp and this places never ceases to amaze. This time we went for the Breezer Vivid gig by Kenneth Sebastian and Anish Mathews at Fandom, Myu Bar. It was an amazing experience, with an awesome hospitality. After the show we went for the first floor restaurant at Myu Bar and ordered some items. Chicken tikka pizza, white sauce and red sauce penne pasta, red sangrias and corn cheese fingers. Everything was perfectly cooked, well balanced spices and had the perfect aroma. The guy who served us Pappu was awesome and was really helpful. They earned a regular customer. ...'), ('Rated 4.0', 'RATED\\\\n  Visited the place on Independence Day. And as expected the crowd was huge. Thanks to Zomato, we have already booked a table for us. And we were seated quite quickly. Zomato gold have 1+1 on food. Food here was quite good. Drinks were great. Ambience was great. Service was bit slow (even with less crowd). But overall experience is quite good.\\\\n\\\\nFood - 4/5\\\\nAmbience - 4/5\\\\nService - 4/5\\\\nOverall - 4/5'), ('Rated 1.0', 'RATED\\\\n  Zomato says, be polite and kind. Does the staff know the meaning of the these words. If you\\u00c3\\u0083\\\\x83\\u00c3\\u0082\\\\x83\\u00c3\\u0083\\\\x82\\u00c3\\u0082\\\\x82\\u00c3\\u0083\\\\x83\\u00c3\\u0082\\\\x82\\u00c3\\u0083\\\\x82\\u00c3\\u0082\\\\x92re looking to have a good time, please avoid this place. The staff is rude, service is bad. Girls cannot feel comfortable here. I can confidently say, it\\u00c3\\u0083\\\\x83\\u00c3\\u0082\\\\x83\\u00c3\\u0083\\\\x82\\u00c3\\u0082\\\\x82\\u00c3\\u0083\\\\x83\\u00c3\\u0082\\\\x82\\u00c3\\u0083\\\\x82\\u00c3\\u0082\\\\x92s unsafe and the worst place I\\u00c3\\u0083\\\\x83\\u00c3\\u0082\\\\x83\\u00c3\\u0083\\\\x82\\u00c3\\u0082\\\\x82\\u00c3\\u0083\\\\x83\\u00c3\\u0082\\\\x82\\u00c3\\u0083\\\\x82\\u00c3\\u0082\\\\x92ve been to in bangalore.'), ('Rated 5.0', 'RATED\\\\n  Food was amazing and the staff courteous. Place was beautiful and worth a visit. Had a chicken stroganoff and was as expected. The wooden benches and tables at the restaurant is something not seen everywhere.'), ('Rated 5.0', 'RATED\\\\n  The food was awesome and the service was at par with any other place in bangalore. I have been visiting this place since its revamp and this places never ceases to amaze. This time we went for the Breezer Vivid gig by Kenneth Sebastian and Anish Mathews at Fandom, Myu Bar. It was an amazing experience, with an awesome hospitality. After the show we went for the first floor restaurant at Myu Bar and ordered some items. Chicken tikka pizza, white sauce and red sauce penne pasta, red sangrias and corn cheese fingers. Everything was perfectly cooked, well balanced spices and had the perfect aroma. The guy who served us Pappu was awesome and was really helpful. They earned a regular customer. ...'), ('Rated 4.0', 'RATED\\\\n  Visited the place on Independence Day. And as expected the crowd was huge. Thanks to Zomato, we have already booked a table for us. And we were seated quite quickly. Zomato gold have 1+1 on food. Food here was quite good. Drinks were great. Ambience was great. Service was bit slow (even with less crowd). But overall experience is quite good.\\\\n\\\\nFood - 4/5\\\\nAmbience - 4/5\\\\nService - 4/5\\\\nOverall - 4/5'), ('Rated 1.0', 'RATED\\\\n  Zomato says, be polite and kind. Does the staff know the meaning of the these words. If you\\u00c3\\u0083\\\\x83\\u00c3\\u0082\\\\x83\\u00c3\\u0083\\\\x82\\u00c3\\u0082\\\\x82\\u00c3\\u0083\\\\x83\\u00c3\\u0082\\\\x82\\u00c3\\u0083\\\\x82\\u00c3\\u0082\\\\x92re looking to have a good time, please avoid this place. The staff is rude, service is bad. Girls cannot feel comfortable here. I can confidently say, it\\u00c3\\u0083\\\\x83\\u00c3\\u0082\\\\x83\\u00c3\\u0083\\\\x82\\u00c3\\u0082\\\\x82\\u00c3\\u0083\\\\x83\\u00c3\\u0082\\\\x82\\u00c3\\u0083\\\\x82\\u00c3\\u0082\\\\x92s unsafe and the worst place I\\u00c3\\u0083\\\\x83\\u00c3\\u0082\\\\x83\\u00c3\\u0083\\\\x82\\u00c3\\u0082\\\\x82\\u00c3\\u0083\\\\x83\\u00c3\\u0082\\\\x82\\u00c3\\u0083\\\\x82\\u00c3\\u0082\\\\x92ve been to in bangalore.'), ('Rated 5.0', 'RATED\\\\n  Food was amazing and the staff courteous. Place was beautiful and worth a visit. Had a chicken stroganoff and was as expected. The wooden benches and tables at the restaurant is something not seen everywhere.'), ('Rated 5.0', 'RATED\\\\n  The food was awesome and the service was at par with any other place in bangalore. I have been visiting this place since its revamp and this places never ceases to amaze. This time we went for the Breezer Vivid gig by Kenneth Sebastian and Anish Mathews at Fandom, Myu Bar. It was an amazing experience, with an awesome hospitality. After the show we went for the first floor restaurant at Myu Bar and ordered some items. Chicken tikka pizza, white sauce and red sauce penne pasta, red sangrias and corn cheese fingers. Everything was perfectly cooked, well balanced spices and had the perfect aroma. The guy who served us Pappu was awesome and was really helpful. They earned a regular customer. ...'), ('Rated 4.0', 'RATED\\\\n  Visited the place on Independence Day. And as expected the crowd was huge. Thanks to Zomato, we have already booked a table for us. And we were seated quite quickly. Zomato gold have 1+1 on food. Food here was quite good. Drinks were great. Ambience was great. Service was bit slow (even with less crowd). But overall experience is quite good.\\\\n\\\\nFood - 4/5\\\\nAmbience - 4/5\\\\nService - 4/5\\\\nOverall - 4/5'), ('Rated 1.0', 'RATED\\\\n  Zomato says, be polite and kind. Does the staff know the meaning of the these words. If you\\u00c3\\u0083\\\\x83\\u00c3\\u0082\\\\x83\\u00c3\\u0083\\\\x82\\u00c3\\u0082\\\\x82\\u00c3\\u0083\\\\x83\\u00c3\\u0082\\\\x82\\u00c3\\u0083\\\\x82\\u00c3\\u0082\\\\x92re looking to have a good time, please avoid this place. The staff is rude, service is bad. Girls cannot feel comfortable here. I can confidently say, it\\u00c3\\u0083\\\\x83\\u00c3\\u0082\\\\x83\\u00c3\\u0083\\\\x82\\u00c3\\u0082\\\\x82\\u00c3\\u0083\\\\x83\\u00c3\\u0082\\\\x82\\u00c3\\u0083\\\\x82\\u00c3\\u0082\\\\x92s unsafe and the worst place I\\u00c3\\u0083\\\\x83\\u00c3\\u0082\\\\x83\\u00c3\\u0083\\\\x82\\u00c3\\u0082\\\\x82\\u00c3\\u0083\\\\x83\\u00c3\\u0082\\\\x82\\u00c3\\u0083\\\\x82\\u00c3\\u0082\\\\x92ve been to in bangalore.'), ('Rated 5.0', 'RATED\\\\n  Food was amazing and the staff courteous. Place was beautiful and worth a visit. Had a chicken stroganoff and was as expected. The wooden benches and tables at the restaurant is something not seen everywhere.'), ('Rated 5.0', 'RATED\\\\n  Visited this place for lunch on a Wednesday We sat on the first floor and opted for the buffet which was Rs 399 plus tax. Definitely worth it .\\\\n\\\\nThe starters were pretty good - Corn and chilly bhajji .\\\\n\\\\nmain course tried out their garlic bread with a panner gravvy.\\\\nFor dessert the mango mousse, which was A grade.\\\\n\\\\nService was prompt. Music was very peepy.\\\\n\\\\nHad a chance to try out their fresh brewed beer also .My favourite was the Chelsea Wit, which was sweet and fruity.\\\\n\\\\nOverall had a good experience. Will be back again to visit the night club and try out their out brewed beers .'), ('Rated 5.0', 'RATED\\\\n  My go to place in Koramangala. Visited the place on A Saturday night . Loved ambiance .\\\\n\\\\nWhat\\\\'s more ? They have started brewing their own beer here too.\\\\n\\\\nThe manager mentioned they have started on 1st of October 2018 . The English Craft Brewing Co has tied up with Gilly\\\\'s.\\\\n\\\\n4 varieties of fresh brews available on tap. Love their names!\\\\n\\\\nThese beers with a side portion of some spicy fries is my got too. My friend suggested them,with the chilly chicken.\\\\n\\\\nMy personal favourite is the Soho triple,which is a crossover between Belgian Wheat and IPA. It is a Tring beer .\\\\n\\\\nAnother go to is the wheat beer called \\\" Chelsea Wit \\\" , which is a belgian wheat beer .\\\\n\\\\nWill go back and explore the other two.\\\\n\\\\nWaiting for their seasonal beer to come out .:)\\\\n\\\\nKeep up the good work guys. Love your service especially.'), ('Rated 3.0', \\\"RATED\\\\n  We went on a Saturday and this place had a good ambience. Though we walked up to their Terrace Dining we settled for MYU.  We ordered Cheesy Bacon Bombs- wouldn't suggest them to who are calorie conscious its deep fried and filled with cheese. The taste was just about ok. Rosemary Paneer Tikka is another choice that is decent as well. Indian version would be called Bacon Pakoda.  Dhaba Daal Tadka is nice and calming- very Indian and a good quantity for 1 person. Murg Kurchan with white rice is spicy and tangy so it's nice. With Zomato gold being with everyone this place is value for money. A good visit for a group of friends, not meant for couple dining.\\\"), ('Rated 5.0', \\\"RATED\\\\n  It was a wonderful experience..\\\\nDidnt expect Gilly's to that good...\\\\nStarting from trippel...old fashioned..\\\\nBrucetta.. cherry cheese pineapple...\\\\nEverything upto liking...\\\\n\\\\nService-promt and courteous..\\\\n\\\\nAmbiance-nice outdoor seating\\\\n\\\\nThanks team Gilly's\\\"), ('Rated 5.0', 'RATED\\\\n  Visited this place for lunch on a Wednesday We sat on the first floor and opted for the buffet which was Rs 399 plus tax. Definitely worth it .\\\\n\\\\nThe starters were pretty good - Corn and chilly bhajji .\\\\n\\\\nmain course tried out their garlic bread with a panner gravvy.\\\\nFor dessert the mango mousse, which was A grade.\\\\n\\\\nService was prompt. Music was very peepy.\\\\n\\\\nHad a chance to try out their fresh brewed beer also .My favourite was the Chelsea Wit, which was sweet and fruity.\\\\n\\\\nOverall had a good experience. Will be back again to visit the night club and try out their out brewed beers .'), ('Rated 5.0', 'RATED\\\\n  My go to place in Koramangala. Visited the place on A Saturday night . Loved ambiance .\\\\n\\\\nWhat\\\\'s more ? They have started brewing their own beer here too.\\\\n\\\\nThe manager mentioned they have started on 1st of October 2018 . The English Craft Brewing Co has tied up with Gilly\\\\'s.\\\\n\\\\n4 varieties of fresh brews available on tap. Love their names!\\\\n\\\\nThese beers with a side portion of some spicy fries is my got too. My friend suggested them,with the chilly chicken.\\\\n\\\\nMy personal favourite is the Soho triple,which is a crossover between Belgian Wheat and IPA. It is a Tring beer .\\\\n\\\\nAnother go to is the wheat beer called \\\" Chelsea Wit \\\" , which is a belgian wheat beer .\\\\n\\\\nWill go back and explore the other two.\\\\n\\\\nWaiting for their seasonal beer to come out .:)\\\\n\\\\nKeep up the good work guys. Love your service especially.'), ('Rated 3.0', \\\"RATED\\\\n  We went on a Saturday and this place had a good ambience. Though we walked up to their Terrace Dining we settled for MYU.  We ordered Cheesy Bacon Bombs- wouldn't suggest them to who are calorie conscious its deep fried and filled with cheese. The taste was just about ok. Rosemary Paneer Tikka is another choice that is decent as well. Indian version would be called Bacon Pakoda.  Dhaba Daal Tadka is nice and calming- very Indian and a good quantity for 1 person. Murg Kurchan with white rice is spicy and tangy so it's nice. With Zomato gold being with everyone this place is value for money. A good visit for a group of friends, not meant for couple dining.\\\"), ('Rated 5.0', \\\"RATED\\\\n  It was a wonderful experience..\\\\nDidnt expect Gilly's to that good...\\\\nStarting from trippel...old fashioned..\\\\nBrucetta.. cherry cheese pineapple...\\\\nEverything upto liking...\\\\n\\\\nService-promt and courteous..\\\\n\\\\nAmbiance-nice outdoor seating\\\\n\\\\nThanks team Gilly's\\\"), ('Rated 5.0', 'RATED\\\\n  Visited this place for lunch on a Wednesday We sat on the first floor and opted for the buffet which was Rs 399 plus tax. Definitely worth it .\\\\n\\\\nThe starters were pretty good - Corn and chilly bhajji .\\\\n\\\\nmain course tried out their garlic bread with a panner gravvy.\\\\nFor dessert the mango mousse, which was A grade.\\\\n\\\\nService was prompt. Music was very peepy.\\\\n\\\\nHad a chance to try out their fresh brewed beer also .My favourite was the Chelsea Wit, which was sweet and fruity.\\\\n\\\\nOverall had a good experience. Will be back again to visit the night club and try out their out brewed beers .'), ('Rated 5.0', 'RATED\\\\n  My go to place in Koramangala. Visited the place on A Saturday night . Loved ambiance .\\\\n\\\\nWhat\\\\'s more ? They have started brewing their own beer here too.\\\\n\\\\nThe manager mentioned they have started on 1st of October 2018 . The English Craft Brewing Co has tied up with Gilly\\\\'s.\\\\n\\\\n4 varieties of fresh brews available on tap. Love their names!\\\\n\\\\nThese beers with a side portion of some spicy fries is my got too. My friend suggested them,with the chilly chicken.\\\\n\\\\nMy personal favourite is the Soho triple,which is a crossover between Belgian Wheat and IPA. It is a Tring beer .\\\\n\\\\nAnother go to is the wheat beer called \\\" Chelsea Wit \\\" , which is a belgian wheat beer .\\\\n\\\\nWill go back and explore the other two.\\\\n\\\\nWaiting for their seasonal beer to come out .:)\\\\n\\\\nKeep up the good work guys. Love your service especially.'), ('Rated 3.0', \\\"RATED\\\\n  We went on a Saturday and this place had a good ambience. Though we walked up to their Terrace Dining we settled for MYU.  We ordered Cheesy Bacon Bombs- wouldn't suggest them to who are calorie conscious its deep fried and filled with cheese. The taste was just about ok. Rosemary Paneer Tikka is another choice that is decent as well. Indian version would be called Bacon Pakoda.  Dhaba Daal Tadka is nice and calming- very Indian and a good quantity for 1 person. Murg Kurchan with white rice is spicy and tangy so it's nice. With Zomato gold being with everyone this place is value for money. A good visit for a group of friends, not meant for couple dining.\\\"), ('Rated 5.0', \\\"RATED\\\\n  It was a wonderful experience..\\\\nDidnt expect Gilly's to that good...\\\\nStarting from trippel...old fashioned..\\\\nBrucetta.. cherry cheese pineapple...\\\\nEverything upto liking...\\\\n\\\\nService-promt and courteous..\\\\n\\\\nAmbiance-nice outdoor seating\\\\n\\\\nThanks team Gilly's\\\"), ('Rated 5.0', 'RATED\\\\n  Visited this place for lunch on a Wednesday We sat on the first floor and opted for the buffet which was Rs 399 plus tax. Definitely worth it .\\\\n\\\\nThe starters were pretty good - Corn and chilly bhajji .\\\\n\\\\nmain course tried out their garlic bread with a panner gravvy.\\\\nFor dessert the mango mousse, which was A grade.\\\\n\\\\nService was prompt. Music was very peepy.\\\\n\\\\nHad a chance to try out their fresh brewed beer also .My favourite was the Chelsea Wit, which was sweet and fruity.\\\\n\\\\nOverall had a good experience. Will be back again to visit the night club and try out their out brewed beers .'), ('Rated 5.0', 'RATED\\\\n  My go to place in Koramangala. Visited the place on A Saturday night . Loved ambiance .\\\\n\\\\nWhat\\\\'s more ? They have started brewing their own beer here too.\\\\n\\\\nThe manager mentioned they have started on 1st of October 2018 . The English Craft Brewing Co has tied up with Gilly\\\\'s.\\\\n\\\\n4 varieties of fresh brews available on tap. Love their names!\\\\n\\\\nThese beers with a side portion of some spicy fries is my got too. My friend suggested them,with the chilly chicken.\\\\n\\\\nMy personal favourite is the Soho triple,which is a crossover between Belgian Wheat and IPA. It is a Tring beer .\\\\n\\\\nAnother go to is the wheat beer called \\\" Chelsea Wit \\\" , which is a belgian wheat beer .\\\\n\\\\nWill go back and explore the other two.\\\\n\\\\nWaiting for their seasonal beer to come out .:)\\\\n\\\\nKeep up the good work guys. Love your service especially.'), ('Rated 3.0', \\\"RATED\\\\n  We went on a Saturday and this place had a good ambience. Though we walked up to their Terrace Dining we settled for MYU.  We ordered Cheesy Bacon Bombs- wouldn't suggest them to who are calorie conscious its deep fried and filled with cheese. The taste was just about ok. Rosemary Paneer Tikka is another choice that is decent as well. Indian version would be called Bacon Pakoda.  Dhaba Daal Tadka is nice and calming- very Indian and a good quantity for 1 person. Murg Kurchan with white rice is spicy and tangy so it's nice. With Zomato gold being with everyone this place is value for money. A good visit for a group of friends, not meant for couple dining.\\\"), ('Rated 5.0', \\\"RATED\\\\n  It was a wonderful experience..\\\\nDidnt expect Gilly's to that good...\\\\nStarting from trippel...old fashioned..\\\\nBrucetta.. cherry cheese pineapple...\\\\nEverything upto liking...\\\\n\\\\nService-promt and courteous..\\\\n\\\\nAmbiance-nice outdoor seating\\\\n\\\\nThanks team Gilly's\\\"), ('Rated 5.0', 'RATED\\\\n  Visited this place for lunch on a Wednesday We sat on the first floor and opted for the buffet which was Rs 399 plus tax. Definitely worth it .\\\\n\\\\nThe starters were pretty good - Corn and chilly bhajji .\\\\n\\\\nmain course tried out their garlic bread with a panner gravvy.\\\\nFor dessert the mango mousse, which was A grade.\\\\n\\\\nService was prompt. Music was very peepy.\\\\n\\\\nHad a chance to try out their fresh brewed beer also .My favourite was the Chelsea Wit, which was sweet and fruity.\\\\n\\\\nOverall had a good experience. Will be back again to visit the night club and try out their out brewed beers .'), ('Rated 5.0', 'RATED\\\\n  My go to place in Koramangala. Visited the place on A Saturday night . Loved ambiance .\\\\n\\\\nWhat\\\\'s more ? They have started brewing their own beer here too.\\\\n\\\\nThe manager mentioned they have started on 1st of October 2018 . The English Craft Brewing Co has tied up with Gilly\\\\'s.\\\\n\\\\n4 varieties of fresh brews available on tap. Love their names!\\\\n\\\\nThese beers with a side portion of some spicy fries is my got too. My friend suggested them,with the chilly chicken.\\\\n\\\\nMy personal favourite is the Soho triple,which is a crossover between Belgian Wheat and IPA. It is a Tring beer .\\\\n\\\\nAnother go to is the wheat beer called \\\" Chelsea Wit \\\" , which is a belgian wheat beer .\\\\n\\\\nWill go back and explore the other two.\\\\n\\\\nWaiting for their seasonal beer to come out .:)\\\\n\\\\nKeep up the good work guys. Love your service especially.'), ('Rated 3.0', \\\"RATED\\\\n  We went on a Saturday and this place had a good ambience. Though we walked up to their Terrace Dining we settled for MYU.  We ordered Cheesy Bacon Bombs- wouldn't suggest them to who are calorie conscious its deep fried and filled with cheese. The taste was just about ok. Rosemary Paneer Tikka is another choice that is decent as well. Indian version would be called Bacon Pakoda.  Dhaba Daal Tadka is nice and calming- very Indian and a good quantity for 1 person. Murg Kurchan with white rice is spicy and tangy so it's nice. With Zomato gold being with everyone this place is value for money. A good visit for a group of friends, not meant for couple dining.\\\"), ('Rated 5.0', \\\"RATED\\\\n  It was a wonderful experience..\\\\nDidnt expect Gilly's to that good...\\\\nStarting from trippel...old fashioned..\\\\nBrucetta.. cherry cheese pineapple...\\\\nEverything upto liking...\\\\n\\\\nService-promt and courteous..\\\\n\\\\nAmbiance-nice outdoor seating\\\\n\\\\nThanks team Gilly's\\\"), ('Rated 5.0', 'RATED\\\\n  Visited this place for lunch on a Wednesday We sat on the first floor and opted for the buffet which was Rs 399 plus tax. Definitely worth it .\\\\n\\\\nThe starters were pretty good - Corn and chilly bhajji .\\\\n\\\\nmain course tried out their garlic bread with a panner gravvy.\\\\nFor dessert the mango mousse, which was A grade.\\\\n\\\\nService was prompt. Music was very peepy.\\\\n\\\\nHad a chance to try out their fresh brewed beer also .My favourite was the Chelsea Wit, which was sweet and fruity.\\\\n\\\\nOverall had a good experience. Will be back again to visit the night club and try out their out brewed beers .'), ('Rated 5.0', 'RATED\\\\n  My go to place in Koramangala. Visited the place on A Saturday night . Loved ambiance .\\\\n\\\\nWhat\\\\'s more ? They have started brewing their own beer here too.\\\\n\\\\nThe manager mentioned they have started on 1st of October 2018 . The English Craft Brewing Co has tied up with Gilly\\\\'s.\\\\n\\\\n4 varieties of fresh brews available on tap. Love their names!\\\\n\\\\nThese beers with a side portion of some spicy fries is my got too. My friend suggested them,with the chilly chicken.\\\\n\\\\nMy personal favourite is the Soho triple,which is a crossover between Belgian Wheat and IPA. It is a Tring beer .\\\\n\\\\nAnother go to is the wheat beer called \\\" Chelsea Wit \\\" , which is a belgian wheat beer .\\\\n\\\\nWill go back and explore the other two.\\\\n\\\\nWaiting for their seasonal beer to come out .:)\\\\n\\\\nKeep up the good work guys. Love your service especially.'), ('Rated 3.0', \\\"RATED\\\\n  We went on a Saturday and this place had a good ambience. Though we walked up to their Terrace Dining we settled for MYU.  We ordered Cheesy Bacon Bombs- wouldn't suggest them to who are calorie conscious \"\n        ],\n        \"semantic_type\": \"\",\n        \"description\": \"\"\n      }\n    },\n    {\n      \"column\": \"menu_item\",\n      \"properties\": {\n        \"dtype\": \"category\",\n        \"num_unique_values\": 5069,\n        \"samples\": [\n          \"['Vegetarian Thali', 'Biryani Rice Non Veg', 'Chicken Biryani', 'Mutton Biryani', 'Paneer Thali', 'Vegetarian Thali', 'Egg Thali', 'Chicken Thali', 'Chicken Biryani Thali', 'Mutton Thali', 'Fish Thali', 'Veg Manchow Soup', 'Veg Hot n Sour Soup', 'Veg Sweet Corn Soup', 'Veg Clear Soup', 'Chicken Manchow Soup', 'Chicken Hot N Sour Soup', 'Chicken Sweet Corn Soup', 'Chicken Clear Soup', 'Paneer 65', 'Chilly Paneer Guntur', 'Babycorn Kurkure', 'Gobi 65', 'Mushroom Pepper Fry', 'Mushroom 65', 'Hara Bhara Darbar Kabab', 'Chicken Pepper Fry', 'Boneless Lemon Chicken', 'Boneless Kurkure Chicken Darbar Style', 'Boneless Chicken Darbar Kebab', 'Mutton Chop Tawa Kebab', 'Mutton Dry Pepper Fry', 'Lamb Chilli', 'Fish Pepper Dry', 'Tawa Grilled Prawns', 'Prawn Pepper Dry', 'Thai Basil Mushroom', 'Oriental Crispy Vegetables', 'Pepper Baby Corn', 'Crispy Honey Baby Corn', 'Salt and Pepper Paneer', 'Chinese Style Mushroom Manchurian', 'Chinese Style Mushroom Chilly', 'Chinese Style Baby Corn Manchurian', 'Chinese Style Baby Corn Chilly', 'Chinese Style Baby Corn Schezwan', 'Chinese Style Cauliflower Manchurian', 'Chinese Style Cauliflower Chilli', 'Salt and Pepper Mushroom', 'Chinese Style Paneer Manchurian', 'Chinese Style Paneer Chilli', 'Pepper Onion Chicken', 'Thai Basil Chicken', 'Threaded Chicken', 'Crispy Honey Chicken', 'Crispy Spinach Wrapped Chicken', 'Chinese Chicken Wings', 'Chinese Chicken Lollipop', 'Chinese Style Chicken Chilli', 'Chinese Style Chicken Manchurian', 'Satay Chicken Skewers', 'Wanton Fried Chicken', 'Hunan Fish', 'Oriental Style Fish Manchurian', 'Chinese Style Fish Chilli', 'Chinese Style Fish Pepper', 'Dragon Prawns', 'Chinese Style Prawns Manchurian', 'Oriental Style Prawns Chilli', 'Chinese Style Prawns Pepper', 'Kadhai Paneer', 'Paneer Butter Masala', 'Palak Paneer', 'Sabji Chaman Bahar', 'Malai Kofta Curry', 'Babycorn Jhalfrazi', 'Sukhi Aloo Gobhi', 'Sabzi Jaipuri Darbar Style', 'Dal Makhani', 'Yellow Dal Fry', 'Wah Wah Khumb Mutter Ki Saath', 'Mushroom Masala', 'Kolhapuri Vegetable', 'Murgh Makhni', 'Handi Murgh Golkonda', 'Katharnak Chicken', 'Chicken Safed Curry', 'Kadhai Chicken', 'Chicken Tikka Masala', 'Darbar Chicken Kheema Chatpata', 'Day Special Chicken Gravy', 'Mutton Chettinad', 'Day Special Mutton Gravy', 'Mutton Rogan Josh', 'Guntur Mamsam', 'Fish Curry', 'Prawn Curry Mangaluru', 'Baby Corn Manchurian Gravy', 'Baby Corn Chilli Gravy', 'Paneer Manchurian Gravy', 'Paneer Chilli Gravy', 'Mushroom Manchurian Gravy', 'Mushroom Chilli Gravy', 'Hunan Chicken Gravy', 'Diced Chilly Chicken With Mushroom Gravy', 'Fried Chicken In Oyster Sauce', 'Chicken Manchurian Gravy', 'Chicken Chilli Gravy', 'Dragon Fish Gravy', 'Hot Garlic Fish Gravy', 'Chilly Fish Gravy', 'Prawn Manchurian Gravy', 'Prawn Chilli Gravy', 'Aloo Stuffed Paratha', 'Paratha', 'Phulka', 'Malabar Paratha', 'Curd Rice', 'Plain Rice', 'Ghee Rice', 'Jeera Rice', 'Paneer Biryani', 'Vegetable Biryani', 'Egg Biryani', 'Biryani Rice Non Veg', 'Chicken Biryani', 'Mutton Biryani', 'Veg Fried Rice', 'Veg Jade Fried Rice', 'Veg Chilly Garlic Fried Rice', 'Veg Schezwan Fried Rice', 'Egg Fried Rice', 'Chicken Fried Rice', 'Chicken Jade Fried Rice', 'Chicken Chilly Garlic Fried Rice', 'Prawns Fried Rice', 'Prawns Jade Fried Rice', 'Prawns Chilly Garlic Fried Rice', 'Prawns Sweet Chilly Garlic Chowmein', 'Vegetable Kathi Roll', 'Paneer Kathi Roll', 'Aloo Kathi Roll', 'Egg Kathi Roll', 'Chicken Kathi Roll', 'Chicken Egg Kathi Roll', 'Mutton Kathi Roll', 'Thai Vegetable Curry Bowl', 'Manchurian Corn Bowl', 'Manchurian Mushroom Bowl', 'Chilly Mushroom Bowl', 'Thai Chicken Curry Bowl', 'Hunan Chicken Bowl', 'Diced Chilly Chicken Bowl', 'Manchurian Chicken Bowl', 'Fresh Cut Fruit', 'Fruit Salad With Ice Cream', 'Vanilla Ice Cream', 'Chocolate Ice Cream', 'Butter Scotch Ice Cream', 'Mango Ice Cream', 'Strawberry Ice Cream', 'Kulfi Malai Stick', 'Mosambi Juice', 'Pineapple Juice', 'Rich Anar Juice', 'Watermelon Juice', 'Orange Juice', 'Mixed Fruit Juice', 'Seasonal Fruit Juice', 'Apple Milk Shake', 'Anar Milk Shake', 'Banana Milk Shake', 'Cold Coffee Milk Shake', 'Dry Fruit Shakes', 'Pista Shake', 'Sweet Lassi', 'Salted Lassi', 'Butter Milk', 'Mixed Fruits Lassi', 'Mango Lassi', 'Strawberry Lassi', 'Chocolate Lassi']\",\n          \"['Guilty Pleasure Sundae', 'The Dark Conspiracy Sundae', 'Kit Kat Shake', 'Chocolate Oreo Shake', 'Rasmalai Shake', 'Cold Coffee Shake', 'Butterscotch Shake', 'Vanilla Shake', 'Strawberry Shake', 'Kit Kat Shake', 'Mint Oreo Crumble Shake', 'Chocolate Oreo Shake', 'Chocolate Hazelnut Shake', 'Choco Chip Shake', 'Exotic Strawberry Shake', 'Exotic Mango Shake', 'Kesar Badam Shake', 'Bubblegum Shake', 'Guilty Pleasure Sundae', 'Retro Romance', 'Forbidden Forest Sundae', 'The Dark Conspiracy Sundae', 'Rasmalai Shake', 'Cold Coffee Shake', 'Butterscotch Shake', 'Vanilla Shake', 'Strawberry Shake', 'Snicker Superior Shake', 'Kit Kat Shake', 'Mint Oreo Crumble Shake', 'Chocolate Oreo Shake', 'Chocolate Hazelnut Shake', 'Choco Chip Shake', 'Exotic Strawberry Shake', 'Exotic Mango Shake', 'Kesar Badam Shake', 'Bubblegum Shake', 'Sinful Strawberry Shake [Regular]', 'Chickoo Refresher Shake [Regular]', 'Cool Custard Apple Shake [Regular]', 'Kaju Anjeer Shake [Regular]', 'Kaju Gulkand Shake [Regular]', 'Rose Gulkand Shake [Regular]', 'Rose Badam Shake [Regular]']\"\n        ],\n        \"semantic_type\": \"\",\n        \"description\": \"\"\n      }\n    },\n    {\n      \"column\": \"type\",\n      \"properties\": {\n        \"dtype\": \"category\",\n        \"num_unique_values\": 7,\n        \"samples\": [\n          \"Buffet\",\n          \"Cafes\"\n        ],\n        \"semantic_type\": \"\",\n        \"description\": \"\"\n      }\n    },\n    {\n      \"column\": \"city\",\n      \"properties\": {\n        \"dtype\": \"category\",\n        \"num_unique_values\": 30,\n        \"samples\": [\n          \"Residency Road\",\n          \"Kammanahalli\"\n        ],\n        \"semantic_type\": \"\",\n        \"description\": \"\"\n      }\n    }\n  ]\n}"
            }
          },
          "metadata": {},
          "execution_count": 14
        }
      ]
    },
    {
      "cell_type": "code",
      "source": [
        "df['rate'].unique()"
      ],
      "metadata": {
        "colab": {
          "base_uri": "https://localhost:8080/"
        },
        "id": "HBZNGlMII8zb",
        "outputId": "7ddbf7ad-8bd2-4001-cea3-465d214e815d"
      },
      "execution_count": null,
      "outputs": [
        {
          "output_type": "execute_result",
          "data": {
            "text/plain": [
              "array(['4.1/5', '3.8/5', '3.7/5', '4.6/5', '4.0/5', '4.2/5', '3.9/5',\n",
              "       '3.0/5', '3.6/5', '2.8/5', '4.4/5', '3.1/5', '4.3/5', '2.6/5',\n",
              "       '3.3/5', '3.5/5', '3.8 /5', '3.2/5', '4.5/5', '2.5/5', '2.9/5',\n",
              "       '3.4/5', '2.7/5', '4.7/5', 'NEW', '2.4/5', '2.2/5', '2.3/5',\n",
              "       '4.8/5', '3.9 /5', '4.2 /5', '4.0 /5', '4.1 /5', '2.9 /5',\n",
              "       '2.7 /5', '2.5 /5', '2.6 /5', '4.5 /5', '4.3 /5', '3.7 /5',\n",
              "       '4.4 /5', '4.9/5', '2.1/5', '2.0/5', '1.8/5', '3.4 /5', '3.6 /5',\n",
              "       '3.3 /5', '4.6 /5', '4.9 /5', '3.2 /5', '3.0 /5', '2.8 /5',\n",
              "       '3.5 /5', '3.1 /5', '4.8 /5', '2.3 /5', '4.7 /5', '2.4 /5',\n",
              "       '2.1 /5', '2.2 /5', '2.0 /5', '1.8 /5'], dtype=object)"
            ]
          },
          "metadata": {},
          "execution_count": 15
        }
      ]
    },
    {
      "cell_type": "code",
      "source": [
        "df = df.loc[df.rate !='NEW'] #removing new row"
      ],
      "metadata": {
        "id": "vVK_AlypI8wU"
      },
      "execution_count": null,
      "outputs": []
    },
    {
      "cell_type": "code",
      "source": [
        "df['rate'].unique()"
      ],
      "metadata": {
        "colab": {
          "base_uri": "https://localhost:8080/"
        },
        "id": "MZZiXYPEI8sw",
        "outputId": "296cfb22-0b91-49a3-9a2d-48f310970902"
      },
      "execution_count": null,
      "outputs": [
        {
          "output_type": "execute_result",
          "data": {
            "text/plain": [
              "array(['4.1/5', '3.8/5', '3.7/5', '4.6/5', '4.0/5', '4.2/5', '3.9/5',\n",
              "       '3.0/5', '3.6/5', '2.8/5', '4.4/5', '3.1/5', '4.3/5', '2.6/5',\n",
              "       '3.3/5', '3.5/5', '3.8 /5', '3.2/5', '4.5/5', '2.5/5', '2.9/5',\n",
              "       '3.4/5', '2.7/5', '4.7/5', '2.4/5', '2.2/5', '2.3/5', '4.8/5',\n",
              "       '3.9 /5', '4.2 /5', '4.0 /5', '4.1 /5', '2.9 /5', '2.7 /5',\n",
              "       '2.5 /5', '2.6 /5', '4.5 /5', '4.3 /5', '3.7 /5', '4.4 /5',\n",
              "       '4.9/5', '2.1/5', '2.0/5', '1.8/5', '3.4 /5', '3.6 /5', '3.3 /5',\n",
              "       '4.6 /5', '4.9 /5', '3.2 /5', '3.0 /5', '2.8 /5', '3.5 /5',\n",
              "       '3.1 /5', '4.8 /5', '2.3 /5', '4.7 /5', '2.4 /5', '2.1 /5',\n",
              "       '2.2 /5', '2.0 /5', '1.8 /5'], dtype=object)"
            ]
          },
          "metadata": {},
          "execution_count": 17
        }
      ]
    },
    {
      "cell_type": "code",
      "source": [
        "df['rate'] = df['rate'].apply(lambda x: x.replace('/5','')) #removing /5"
      ],
      "metadata": {
        "colab": {
          "base_uri": "https://localhost:8080/"
        },
        "id": "pjGCKUl3I8p-",
        "outputId": "5454bd4c-c001-4a43-9a4a-0307f71e1821"
      },
      "execution_count": null,
      "outputs": [
        {
          "output_type": "stream",
          "name": "stderr",
          "text": [
            "<ipython-input-18-ec3768d51ba3>:1: SettingWithCopyWarning: \n",
            "A value is trying to be set on a copy of a slice from a DataFrame.\n",
            "Try using .loc[row_indexer,col_indexer] = value instead\n",
            "\n",
            "See the caveats in the documentation: https://pandas.pydata.org/pandas-docs/stable/user_guide/indexing.html#returning-a-view-versus-a-copy\n",
            "  df['rate'] = df['rate'].apply(lambda x: x.replace('/5','')) #removing /5\n"
          ]
        }
      ]
    },
    {
      "cell_type": "code",
      "source": [],
      "metadata": {
        "id": "LiXMmcgPmfYM"
      },
      "execution_count": null,
      "outputs": []
    },
    {
      "cell_type": "code",
      "source": [
        "#How ratings are distributed\n",
        "plt.figure(figsize=(9,7))\n",
        "\n",
        "sns.distplot(df['rate'],bins=20)"
      ],
      "metadata": {
        "colab": {
          "base_uri": "https://localhost:8080/",
          "height": 827
        },
        "id": "OAsIh_ygbg63",
        "outputId": "da83978d-327a-4412-b62d-a57d19a3279a"
      },
      "execution_count": null,
      "outputs": [
        {
          "output_type": "stream",
          "name": "stderr",
          "text": [
            "<ipython-input-19-e06707866232>:4: UserWarning: \n",
            "\n",
            "`distplot` is a deprecated function and will be removed in seaborn v0.14.0.\n",
            "\n",
            "Please adapt your code to use either `displot` (a figure-level function with\n",
            "similar flexibility) or `histplot` (an axes-level function for histograms).\n",
            "\n",
            "For a guide to updating your code to use the new functions, please see\n",
            "https://gist.github.com/mwaskom/de44147ed2974457ad6372750bbe5751\n",
            "\n",
            "  sns.distplot(df['rate'],bins=20)\n"
          ]
        },
        {
          "output_type": "execute_result",
          "data": {
            "text/plain": [
              "<Axes: xlabel='rate', ylabel='Density'>"
            ]
          },
          "metadata": {},
          "execution_count": 19
        },
        {
          "output_type": "display_data",
          "data": {
            "text/plain": [
              "<Figure size 900x700 with 1 Axes>"
            ],
            "image/png": "[encoded data removed]"
          },
          "metadata": {}
        }
      ]
    },
    {
      "cell_type": "code",
      "source": [
        "df.index=range(df.shape[0])"
      ],
      "metadata": {
        "id": "xxHNm69EJQLV"
      },
      "execution_count": null,
      "outputs": []
    },
    {
      "cell_type": "code",
      "source": [
        "df.online_order[df.online_order == 'Yes'] = 1\n",
        "df.online_order[df.online_order == 'No'] = 0"
      ],
      "metadata": {
        "colab": {
          "base_uri": "https://localhost:8080/"
        },
        "id": "YILhs1qkJe9v",
        "outputId": "08ba0d2b-a15a-4437-a844-3249fdd9f974"
      },
      "execution_count": null,
      "outputs": [
        {
          "output_type": "stream",
          "name": "stderr",
          "text": [
            "<ipython-input-21-fe315fb903fd>:2: SettingWithCopyWarning: \n",
            "A value is trying to be set on a copy of a slice from a DataFrame\n",
            "\n",
            "See the caveats in the documentation: https://pandas.pydata.org/pandas-docs/stable/user_guide/indexing.html#returning-a-view-versus-a-copy\n",
            "  df.online_order[df.online_order == 'No'] = 0\n"
          ]
        }
      ]
    },
    {
      "cell_type": "code",
      "source": [
        "df.online_order.value_counts()"
      ],
      "metadata": {
        "colab": {
          "base_uri": "https://localhost:8080/"
        },
        "id": "qzn0xOXBJrrS",
        "outputId": "1a0f93c4-c120-4ba4-e89f-1c15700e123d"
      },
      "execution_count": null,
      "outputs": [
        {
          "output_type": "execute_result",
          "data": {
            "text/plain": [
              "online_order\n",
              "1    16378\n",
              "0     6870\n",
              "Name: count, dtype: int64"
            ]
          },
          "metadata": {},
          "execution_count": 22
        }
      ]
    },
    {
      "cell_type": "code",
      "source": [
        "df.online_order = pd.to_numeric(df.online_order)\n"
      ],
      "metadata": {
        "id": "gdITnHA-JsLp"
      },
      "execution_count": null,
      "outputs": []
    },
    {
      "cell_type": "code",
      "source": [
        "df.book_table[df.book_table == 'Yes'] = 1\n",
        "df.book_table[df.book_table == 'No'] = 0"
      ],
      "metadata": {
        "colab": {
          "base_uri": "https://localhost:8080/"
        },
        "id": "TNYqg5nhJsOe",
        "outputId": "26faf4fd-8669-436f-f158-89f22c9c2d8e"
      },
      "execution_count": null,
      "outputs": [
        {
          "output_type": "stream",
          "name": "stderr",
          "text": [
            "<ipython-input-24-91bd08a98084>:1: SettingWithCopyWarning: \n",
            "A value is trying to be set on a copy of a slice from a DataFrame\n",
            "\n",
            "See the caveats in the documentation: https://pandas.pydata.org/pandas-docs/stable/user_guide/indexing.html#returning-a-view-versus-a-copy\n",
            "  df.book_table[df.book_table == 'Yes'] = 1\n",
            "<ipython-input-24-91bd08a98084>:2: SettingWithCopyWarning: \n",
            "A value is trying to be set on a copy of a slice from a DataFrame\n",
            "\n",
            "See the caveats in the documentation: https://pandas.pydata.org/pandas-docs/stable/user_guide/indexing.html#returning-a-view-versus-a-copy\n",
            "  df.book_table[df.book_table == 'No'] = 0\n"
          ]
        }
      ]
    },
    {
      "cell_type": "code",
      "source": [
        "df.book_table = pd.to_numeric(df.book_table)"
      ],
      "metadata": {
        "id": "4sSbjrnjJsQ_"
      },
      "execution_count": null,
      "outputs": []
    },
    {
      "cell_type": "code",
      "source": [
        "df.book_table.value_counts()"
      ],
      "metadata": {
        "colab": {
          "base_uri": "https://localhost:8080/"
        },
        "id": "5RLV4g5BJsTh",
        "outputId": "cc58731b-0e93-4acc-b2fa-899237443272"
      },
      "execution_count": null,
      "outputs": [
        {
          "output_type": "execute_result",
          "data": {
            "text/plain": [
              "book_table\n",
              "0    17191\n",
              "1     6057\n",
              "Name: count, dtype: int64"
            ]
          },
          "metadata": {},
          "execution_count": 26
        }
      ]
    },
    {
      "cell_type": "code",
      "source": [
        "from sklearn.preprocessing import LabelEncoder\n",
        "le = LabelEncoder()"
      ],
      "metadata": {
        "id": "7SsYPp3mJsWT"
      },
      "execution_count": null,
      "outputs": []
    },
    {
      "cell_type": "code",
      "source": [
        "df.location = le.fit_transform(df.location)\n",
        "df.rest_type = le.fit_transform(df.rest_type)\n",
        "df.cuisines = le.fit_transform(df.cuisines)\n",
        "df.menu_item = le.fit_transform(df.menu_item)\n"
      ],
      "metadata": {
        "id": "aaOKEFafJsZF"
      },
      "execution_count": null,
      "outputs": []
    },
    {
      "cell_type": "code",
      "source": [
        "df.head()"
      ],
      "metadata": {
        "colab": {
          "base_uri": "https://localhost:8080/",
          "height": 590
        },
        "id": "Mj5XLcyYg4TS",
        "outputId": "f5bc3849-c1b3-41fe-da27-294609f0410c"
      },
      "execution_count": null,
      "outputs": [
        {
          "output_type": "execute_result",
          "data": {
            "text/plain": [
              "                                             address                   name  \\\n",
              "0  942, 21st Main Road, 2nd Stage, Banashankari, ...                  Jalsa   \n",
              "1  2nd Floor, 80 Feet Road, Near Big Bazaar, 6th ...         Spice Elephant   \n",
              "2  1112, Next to KIMS Medical College, 17th Cross...        San Churro Cafe   \n",
              "3  1st Floor, Annakuteera, 3rd Stage, Banashankar...  Addhuri Udupi Bhojana   \n",
              "4  10, 3rd Floor, Lakshmi Associates, Gandhi Baza...          Grand Village   \n",
              "\n",
              "   online_order  book_table rate  votes  location  rest_type  \\\n",
              "0             1           1  4.1    775         1         20   \n",
              "1             1           0  4.1    787         1         20   \n",
              "2             1           0  3.8    918         1         16   \n",
              "3             0           0  3.7     88         1         62   \n",
              "4             0           0  3.8    166         4         20   \n",
              "\n",
              "                                          dish_liked  cuisines  Target  \\\n",
              "0  Pasta, Lunch Buffet, Masala Papad, Paneer Laja...      1386   800.0   \n",
              "1  Momos, Lunch Buffet, Chocolate Nirvana, Thai G...       594   800.0   \n",
              "2  Churros, Cannelloni, Minestrone Soup, Hot Choc...       484   800.0   \n",
              "3                                        Masala Dosa      1587   300.0   \n",
              "4                                Panipuri, Gol Gappe      1406   600.0   \n",
              "\n",
              "                                        reviews_list  menu_item    type  city  \n",
              "0  [('Rated 4.0', 'RATED\\n  A beautiful place to ...       5047  Buffet     1  \n",
              "1  [('Rated 4.0', 'RATED\\n  Had been here for din...       5047  Buffet     1  \n",
              "2  [('Rated 3.0', \"RATED\\n  Ambience is not that ...       5047  Buffet     1  \n",
              "3  [('Rated 4.0', \"RATED\\n  Great food and proper...       5047  Buffet     1  \n",
              "4  [('Rated 4.0', 'RATED\\n  Very good restaurant ...       5047  Buffet     1  "
            ],
            "text/html": [
              "\n",
              "  <div id=\"df-b1c59a6c-0b6c-4e4c-b7cc-79303a020270\" class=\"colab-df-container\">\n",
              "    <div>\n",
              "<style scoped>\n",
              "    .dataframe tbody tr th:only-of-type {\n",
              "        vertical-align: middle;\n",
              "    }\n",
              "\n",
              "    .dataframe tbody tr th {\n",
              "        vertical-align: top;\n",
              "    }\n",
              "\n",
              "    .dataframe thead th {\n",
              "        text-align: right;\n",
              "    }\n",
              "</style>\n",
              "<table border=\"1\" class=\"dataframe\">\n",
              "  <thead>\n",
              "    <tr style=\"text-align: right;\">\n",
              "      <th></th>\n",
              "      <th>address</th>\n",
              "      <th>name</th>\n",
              "      <th>online_order</th>\n",
              "      <th>book_table</th>\n",
              "      <th>rate</th>\n",
              "      <th>votes</th>\n",
              "      <th>location</th>\n",
              "      <th>rest_type</th>\n",
              "      <th>dish_liked</th>\n",
              "      <th>cuisines</th>\n",
              "      <th>Target</th>\n",
              "      <th>reviews_list</th>\n",
              "      <th>menu_item</th>\n",
              "      <th>type</th>\n",
              "      <th>city</th>\n",
              "    </tr>\n",
              "  </thead>\n",
              "  <tbody>\n",
              "    <tr>\n",
              "      <th>0</th>\n",
              "      <td>942, 21st Main Road, 2nd Stage, Banashankari, ...</td>\n",
              "      <td>Jalsa</td>\n",
              "      <td>1</td>\n",
              "      <td>1</td>\n",
              "      <td>4.1</td>\n",
              "      <td>775</td>\n",
              "      <td>1</td>\n",
              "      <td>20</td>\n",
              "      <td>Pasta, Lunch Buffet, Masala Papad, Paneer Laja...</td>\n",
              "      <td>1386</td>\n",
              "      <td>800.0</td>\n",
              "      <td>[('Rated 4.0', 'RATED\\n  A beautiful place to ...</td>\n",
              "      <td>5047</td>\n",
              "      <td>Buffet</td>\n",
              "      <td>1</td>\n",
              "    </tr>\n",
              "    <tr>\n",
              "      <th>1</th>\n",
              "      <td>2nd Floor, 80 Feet Road, Near Big Bazaar, 6th ...</td>\n",
              "      <td>Spice Elephant</td>\n",
              "      <td>1</td>\n",
              "      <td>0</td>\n",
              "      <td>4.1</td>\n",
              "      <td>787</td>\n",
              "      <td>1</td>\n",
              "      <td>20</td>\n",
              "      <td>Momos, Lunch Buffet, Chocolate Nirvana, Thai G...</td>\n",
              "      <td>594</td>\n",
              "      <td>800.0</td>\n",
              "      <td>[('Rated 4.0', 'RATED\\n  Had been here for din...</td>\n",
              "      <td>5047</td>\n",
              "      <td>Buffet</td>\n",
              "      <td>1</td>\n",
              "    </tr>\n",
              "    <tr>\n",
              "      <th>2</th>\n",
              "      <td>1112, Next to KIMS Medical College, 17th Cross...</td>\n",
              "      <td>San Churro Cafe</td>\n",
              "      <td>1</td>\n",
              "      <td>0</td>\n",
              "      <td>3.8</td>\n",
              "      <td>918</td>\n",
              "      <td>1</td>\n",
              "      <td>16</td>\n",
              "      <td>Churros, Cannelloni, Minestrone Soup, Hot Choc...</td>\n",
              "      <td>484</td>\n",
              "      <td>800.0</td>\n",
              "      <td>[('Rated 3.0', \"RATED\\n  Ambience is not that ...</td>\n",
              "      <td>5047</td>\n",
              "      <td>Buffet</td>\n",
              "      <td>1</td>\n",
              "    </tr>\n",
              "    <tr>\n",
              "      <th>3</th>\n",
              "      <td>1st Floor, Annakuteera, 3rd Stage, Banashankar...</td>\n",
              "      <td>Addhuri Udupi Bhojana</td>\n",
              "      <td>0</td>\n",
              "      <td>0</td>\n",
              "      <td>3.7</td>\n",
              "      <td>88</td>\n",
              "      <td>1</td>\n",
              "      <td>62</td>\n",
              "      <td>Masala Dosa</td>\n",
              "      <td>1587</td>\n",
              "      <td>300.0</td>\n",
              "      <td>[('Rated 4.0', \"RATED\\n  Great food and proper...</td>\n",
              "      <td>5047</td>\n",
              "      <td>Buffet</td>\n",
              "      <td>1</td>\n",
              "    </tr>\n",
              "    <tr>\n",
              "      <th>4</th>\n",
              "      <td>10, 3rd Floor, Lakshmi Associates, Gandhi Baza...</td>\n",
              "      <td>Grand Village</td>\n",
              "      <td>0</td>\n",
              "      <td>0</td>\n",
              "      <td>3.8</td>\n",
              "      <td>166</td>\n",
              "      <td>4</td>\n",
              "      <td>20</td>\n",
              "      <td>Panipuri, Gol Gappe</td>\n",
              "      <td>1406</td>\n",
              "      <td>600.0</td>\n",
              "      <td>[('Rated 4.0', 'RATED\\n  Very good restaurant ...</td>\n",
              "      <td>5047</td>\n",
              "      <td>Buffet</td>\n",
              "      <td>1</td>\n",
              "    </tr>\n",
              "  </tbody>\n",
              "</table>\n",
              "</div>\n",
              "    <div class=\"colab-df-buttons\">\n",
              "\n",
              "  <div class=\"colab-df-container\">\n",
              "    <button class=\"colab-df-convert\" onclick=\"convertToInteractive('df-b1c59a6c-0b6c-4e4c-b7cc-79303a020270')\"\n",
              "            title=\"Convert this dataframe to an interactive table.\"\n",
              "            style=\"display:none;\">\n",
              "\n",
              "  <svg xmlns=\"http://www.w3.org/2000/svg\" height=\"24px\" viewBox=\"0 -960 960 960\">\n",
              "    <path d=\"M120-120v-720h720v720H120Zm60-500h600v-160H180v160Zm220 220h160v-160H400v160Zm0 220h160v-160H400v160ZM180-400h160v-160H180v160Zm440 0h160v-160H620v160ZM180-180h160v-160H180v160Zm440 0h160v-160H620v160Z\"/>\n",
              "  </svg>\n",
              "    </button>\n",
              "\n",
              "  <style>\n",
              "    .colab-df-container {\n",
              "      display:flex;\n",
              "      gap: 12px;\n",
              "    }\n",
              "\n",
              "    .colab-df-convert {\n",
              "      background-color: #E8F0FE;\n",
              "      border: none;\n",
              "      border-radius: 50%;\n",
              "      cursor: pointer;\n",
              "      display: none;\n",
              "      fill: #1967D2;\n",
              "      height: 32px;\n",
              "      padding: 0 0 0 0;\n",
              "      width: 32px;\n",
              "    }\n",
              "\n",
              "    .colab-df-convert:hover {\n",
              "      background-color: #E2EBFA;\n",
              "      box-shadow: 0px 1px 2px rgba(60, 64, 67, 0.3), 0px 1px 3px 1px rgba(60, 64, 67, 0.15);\n",
              "      fill: #174EA6;\n",
              "    }\n",
              "\n",
              "    .colab-df-buttons div {\n",
              "      margin-bottom: 4px;\n",
              "    }\n",
              "\n",
              "    [theme=dark] .colab-df-convert {\n",
              "      background-color: #3B4455;\n",
              "      fill: #D2E3FC;\n",
              "    }\n",
              "\n",
              "    [theme=dark] .colab-df-convert:hover {\n",
              "      background-color: #434B5C;\n",
              "      box-shadow: 0px 1px 3px 1px rgba(0, 0, 0, 0.15);\n",
              "      filter: drop-shadow(0px 1px 2px rgba(0, 0, 0, 0.3));\n",
              "      fill: #FFFFFF;\n",
              "    }\n",
              "  </style>\n",
              "\n",
              "    <script>\n",
              "      const buttonEl =\n",
              "        document.querySelector('#df-b1c59a6c-0b6c-4e4c-b7cc-79303a020270 button.colab-df-convert');\n",
              "      buttonEl.style.display =\n",
              "        google.colab.kernel.accessAllowed ? 'block' : 'none';\n",
              "\n",
              "      async function convertToInteractive(key) {\n",
              "        const element = document.querySelector('#df-b1c59a6c-0b6c-4e4c-b7cc-79303a020270');\n",
              "        const dataTable =\n",
              "          await google.colab.kernel.invokeFunction('convertToInteractive',\n",
              "                                                    [key], {});\n",
              "        if (!dataTable) return;\n",
              "\n",
              "        const docLinkHtml = 'Like what you see? Visit the ' +\n",
              "          '<a target=\"_blank\" href=https://colab.research.google.com/notebooks/data_table.ipynb>data table notebook</a>'\n",
              "          + ' to learn more about interactive tables.';\n",
              "        element.innerHTML = '';\n",
              "        dataTable['output_type'] = 'display_data';\n",
              "        await google.colab.output.renderOutput(dataTable, element);\n",
              "        const docLink = document.createElement('div');\n",
              "        docLink.innerHTML = docLinkHtml;\n",
              "        element.appendChild(docLink);\n",
              "      }\n",
              "    </script>\n",
              "  </div>\n",
              "\n",
              "\n",
              "<div id=\"df-7e72430d-30d4-4516-ae9c-9dd31fbe10cc\">\n",
              "  <button class=\"colab-df-quickchart\" onclick=\"quickchart('df-7e72430d-30d4-4516-ae9c-9dd31fbe10cc')\"\n",
              "            title=\"Suggest charts\"\n",
              "            style=\"display:none;\">\n",
              "\n",
              "<svg xmlns=\"http://www.w3.org/2000/svg\" height=\"24px\"viewBox=\"0 0 24 24\"\n",
              "     width=\"24px\">\n",
              "    <g>\n",
              "        <path d=\"M19 3H5c-1.1 0-2 .9-2 2v14c0 1.1.9 2 2 2h14c1.1 0 2-.9 2-2V5c0-1.1-.9-2-2-2zM9 17H7v-7h2v7zm4 0h-2V7h2v10zm4 0h-2v-4h2v4z\"/>\n",
              "    </g>\n",
              "</svg>\n",
              "  </button>\n",
              "\n",
              "<style>\n",
              "  .colab-df-quickchart {\n",
              "      --bg-color: #E8F0FE;\n",
              "      --fill-color: #1967D2;\n",
              "      --hover-bg-color: #E2EBFA;\n",
              "      --hover-fill-color: #174EA6;\n",
              "      --disabled-fill-color: #AAA;\n",
              "      --disabled-bg-color: #DDD;\n",
              "  }\n",
              "\n",
              "  [theme=dark] .colab-df-quickchart {\n",
              "      --bg-color: #3B4455;\n",
              "      --fill-color: #D2E3FC;\n",
              "      --hover-bg-color: #434B5C;\n",
              "      --hover-fill-color: #FFFFFF;\n",
              "      --disabled-bg-color: #3B4455;\n",
              "      --disabled-fill-color: #666;\n",
              "  }\n",
              "\n",
              "  .colab-df-quickchart {\n",
              "    background-color: var(--bg-color);\n",
              "    border: none;\n",
              "    border-radius: 50%;\n",
              "    cursor: pointer;\n",
              "    display: none;\n",
              "    fill: var(--fill-color);\n",
              "    height: 32px;\n",
              "    padding: 0;\n",
              "    width: 32px;\n",
              "  }\n",
              "\n",
              "  .colab-df-quickchart:hover {\n",
              "    background-color: var(--hover-bg-color);\n",
              "    box-shadow: 0 1px 2px rgba(60, 64, 67, 0.3), 0 1px 3px 1px rgba(60, 64, 67, 0.15);\n",
              "    fill: var(--button-hover-fill-color);\n",
              "  }\n",
              "\n",
              "  .colab-df-quickchart-complete:disabled,\n",
              "  .colab-df-quickchart-complete:disabled:hover {\n",
              "    background-color: var(--disabled-bg-color);\n",
              "    fill: var(--disabled-fill-color);\n",
              "    box-shadow: none;\n",
              "  }\n",
              "\n",
              "  .colab-df-spinner {\n",
              "    border: 2px solid var(--fill-color);\n",
              "    border-color: transparent;\n",
              "    border-bottom-color: var(--fill-color);\n",
              "    animation:\n",
              "      spin 1s steps(1) infinite;\n",
              "  }\n",
              "\n",
              "  @keyframes spin {\n",
              "    0% {\n",
              "      border-color: transparent;\n",
              "      border-bottom-color: var(--fill-color);\n",
              "      border-left-color: var(--fill-color);\n",
              "    }\n",
              "    20% {\n",
              "      border-color: transparent;\n",
              "      border-left-color: var(--fill-color);\n",
              "      border-top-color: var(--fill-color);\n",
              "    }\n",
              "    30% {\n",
              "      border-color: transparent;\n",
              "      border-left-color: var(--fill-color);\n",
              "      border-top-color: var(--fill-color);\n",
              "      border-right-color: var(--fill-color);\n",
              "    }\n",
              "    40% {\n",
              "      border-color: transparent;\n",
              "      border-right-color: var(--fill-color);\n",
              "      border-top-color: var(--fill-color);\n",
              "    }\n",
              "    60% {\n",
              "      border-color: transparent;\n",
              "      border-right-color: var(--fill-color);\n",
              "    }\n",
              "    80% {\n",
              "      border-color: transparent;\n",
              "      border-right-color: var(--fill-color);\n",
              "      border-bottom-color: var(--fill-color);\n",
              "    }\n",
              "    90% {\n",
              "      border-color: transparent;\n",
              "      border-bottom-color: var(--fill-color);\n",
              "    }\n",
              "  }\n",
              "</style>\n",
              "\n",
              "  <script>\n",
              "    async function quickchart(key) {\n",
              "      const quickchartButtonEl =\n",
              "        document.querySelector('#' + key + ' button');\n",
              "      quickchartButtonEl.disabled = true;  // To prevent multiple clicks.\n",
              "      quickchartButtonEl.classList.add('colab-df-spinner');\n",
              "      try {\n",
              "        const charts = await google.colab.kernel.invokeFunction(\n",
              "            'suggestCharts', [key], {});\n",
              "      } catch (error) {\n",
              "        console.error('Error during call to suggestCharts:', error);\n",
              "      }\n",
              "      quickchartButtonEl.classList.remove('colab-df-spinner');\n",
              "      quickchartButtonEl.classList.add('colab-df-quickchart-complete');\n",
              "    }\n",
              "    (() => {\n",
              "      let quickchartButtonEl =\n",
              "        document.querySelector('#df-7e72430d-30d4-4516-ae9c-9dd31fbe10cc button');\n",
              "      quickchartButtonEl.style.display =\n",
              "        google.colab.kernel.accessAllowed ? 'block' : 'none';\n",
              "    })();\n",
              "  </script>\n",
              "</div>\n",
              "\n",
              "    </div>\n",
              "  </div>\n"
            ],
            "application/vnd.google.colaboratory.intrinsic+json": {
              "type": "dataframe",
              "variable_name": "df",
              "summary": "{\n  \"name\": \"df\",\n  \"rows\": 23248,\n  \"fields\": [\n    {\n      \"column\": \"address\",\n      \"properties\": {\n        \"dtype\": \"category\",\n        \"num_unique_values\": 4379,\n        \"samples\": [\n          \"31, 2nd Cross, 1st Stage, Padmanabh Nagar, Kumaraswamy Layout, Bangalore\",\n          \"254, Galaxy Plaza, Next to Kapali Theatre, S.C. Road, Seshadripuram Area, Majestic, Bangalore\",\n          \"6th Cross Rd, New BEL Road, Bangalore\"\n        ],\n        \"semantic_type\": \"\",\n        \"description\": \"\"\n      }\n    },\n    {\n      \"column\": \"name\",\n      \"properties\": {\n        \"dtype\": \"category\",\n        \"num_unique_values\": 3157,\n        \"samples\": [\n          \"Swathi Greenland\",\n          \"Chapter One Bar | Maiin\",\n          \"Chiller's Nation - Iris Inn\"\n        ],\n        \"semantic_type\": \"\",\n        \"description\": \"\"\n      }\n    },\n    {\n      \"column\": \"online_order\",\n      \"properties\": {\n        \"dtype\": \"number\",\n        \"std\": 0,\n        \"min\": 0,\n        \"max\": 1,\n        \"num_unique_values\": 2,\n        \"samples\": [\n          0,\n          1\n        ],\n        \"semantic_type\": \"\",\n        \"description\": \"\"\n      }\n    },\n    {\n      \"column\": \"book_table\",\n      \"properties\": {\n        \"dtype\": \"number\",\n        \"std\": 0,\n        \"min\": 0,\n        \"max\": 1,\n        \"num_unique_values\": 2,\n        \"samples\": [\n          0,\n          1\n        ],\n        \"semantic_type\": \"\",\n        \"description\": \"\"\n      }\n    },\n    {\n      \"column\": \"rate\",\n      \"properties\": {\n        \"dtype\": \"category\",\n        \"num_unique_values\": 62,\n        \"samples\": [\n          \"3.0 \",\n          \"4.7 \"\n        ],\n        \"semantic_type\": \"\",\n        \"description\": \"\"\n      }\n    },\n    {\n      \"column\": \"votes\",\n      \"properties\": {\n        \"dtype\": \"number\",\n        \"std\": 1113,\n        \"min\": 0,\n        \"max\": 16832,\n        \"num_unique_values\": 2303,\n        \"samples\": [\n          598,\n          1391\n        ],\n        \"semantic_type\": \"\",\n        \"description\": \"\"\n      }\n    },\n    {\n      \"column\": \"location\",\n      \"properties\": {\n        \"dtype\": \"number\",\n        \"std\": 23,\n        \"min\": 0,\n        \"max\": 87,\n        \"num_unique_values\": 88,\n        \"samples\": [\n          67,\n          1\n        ],\n        \"semantic_type\": \"\",\n        \"description\": \"\"\n      }\n    },\n    {\n      \"column\": \"rest_type\",\n      \"properties\": {\n        \"dtype\": \"number\",\n        \"std\": 20,\n        \"min\": 0,\n        \"max\": 72,\n        \"num_unique_values\": 73,\n        \"samples\": [\n          13,\n          53\n        ],\n        \"semantic_type\": \"\",\n        \"description\": \"\"\n      }\n    },\n    {\n      \"column\": \"dish_liked\",\n      \"properties\": {\n        \"dtype\": \"category\",\n        \"num_unique_values\": 5194,\n        \"samples\": [\n          \"Lassi, Mushroom Masala, Chaach, Aloo Paratha, Chole Kulcha, Kadai Paneer, Buttermilk\",\n          \"Sandwiches, Thick Shakes, Paan Shake, Brownie Bomb, Fries, Spinach Corn Sandwich, Paneer Peri Peri\"\n        ],\n        \"semantic_type\": \"\",\n        \"description\": \"\"\n      }\n    },\n    {\n      \"column\": \"cuisines\",\n      \"properties\": {\n        \"dtype\": \"number\",\n        \"std\": 473,\n        \"min\": 0,\n        \"max\": 1680,\n        \"num_unique_values\": 1681,\n        \"samples\": [\n          867,\n          1445\n        ],\n        \"semantic_type\": \"\",\n        \"description\": \"\"\n      }\n    },\n    {\n      \"column\": \"Target\",\n      \"properties\": {\n        \"dtype\": \"number\",\n        \"std\": 520.4721690808889,\n        \"min\": 40.0,\n        \"max\": 6000.0,\n        \"num_unique_values\": 57,\n        \"samples\": [\n          800.0,\n          500.0\n        ],\n        \"semantic_type\": \"\",\n        \"description\": \"\"\n      }\n    },\n    {\n      \"column\": \"reviews_list\",\n      \"properties\": {\n        \"dtype\": \"string\",\n        \"num_unique_values\": 14071,\n        \"samples\": [\n          \"[('Rated 5.0', 'RATED\\\\n  Very nice experience. Ambience is great and warm. Staff are polite and service quick. Spectacular view of Benguluru as you eat. Sarson ka saag, Makha ki roti, Choley and kulcha, were tasty. The aloo kulcha was filling. My cousin brought me here and it is definitely recommended.'), ('Rated 4.0', 'RATED\\\\n  Ambience\\\\n- 5/5\\\\n\\\\nValue for money - 3/5\\\\n\\\\nFood\\\\n- 4/5\\\\n\\\\nService - 4/5\\\\n(Should be better)\\\\nHygiene- 5/5\\\\n\\\\nIs Must Try - Yes\\\\n\\\\nWorth Visiting twice - Nope\\\\nGood for Couple - Yes\\\\n- Must take your Special one \\\\nLocation - Good\\\\n\\\\nUSP - Unique selling point :- The view of from the top, Good for day time.  Its Spectacle!!!'), ('Rated 5.0', 'RATED\\\\n  The restaurant is on the 18th floor of the hotel and view is fantastic. They have outdoor as well indoor seating, both have an equally appealing ambience.\\\\nThe food and service are top notch, the portion sizes are huge.'), ('Rated 5.0', 'RATED\\\\n  The first time I dined here, I was out on a corporate team dinner. I was so thrilled by the food, ambience and service I decided to bring my family to this place for a special occasion.\\\\nAmbience - absolutely Royal. Very well thought of, spaced out and luxuriously arranged dinning tables. The outdoor seating is just spectacular. You get the entire view of Bangalore as the restaurant is situated on the 22nd floor. On a cool Bangalore evening, this place is a pleasure to dine at.\\\\nFood - the sheikh kababs are my all time favourite and WOW! they absolutely nailed it. Cooked to perfection and flavoured very well. One of their deserts which was an absolute winner for me was the almond halwa. It\\u00c3\\u0083\\\\x83\\u00c3\\u0082\\\\x83\\u00c3\\u0083\\\\x82\\u00c3\\u0082\\\\x83\\u00c3\\u0083\\\\x83\\u00c3\\u0082\\\\x82\\u00c3\\u0083\\\\x82\\u00c3\\u0082\\u00c2\\u00a2\\u00c3\\u0083\\\\x83\\u00c3\\u0082\\\\x83\\u00c3\\u0083\\\\x82\\u00c3\\u0082\\\\x82\\u00c3\\u0083\\\\x83\\u00c3\\u0082\\\\x82\\u00c3\\u0083\\\\x82\\u00c3\\u0082\\\\x80\\u00c3\\u0083\\\\x83\\u00c3\\u0082\\\\x83\\u00c3\\u0083\\\\x82\\u00c3\\u0082\\\\x82\\u00c3\\u0083\\\\x83\\u00c3\\u0082\\\\x82\\u00c3\\u0083\\\\x82\\u00c3\\u0082\\\\x99s rich and sinful but my god! It\\u00c3\\u0083\\\\x83\\u00c3\\u0082\\\\x83\\u00c3\\u0083\\\\x82\\u00c3\\u0082\\\\x83\\u00c3\\u0083\\\\x83\\u00c3\\u0082\\\\x82\\u00c3\\u0083\\\\x82\\u00c3\\u0082\\u00c2\\u00a2\\u00c3\\u0083\\\\x83\\u00c3\\u0082\\\\x83\\u00c3\\u0083\\\\x82\\u00c3\\u0082\\\\x82\\u00c3\\u0083\\\\x83\\u00c3\\u0082\\\\x82\\u00c3\\u0083\\\\x82\\u00c3\\u0082\\\\x80\\u00c3\\u0083\\\\x83\\u00c3\\u0082\\\\x83\\u00c3\\u0083\\\\x82\\u00c3\\u0082\\\\x82\\u00c3\\u0083\\\\x83\\u00c3\\u0082\\\\x82\\u00c3\\u0083\\\\x82\\u00c3\\u0082\\\\x99s irresistible.\\\\nService - Timely, extremely courteous and warm. They have a good understanding of everything the menu offers.\\\\nWhat a better way to end a day than with great food with a stunning view?\\\\nKudos and keep up with the good work!'), ('Rated 5.0', 'RATED\\\\n  Amazingly friendly staffs. Recommends good food. Good ambience and presentation of the food. Outdoor seating is my favorite. Food tastes good too. Decor is really really amazing!\\\\nWill visit again and again whenever possible \\u00c3\\u0083\\\\x83\\u00c3\\u0082\\\\x83\\u00c3\\u0083\\\\x82\\u00c3\\u0082\\\\x83\\u00c3\\u0083\\\\x83\\u00c3\\u0082\\\\x82\\u00c3\\u0083\\\\x82\\u00c3\\u0082\\u00c2\\u00a2\\u00c3\\u0083\\\\x83\\u00c3\\u0082\\\\x83\\u00c3\\u0083\\\\x82\\u00c3\\u0082\\\\x82\\u00c3\\u0083\\\\x83\\u00c3\\u0082\\\\x82\\u00c3\\u0083\\\\x82\\u00c3\\u0082\\\\x9d\\u00c3\\u0083\\\\x83\\u00c3\\u0082\\\\x83\\u00c3\\u0083\\\\x82\\u00c3\\u0082\\\\x82\\u00c3\\u0083\\\\x83\\u00c3\\u0082\\\\x82\\u00c3\\u0083\\\\x82\\u00c3\\u0082\\u00c2\\u00a4\\u00c3\\u0083\\\\x83\\u00c3\\u0082\\\\x83\\u00c3\\u0083\\\\x82\\u00c3\\u0082\\\\x83\\u00c3\\u0083\\\\x83\\u00c3\\u0082\\\\x82\\u00c3\\u0083\\\\x82\\u00c3\\u0082\\u00c2\\u00af\\u00c3\\u0083\\\\x83\\u00c3\\u0082\\\\x83\\u00c3\\u0083\\\\x82\\u00c3\\u0082\\\\x82\\u00c3\\u0083\\\\x83\\u00c3\\u0082\\\\x82\\u00c3\\u0083\\\\x82\\u00c3\\u0082\\u00c2\\u00b8\\u00c3\\u0083\\\\x83\\u00c3\\u0082\\\\x83\\u00c3\\u0083\\\\x82\\u00c3\\u0082\\\\x82\\u00c3\\u0083\\\\x83\\u00c3\\u0082\\\\x82\\u00c3\\u0083\\\\x82\\u00c3\\u0082\\\\x8f'), ('Rated 3.0', 'RATED\\\\n  Attended a birthday party here.. we dint order much .. in starters we ordered for lamb chops,prawns tawa and something in chicken which we generally call malai tikka.. they had some other name to it..the lamb chops was perfectly marinated and was excellent.. the meat too was very tender.. prawns and the chicken was just ok..in main course we ordered for ghosh nihari and butter chicken along with laccha paratha and mutton biryani .. everything was good but butter chicken was a little too sweet.. in desserts tried their tiranga kulfi,cut fruits and gulab jamun.. must say gulab jamun is worth a mention as it was stuffed with dry fruits and rich in taste.. tiranga kulfi was very ordinary except the presentation..ambience one of the finest with amazing view of bangalore city and service the best.. liked the way they serve the desserts.. they bring it in a doli with the service guys ringing bells.. amazing experience'), ('Rated 3.0', 'RATED\\\\n  Food-3/5\\\\nFood is average. They have unqiue preparations for normal everyday food that we have. I would recommend Aloo Bharwa which is entirely a different preparation as compared to any other place.\\\\n\\\\nDecor-4/5\\\\nThe hotel is beautiful. Well maintained, clean and had all the amenities required.\\\\n\\\\nStaff-4.5/5\\\\nThe staffs were great. They were welcoming and very polite.')]\",\n          \"[('Rated 5.0', 'RATED\\\\n  Even though the cake was very simple, it was neat and tasty. ESPECIALLY fresh strawberry whipped cream. It was the best cake for the occasion. Will definitely look forward for many more beautiful cakes for beautiful occasions with Sugar Fairy. ???'), ('Rated 5.0', 'RATED\\\\n  The cakes are creatively made and they taste really yum!!\\\\nI placed an order for a Spiderman themed cake and it looked super cool. They are extremely polite to customers and also co-ordinate with you to deliver the best! I have had an amazing experience.'), ('Rated 5.0', 'RATED\\\\n  Had ordered for a cake in the last minute,yet she baked it for me. Just informed her a day before and she was all ready to get it done for me.\\\\nThe cake was yum, it was gooey, choclety, soft and had the perfect taste. Everyone fell in love with the cake ?. I told her that I need it at 11 in the morning and the cake was ready by sharp 11.Happy with the service ?. She also gave a discount since I had traveled all the way to collect the cake. Would highly recommend this place for those who need to get customised cakes done.'), ('Rated 5.0', \\\"RATED\\\\n  Hey.... I ordered cup cakes for friend's birthday ? n those were d cakes which i never tasted in my life ? it was awesome n birthday boy liked it a lot ?? thanks for such a yummy cakes??\\\"), ('Rated 5.0', 'RATED\\\\n  Seema is just amazing.give her the pick or ur theme..ur cake is ready..awsome home made cakes,less sugar,less creamy,way better than the one sold in shops.sugar fairy I recommend to every one?way to go seema??'), ('Rated 4.5', 'RATED\\\\n  After a lot of research i ordered a \\\"bon voyage\\\" themed cake for my friend. I told her what i want...and she gave me exactly the way i wanted.\\\\nThis sugar fairy definitely has a sweet heart! I went to collect my cake way ahead of time yet she had it ready for me.\\\\nThe cake was a bliss!!! And the fondant was just perfect. My friends loved the cake... Although im not a chocolate person,i liked it too. I can\\\\'t wait to go back for more cakes.'), ('Rated 4.0', 'RATED\\\\n  Ordered this KitKat dbc cake for a friends birthday and everyone just loved it. Seemaji does it with all her heart n soul nd you can see that in her cakes??\\\\n\\\\nWould definitely like to order again in future.'), ('Rated 5.0', 'RATED\\\\n  The cake was amazing. It brought a smile to my friends face which I will never forget. Thanks Seema for the awesomeness which you gave me. Totally worth it.'), ('Rated 5.0', 'RATED\\\\n  The Most delicious cakes out in Bangalore !!!!\\\\nTruly one of the best bakers in Bangalore ...the cakes have such a rich blend that makes it so unique very delicious and Amazing ??'), ('Rated 5.0', 'RATED\\\\n  The taste as well as the presentation was top notch!! The owner is really cooperative and sweet!\\\\nInformed her the order at the end moment still she could make it happen!\\\\nIt was simply perfect! :)'), ('Rated 5.0', \\\"RATED\\\\n  I had ordered a cake here for my friend's Bachelorette in April. There were so many options to choose from and I chose the cheesy creative one :D This sugar fairy is really a sugar fairy! The cake was so soft, spongy and creamy. The fondant was light unlike heavy in most of the bakeries. My friend totally loved it and I am so happy I ordered here. I'm going to be a regular customer for sure!! Great going sugar fairy! Cheers:):)\\\"), ('Rated 5.0', 'RATED\\\\n  The cakes are delightful. I personally love death by chocolate and red velvet cake. The cake pops and cupcakes are equally good. Definitely worth the money. The owner is vv enthusiastic and nice.\\\\nThis is the best place for ordering customised cakes.'), ('Rated 5.0', 'RATED\\\\n  Amazing presentation and taste especially for an early morning delivery. Had ordered a bachelorette cake and did not regret it at all. Way to go. Very happy customer ?'), ('Rated 5.0', 'RATED\\\\n  Had Nutella filled cupcakes from the Sugar Fairy and they were amaazing! I gobbled them down within minutes (no regrets). Very customer friendly and stuck to the promised time as well. I\\u00c3\\u0083\\\\x83\\u00c3\\u0082\\\\x83\\u00c3\\u0083\\\\x82\\u00c3\\u0082\\\\x82\\u00c3\\u0083\\\\x83\\u00c3\\u0082\\\\x82\\u00c3\\u0083\\\\x82\\u00c3\\u0082\\\\x92d whole heartedly recommend this place to anyone who wants to have an awesome sugar ride ?'), ('Rated 5.0', \\\"RATED\\\\n  I had ordered a cake here for my friend's Bachelorette in April. There were so many options to choose from and I chose the cheesy creative one :D This sugar fairy is really a sugar fairy! The cake was so soft, spongy and creamy. The fondant was light unlike heavy in most of the bakeries. My friend totally loved it and I am so happy I ordered here. I'm going to be a regular customer for sure!! Great going sugar fairy! Cheers:):)\\\"), ('Rated 5.0', 'RATED\\\\n  The cakes are delightful. I personally love death by chocolate and red velvet cake. The cake pops and cupcakes are equally good. Definitely worth the money. The owner is vv enthusiastic and nice.\\\\nThis is the best place for ordering customised cakes.'), ('Rated 5.0', 'RATED\\\\n  Amazing presentation and taste especially for an early morning delivery. Had ordered a bachelorette cake and did not regret it at all. Way to go. Very happy customer ?'), ('Rated 5.0', 'RATED\\\\n  Had Nutella filled cupcakes from the Sugar Fairy and they were amaazing! I gobbled them down within minutes (no regrets). Very customer friendly and stuck to the promised time as well. I\\u00c3\\u0083\\\\x83\\u00c3\\u0082\\\\x83\\u00c3\\u0083\\\\x82\\u00c3\\u0082\\\\x82\\u00c3\\u0083\\\\x83\\u00c3\\u0082\\\\x82\\u00c3\\u0083\\\\x82\\u00c3\\u0082\\\\x92d whole heartedly recommend this place to anyone who wants to have an awesome sugar ride ?'), ('Rated 5.0', \\\"RATED\\\\n  I had ordered a cake here for my friend's Bachelorette in April. There were so many options to choose from and I chose the cheesy creative one :D This sugar fairy is really a sugar fairy! The cake was so soft, spongy and creamy. The fondant was light unlike heavy in most of the bakeries. My friend totally loved it and I am so happy I ordered here. I'm going to be a regular customer for sure!! Great going sugar fairy! Cheers:):)\\\"), ('Rated 5.0', 'RATED\\\\n  The cakes are delightful. I personally love death by chocolate and red velvet cake. The cake pops and cupcakes are equally good. Definitely worth the money. The owner is vv enthusiastic and nice.\\\\nThis is the best place for ordering customised cakes.'), ('Rated 5.0', 'RATED\\\\n  Amazing presentation and taste especially for an early morning delivery. Had ordered a bachelorette cake and did not regret it at all. Way to go. Very happy customer ?'), ('Rated 5.0', 'RATED\\\\n  Had Nutella filled cupcakes from the Sugar Fairy and they were amaazing! I gobbled them down within minutes (no regrets). Very customer friendly and stuck to the promised time as well. I\\u00c3\\u0083\\\\x83\\u00c3\\u0082\\\\x83\\u00c3\\u0083\\\\x82\\u00c3\\u0082\\\\x82\\u00c3\\u0083\\\\x83\\u00c3\\u0082\\\\x82\\u00c3\\u0083\\\\x82\\u00c3\\u0082\\\\x92d whole heartedly recommend this place to anyone who wants to have an awesome sugar ride ?'), ('Rated 5.0', \\\"RATED\\\\n  I had ordered a cake here for my friend's Bachelorette in April. There were so many options to choose from and I chose the cheesy creative one :D This sugar fairy is really a sugar fairy! The cake was so soft, spongy and creamy. The fondant was light unlike heavy in most of the bakeries. My friend totally loved it and I am so happy I ordered here. I'm going to be a regular customer for sure!! Great going sugar fairy! Cheers:):)\\\"), ('Rated 5.0', 'RATED\\\\n  The cakes are delightful. I personally love death by chocolate and red velvet cake. The cake pops and cupcakes are equally good. Definitely worth the money. The owner is vv enthusiastic and nice.\\\\nThis is the best place for ordering customised cakes.'), ('Rated 5.0', 'RATED\\\\n  Amazing presentation and taste especially for an early morning delivery. Had ordered a bachelorette cake and did not regret it at all. Way to go. Very happy customer ?'), ('Rated 5.0', 'RATED\\\\n  Had Nutella filled cupcakes from the Sugar Fairy and they were amaazing! I gobbled them down within minutes (no regrets). Very customer friendly and stuck to the promised time as well. I\\u00c3\\u0083\\\\x83\\u00c3\\u0082\\\\x83\\u00c3\\u0083\\\\x82\\u00c3\\u0082\\\\x82\\u00c3\\u0083\\\\x83\\u00c3\\u0082\\\\x82\\u00c3\\u0083\\\\x82\\u00c3\\u0082\\\\x92d whole heartedly recommend this place to anyone who wants to have an awesome sugar ride ?'), ('Rated 5.0', \\\"RATED\\\\n  I had ordered a cake here for my friend's Bachelorette in April. There were so many options to choose from and I chose the cheesy creative one :D This sugar fairy is really a sugar fairy! The cake was so soft, spongy and creamy. The fondant was light unlike heavy in most of the bakeries. My friend totally loved it and I am so happy I ordered here. I'm going to be a regular customer for sure!! Great going sugar fairy! Cheers:):)\\\"), ('Rated 5.0', 'RATED\\\\n  The cakes are delightful. I personally love death by chocolate and red velvet cake. The cake pops and cupcakes are equally good. Definitely worth the money. The owner is vv enthusiastic and nice.\\\\nThis is the best place for ordering customised cakes.'), ('Rated 5.0', 'RATED\\\\n  Amazing presentation and taste especially for an early morning delivery. Had ordered a bachelorette cake and did not regret it at all. Way to go. Very happy customer ?'), ('Rated 5.0', 'RATED\\\\n  Had Nutella filled cupcakes from the Sugar Fairy and they were amaazing! I gobbled them down within minutes (no regrets). Very customer friendly and stuck to the promised time as well. I\\u00c3\\u0083\\\\x83\\u00c3\\u0082\\\\x83\\u00c3\\u0083\\\\x82\\u00c3\\u0082\\\\x82\\u00c3\\u0083\\\\x83\\u00c3\\u0082\\\\x82\\u00c3\\u0083\\\\x82\\u00c3\\u0082\\\\x92d whole heartedly recommend this place to anyone who wants to have an awesome sugar ride ?'), ('Rated 5.0', \\\"RATED\\\\n  I had ordered a cake here for my friend's Bachelorette in April. There were so many options to choose from and I chose the cheesy creative one :D This sugar fairy is really a sugar fairy! The cake was so soft, spongy and creamy. The fondant was light unlike heavy in most of the bakeries. My friend totally loved it and I am so happy I ordered here. I'm going to be a regular customer for sure!! Great going sugar fairy! Cheers:):)\\\"), ('Rated 5.0', 'RATED\\\\n  The cakes are delightful. I personally love death by chocolate and red velvet cake. The cake pops and cupcakes are equally good. Definitely worth the money. The owner is vv enthusiastic and nice.\\\\nThis is the best place for ordering customised cakes.'), ('Rated 5.0', 'RATED\\\\n  Amazing presentation and taste especially for an early morning delivery. Had ordered a bachelorette cake and did not regret it at all. Way to go. Very happy customer ?'), ('Rated 5.0', 'RATED\\\\n  Had Nutella filled cupcakes from the Sugar Fairy and they were amaazing! I gobbled them down within minutes (no regrets). Very customer friendly and stuck to the promised time as well. I\\u00c3\\u0083\\\\x83\\u00c3\\u0082\\\\x83\\u00c3\\u0083\\\\x82\\u00c3\\u0082\\\\x82\\u00c3\\u0083\\\\x83\\u00c3\\u0082\\\\x82\\u00c3\\u0083\\\\x82\\u00c3\\u0082\\\\x92d whole heartedly recommend this place to anyone who wants to have an awesome sugar ride ?'), ('Rated 5.0', \\\"RATED\\\\n  I had ordered a cake here for my friend's Bachelorette in April. There were so many options to choose from and I chose the cheesy creative one :D This sugar fairy is really a sugar fairy! The cake was so soft, spongy and creamy. The fondant was light unlike heavy in most of the bakeries. My friend totally loved it and I am so happy I ordered here. I'm going to be a regular customer for sure!! Great going sugar fairy! Cheers:):)\\\"), ('Rated 5.0', 'RATED\\\\n  The cakes are delightful. I personally love death by chocolate and red velvet cake. The cake pops and cupcakes are equally good. Definitely worth the money. The owner is vv enthusiastic and nice.\\\\nThis is the best place for ordering customised cakes.'), ('Rated 5.0', 'RATED\\\\n  Amazing presentation and taste especially for an early morning delivery. Had ordered a bachelorette cake and did not regret it at all. Way to go. Very happy customer ?'), ('Rated 5.0', 'RATED\\\\n  Had Nutella filled cupcakes from the Sugar Fairy and they were amaazing! I gobbled them down within minutes (no regrets). Very customer friendly and stuck to the promised time as well. I\\u00c3\\u0083\\\\x83\\u00c3\\u0082\\\\x83\\u00c3\\u0083\\\\x82\\u00c3\\u0082\\\\x82\\u00c3\\u0083\\\\x83\\u00c3\\u0082\\\\x82\\u00c3\\u0083\\\\x82\\u00c3\\u0082\\\\x92d whole heartedly recommend this place to anyone who wants to have an awesome sugar ride ?'), ('Rated 5.0', \\\"RATED\\\\n  I had ordered a cake here for my friend's Bachelorette in April. There were so many options to choose from and I chose the cheesy creative one :D This sugar fairy is really a sugar fairy! The cake was so soft, spongy and creamy. The fondant was light unlike heavy in most of the bakeries. My friend totally loved it and I am so happy I ordered here. I'm going to be a regular customer for sure!! Great going sugar fairy! Cheers:):)\\\"), ('Rated 5.0', 'RATED\\\\n  The cakes are delightful. I personally love death by chocolate and red velvet cake. The cake pops and cupcakes are equally good. Definitely worth the money. The owner is vv enthusiastic and nice.\\\\nThis is the best place for ordering customised cakes.'), ('Rated 5.0', 'RATED\\\\n  Amazing presentation and taste especially for an early morning delivery. Had ordered a bachelorette cake and did not regret it at all. Way to go. Very happy customer ?'), ('Rated 5.0', 'RATED\\\\n  Had Nutella filled cupcakes from the Sugar Fairy and they were amaazing! I gobbled them down within minutes (no regrets). Very customer friendly and stuck to the promised time as well. I\\u00c3\\u0083\\\\x83\\u00c3\\u0082\\\\x83\\u00c3\\u0083\\\\x82\\u00c3\\u0082\\\\x82\\u00c3\\u0083\\\\x83\\u00c3\\u0082\\\\x82\\u00c3\\u0083\\\\x82\\u00c3\\u0082\\\\x92d whole heartedly recommend this place to anyone who wants to have an awesome sugar ride ?'), ('Rated 5.0', \\\"RATED\\\\n  I had ordered a cake here for my friend's Bachelorette in April. There were so many options to choose from and I chose the cheesy creative one :D This sugar fairy is really a sugar fairy! The cake was so soft, spongy and creamy. The fondant was light unlike heavy in most of the bakeries. My friend totally loved it and I am so happy I ordered here. I'm going to be a regular customer for sure!! Great going sugar fairy! Cheers:):)\\\"), ('Rated 5.0', 'RATED\\\\n  The cakes are delightful. I personally love death by chocolate and red velvet cake. The cake pops and cupcakes are equally good. Definitely worth the money. The owner is vv enthusiastic and nice.\\\\nThis is the best place for ordering customised cakes.'), ('Rated 5.0', 'RATED\\\\n  Amazing presentation and taste especially for an early morning delivery. Had ordered a bachelorette cake and did not regret it at all. Way to go. Very happy customer ?'), ('Rated 5.0', 'RATED\\\\n  Had Nutella filled cupcakes from the Sugar Fairy and they were amaazing! I gobbled them down within minutes (no regrets). Very customer friendly and stuck to the promised time as well. I\\u00c3\\u0083\\\\x83\\u00c3\\u0082\\\\x83\\u00c3\\u0083\\\\x82\\u00c3\\u0082\\\\x82\\u00c3\\u0083\\\\x83\\u00c3\\u0082\\\\x82\\u00c3\\u0083\\\\x82\\u00c3\\u0082\\\\x92d whole heartedly recommend this place to anyone who wants to have an awesome sugar ride ?'), ('Rated 5.0', \\\"RATED\\\\n  I had ordered a cake here for my friend's Bachelorette in April. There were so many options to choose from and I chose the cheesy creative one :D This sugar fairy is really a sugar fairy! The cake was so soft, spongy and creamy. The fondant was light unlike heavy in most of the bakeries. My friend totally loved it and I am so happy I ordered here. I'm going to be a regular customer for sure!! Great going sugar fairy! Cheers:):)\\\"), ('Rated 5.0', 'RATED\\\\n  The cakes are delightful. I personally love death by chocolate and red velvet cake. The cake pops and cupcakes are equally good. Definitely worth the money. The owner is vv enthusiastic and nice.\\\\nThis is the best place for ordering customised cakes.'), ('Rated 5.0', 'RATED\\\\n  Amazing presentation and taste especially for an early morning delivery. Had ordered a bachelorette cake and did not regret it at all. Way to go. Very happy customer ?'), ('Rated 5.0', 'RATED\\\\n  Had Nutella filled cupcakes from the Sugar Fairy and they were amaazing! I gobbled them down within minutes (no regrets). Very customer friendly and stuck to the promised time as well. I\\u00c3\\u0083\\\\x83\\u00c3\\u0082\\\\x83\\u00c3\\u0083\\\\x82\\u00c3\\u0082\\\\x82\\u00c3\\u0083\\\\x83\\u00c3\\u0082\\\\x82\\u00c3\\u0083\\\\x82\\u00c3\\u0082\\\\x92d whole heartedly recommend this place to anyone who wants to have an awesome sugar ride ?'), ('Rated 5.0', \\\"RATED\\\\n  I had ordered a cake here for my friend's Bachelorette in April. There were so many options to choose from and I chose the cheesy creative one :D This sugar fairy is really a sugar fairy! The cake was so soft, spongy and creamy. The fondant was light unlike heavy in most of the bakeries. My friend totally loved it and I am so happy I ordered here. I'm going to be a regular customer for sure!! Great going sugar fairy! Cheers:):)\\\"), ('Rated 5.0', 'RATED\\\\n  The cakes are delightful. I personally love death by chocolate and red velvet cake. The cake pops and cupcakes are equally good. Definitely worth the money. The owner is vv enthusiastic and nice.\\\\nThis is the best place for ordering customised cakes.'), ('Rated 5.0', 'RATED\\\\n  Amazing presentation and taste especially for an early morning delivery. Had ordered a bachelorette cake and did not regret it at all. Way to go. Very happy customer ?'), ('Rated 5.0', 'RATED\\\\n  Had Nutella filled cupcakes from the Sugar Fairy and they were amaazing! I gobbled them down within minutes (no regrets). Very customer friendly and stuck to the promised time as well. I\\u00c3\\u0083\\\\x83\\u00c3\\u0082\\\\x83\\u00c3\\u0083\\\\x82\\u00c3\\u0082\\\\x82\\u00c3\\u0083\\\\x83\\u00c3\\u0082\\\\x82\\u00c3\\u0083\\\\x82\\u00c3\\u0082\\\\x92d whole heartedly recommend this place to anyone who wants to have an awesome sugar ride ?'), ('Rated 5.0', \\\"RATED\\\\n  I had ordered a cake here for my friend's Bachelorette in April. There were so many options to choose from and I chose the cheesy creative one :D This sugar fairy is really a sugar fairy! The cake was so soft, spongy and creamy. The fondant was light unlike heavy in most of the bakeries. My friend totally loved it and I am so happy I ordered here. I'm going to be a regular customer for sure!! Great going sugar fairy! Cheers:):)\\\"), ('Rated 5.0', 'RATED\\\\n  The cakes are delightful. I personally love death by chocolate and red velvet cake. The cake pops and cupcakes are equally good. Definitely worth the money. The owner is vv enthusiastic and nice.\\\\nThis is the best place for ordering customised cakes.'), ('Rated 5.0', 'RATED\\\\n  Amazing presentation and taste especially for an early morning delivery. Had ordered a bachelorette cake and did not regret it at all. Way to go. Very happy customer ?'), ('Rated 5.0', 'RATED\\\\n  Had Nutella filled cupcakes from the Sugar Fairy and they were amaazing! I gobbled them down within minutes (no regrets). Very customer friendly and stuck to the promised time as well. I\\u00c3\\u0083\\\\x83\\u00c3\\u0082\\\\x83\\u00c3\\u0083\\\\x82\\u00c3\\u0082\\\\x82\\u00c3\\u0083\\\\x83\\u00c3\\u0082\\\\x82\\u00c3\\u0083\\\\x82\\u00c3\\u0082\\\\x92d whole heartedly recommend this place to anyone who wants to have an awesome sugar ride ?'), ('Rated 5.0', \\\"RATED\\\\n  I had ordered a cake here for my friend's Bachelorette in April. There were so many options to choose from and I chose the cheesy creative one :D This sugar fairy is really a sugar fairy! The cake was so soft, spongy and creamy. The fondant was light unlike heavy in most of the bakeries. My friend totally loved it and I am so happy I ordered here. I'm going to be a regular customer for sure!! Great going sugar fairy! Cheers:):)\\\"), ('Rated 5.0', 'RATED\\\\n  The cakes are delightful. I personally love death by chocolate and red velvet cake. The cake pops and cupcakes are equally good. Definitely worth the money. The owner is vv enthusiastic and nice.\\\\nThis is the best place for ordering customised cakes.'), ('Rated 5.0', 'RATED\\\\n  Amazing presentation and taste especially for an early morning delivery. Had ordered a bachelorette cake and did not regret it at all. Way to go. Very happy customer ?'), ('Rated 5.0', 'RATED\\\\n  Had Nutella filled cupcakes from the Sugar Fairy and they were amaazing! I gobbled them down within minutes (no regrets). Very customer friendly and stuck to the promised time as well. I\\u00c3\\u0083\\\\x83\\u00c3\\u0082\\\\x83\\u00c3\\u0083\\\\x82\\u00c3\\u0082\\\\x82\\u00c3\\u0083\\\\x83\\u00c3\\u0082\\\\x82\\u00c3\\u0083\\\\x82\\u00c3\\u0082\\\\x92d whole heartedly recommend this place to anyone who wants to have an awesome sugar ride ?'), ('Rated 5.0', \\\"RATED\\\\n  I had ordered a cake here for my friend's Bachelorette in April. There were so many options to choose from and I chose the cheesy creative one :D This sugar fairy is really a sugar fairy! The cake was so soft, spongy and creamy. The fondant was light unlike heavy in most of the bakeries. My friend totally loved it and I am so happy I ordered here. I'm going to be a regular customer for sure!! Great going sugar fairy! Cheers:):)\\\"), ('Rated 5.0', 'RATED\\\\n  The cakes are delightful. I personally love death by chocolate and red velvet cake. The cake pops and cupcakes are equally good. Definitely worth the money. The owner is vv enthusiastic and nice.\\\\nThis is the best place for ordering customised cakes.'), ('Rated 5.0', 'RATED\\\\n  Amazing presentation and taste especially for an early morning delivery. Had ordered a bachelorette cake and did not regret it at all. Way to go. Very happy customer ?'), ('Rated 5.0', 'RATED\\\\n  Had Nutella filled cupcakes from the Sugar Fairy and they were amaazing! I gobbled them down within minutes (no regrets). Very customer friendly and stuck to the promised time as well. I\\u00c3\\u0083\\\\x83\\u00c3\\u0082\\\\x83\\u00c3\\u0083\\\\x82\\u00c3\\u0082\\\\x82\\u00c3\\u0083\\\\x83\\u00c3\\u0082\\\\x82\\u00c3\\u0083\\\\x82\\u00c3\\u0082\\\\x92d whole heartedly recommend this place to anyone who wants to have an awesome sugar ride ?'), ('Rated 5.0', \\\"RATED\\\\n  I had ordered a cake here for my friend's Bachelorette in April. There were so many options to choose from and I chose the cheesy creative one :D This sugar fairy is really a sugar fairy! The cake was so soft, spongy and creamy. The fondant was light unlike heavy in most of the bakeries. My friend totally loved it and I am so happy I ordered here. I'm going to be a regular customer for sure!! Great going sugar fairy! Cheers:):)\\\"), ('Rated 5.0', 'RATED\\\\n  The cakes are delightful. I personally love death by chocolate and red velvet cake. The cake pops and cupcakes are equally good. Definitely worth the money. The owner is vv enthusiastic and nice.\\\\nThis is the best place for ordering customised cakes.'), ('Rated 5.0', 'RATED\\\\n  Amazing presentation and taste especially for an early morning delivery. Had ordered a bachelorette cake and did not regret it at all. Way to go. Very happy customer ?'), ('Rated 5.0', 'RATED\\\\n  Had Nutella filled cupcakes from the Sugar Fairy and they were amaazing! I gobbled them down within minutes (no regrets). Very customer friendly and stuck to the promised time as well. I\\u00c3\\u0083\\\\x83\\u00c3\\u0082\\\\x83\\u00c3\\u0083\\\\x82\\u00c3\\u0082\\\\x82\\u00c3\\u0083\\\\x83\\u00c3\\u0082\\\\x82\\u00c3\\u0083\\\\x82\\u00c3\\u0082\\\\x92d whole heartedly recommend this place to anyone who wants to have an awesome sugar ride ?'), ('Rated 5.0', \\\"RATED\\\\n  I had ordered a cake here for my friend's Bachelorette in April. There were so many options to choose from and I chose the cheesy creative one :D This sugar fairy is really a sugar fairy! The cake was so soft, spongy and creamy. The fondant was light unlike heavy in most of the bakeries. My friend totally loved it and I am so happy I ordered here. I'm going to be a regular customer for sure!! Great going sugar fairy! Cheers:):)\\\"), ('Rated 5.0', 'RATED\\\\n  The cakes are delightful. I personally love death by chocolate and red velvet cake. The cake pops and cupcakes are equally good. Definitely worth the money. The owner is vv enthusiastic and nice.\\\\nThis is the best place for ordering customised cakes.'), ('Rated 5.0', 'RATED\\\\n  Amazing presentation and taste especially for an early morning delivery. Had ordered a bachelorette cake and did not regret it at all. Way to go. Very happy customer ?'), ('Rated 5.0', 'RATED\\\\n  Had Nutella filled cupcakes from the Sugar Fairy and they were amaazing! I gobbled them down within minutes (no regrets). Very customer friendly and stuck to the promised time as well. I\\u00c3\\u0083\\\\x83\\u00c3\\u0082\\\\x83\\u00c3\\u0083\\\\x82\\u00c3\\u0082\\\\x82\\u00c3\\u0083\\\\x83\\u00c3\\u0082\\\\x82\\u00c3\\u0083\\\\x82\\u00c3\\u0082\\\\x92d whole heartedly recommend this place to anyone who wants to have an awesome sugar ride ?'), ('Rated 5.0', \\\"RATED\\\\n  I had ordered a cake here for my friend's Bachelorette in April. There were so many options to choose from and I chose the cheesy creative one :D This sugar fairy is really a sugar fairy! The cake was so soft, spongy and creamy. The fondant was light unlike heavy in most of the bakeries. My friend totally loved it and I am so happy I ordered here. I'm going to be a regular customer for sure!! Great going sugar fairy! Cheers:):)\\\"), ('Rated 5.0', 'RATED\\\\n  The cakes are delightful. I personally love death by chocolate and red velvet cake. The cake pops and cupcakes are equally good. Definitely worth the money. The owner is vv enthusiastic and nice.\\\\nThis is the best place for ordering customised cakes.'), ('Rated 5.0', 'RATED\\\\n  Amazing presentation and taste especially for an early morning delivery. Had ordered a bachelorette cake and did not regret it at all. Way to go. Very happy customer ?'), ('Rated 5.0', 'RATED\\\\n  Had Nutella filled cupcakes from the Sugar Fairy and they were amaazing! I gobbled them down within minutes (no regrets). Very customer friendly and stuck to the promised time as well. I\\u00c3\\u0083\\\\x83\\u00c3\\u0082\\\\x83\\u00c3\\u0083\\\\x82\\u00c3\\u0082\\\\x82\\u00c3\\u0083\\\\x83\\u00c3\\u0082\\\\x82\\u00c3\\u0083\\\\x82\\u00c3\\u0082\\\\x92d whole heartedly recommend this place to anyone who wants to have an awesome sugar ride ?'), ('Rated 5.0', \\\"RATED\\\\n  I had ordered a cake here for my friend's Bachelorette in April. There were so many options to choose from and I chose the cheesy creative one :D This sugar fairy is really a sugar fairy! The cake was so soft, spongy and creamy. The fondant was light unlike heavy in most of the bakeries. My friend totally loved it and I am so happy I ordered here. I'm going to be a regular customer for sure!! Great going sugar fairy! Cheers:):)\\\"), ('Rated 5.0', 'RATED\\\\n  The cakes are delightful. I personally love death by chocolate and red velvet cake. The cake pops and cupcakes are equally good. Definitely worth the money. The owner is vv enthusiastic and nice.\\\\nThis is the best place for ordering customised cakes.'), ('Rated 5.0', 'RATED\\\\n  Amazing presentation and taste especially for an early morning delivery. Had ordered a bachelorette cake and did not regret it at all. Way to go. Very happy customer ?'), ('Rated 5.0', 'RATED\\\\n  Had Nutella filled cupcakes from the Sugar Fairy and they were amaazing! I gobbled them down within minutes (no regrets). Very customer friendly and stuck to the promised time as well. I\\u00c3\\u0083\\\\x83\\u00c3\\u0082\\\\x83\\u00c3\\u0083\\\\x82\\u00c3\\u0082\\\\x82\\u00c3\\u0083\\\\x83\\u00c3\\u0082\\\\x82\\u00c3\\u0083\\\\x82\\u00c3\\u0082\\\\x92d whole heartedly recommend this place to anyone who wants to have an awesome sugar ride ?'), ('Rated 5.0', \\\"RATED\\\\n  I had ordered a cake here for my friend's Bachelorette in April. There were so many options to choose from and I chose the cheesy creative one :D This sugar fairy is really a sugar fairy! The cake was so soft, spongy and creamy. The fondant was light unlike heavy in most of the bakeries. My friend totally loved it and I am so happy I ordered here. I'm going to be a regular customer for sure!! Great going sugar fairy! Cheers:):)\\\"), ('Rated 5.0', 'RATED\\\\n  The cakes are delightful. I personally love death by chocolate and red velvet cake. The cake pops and cupcakes are equally good. Definitely worth the money. The owner is vv enthusiastic and nice.\\\\nThis is the best place for ordering customised cakes.'), ('Rated 5.0', 'RATED\\\\n  Amazing presentation and taste especially for an early morning delivery. Had ordered a bachelorette cake and did not regret it at all. Way to go. Very happy customer ?'), ('Rated 5.0', 'RATED\\\\n  Had Nutella filled cupcakes from the Sugar Fairy and they were amaazing! I gobbled them down within minutes (no regrets). Very customer friendly and stuck to the promised time as well. I\\u00c3\\u0083\\\\x83\\u00c3\\u0082\\\\x83\\u00c3\\u0083\\\\x82\\u00c3\\u0082\\\\x82\\u00c3\\u0083\\\\x83\\u00c3\\u0082\\\\x82\\u00c3\\u0083\\\\x82\\u00c3\\u0082\\\\x92d whole heartedly recommend this place to anyone who wants to have an awesome sugar ride ?'), ('Rated 5.0', \\\"RATED\\\\n  I had ordered a cake here for my friend's Bachelorette in April. There were so many options to choose from and I chose the cheesy creative one :D This sugar fairy is really a sugar fairy! The cake was so soft, spongy and creamy. The fondant was light unlike heavy in most of the bakeries. My friend totally loved it and I am so happy I ordered here. I'm going to be a regular customer for sure!! Great going sugar fairy! Cheers:):)\\\"), ('Rated 5.0', 'RATED\\\\n  The cakes are delightful. I personally love death by chocolate and red velvet cake. The cake pops and cupcakes are equally good. Definitely worth the money. The owner is vv enthusiastic and nice.\\\\nThis is the best place for ordering customised cakes.'), ('Rated 5.0', 'RATED\\\\n  Amazing presentation and taste especially for an early morning delivery. Had ordered a bachelorette cake and did not regret it at all. Way to go. Very happy customer ?'), ('Rated 5.0', 'RATED\\\\n  Had Nutella filled cupcakes from the Sugar Fairy and they were amaazing! I gobbled them down within minutes (no regrets). Very customer friendly and stuck to the promised time as well. I\\u00c3\\u0083\\\\x83\\u00c3\\u0082\\\\x83\\u00c3\\u0083\\\\x82\\u00c3\\u0082\\\\x82\\u00c3\\u0083\\\\x83\\u00c3\\u0082\\\\x82\\u00c3\\u0083\\\\x82\\u00c3\\u0082\\\\x92d whole heartedly recommend this place to anyone who wants to have an awesome sugar ride ?'), ('Rated 5.0', \\\"RATED\\\\n  I had ordered a cake here for my friend's Bachelorette in April. There were so many options to choose from and I chose the cheesy creative one :D This sugar fairy is really a sugar fairy! The cake was so soft, spongy and creamy. The fondant was light unlike heavy in most of the bakeries. My friend totally loved it and I am so happy I ordered here. I'm going to be a regular customer for sure!! Great going sugar fairy! Cheers:):)\\\"), ('Rated 5.0', 'RATED\\\\n  The cakes are delightful. I personally love death by chocolate and red velvet cake. The cake pops and cupcakes are equally good. Definitely worth the money. The owner is vv enthusiastic and nice.\\\\nThis is the best place for ordering customised cakes.'), ('Rated 5.0', 'RATED\\\\n  Amazing presentation and taste especially for an early morning delivery. Had ordered a bachelorette cake and did not regret it at all. Way to go. Very happy customer ?'), ('Rated 5.0', 'RATED\\\\n  Had Nutella filled cupcakes from the Sugar Fairy and they were amaazing! I gobbled them down within minutes (no regrets). Very customer friendly and stuck to the promised time as well. I\\u00c3\\u0083\\\\x83\\u00c3\\u0082\\\\x83\\u00c3\\u0083\\\\x82\\u00c3\\u0082\\\\x82\\u00c3\\u0083\\\\x83\\u00c3\\u0082\\\\x82\\u00c3\\u0083\\\\x82\\u00c3\\u0082\\\\x92d whole heartedly recommend this place to anyone who wants to have an awesome sugar ride ?'), ('Rated 5.0', \\\"RATED\\\\n  I had ordered a cake here for my friend's Bachelorette in April. There were so many options to choose from and I chose the cheesy creative one :D This sugar fairy is really a sugar fairy! The cake was so soft, spongy and creamy. The fondant was light unlike heavy in most of the bakeries. My friend totally loved it and I am so happy I ordered here. I'm going to be a regular customer for sure!! Great going sugar fairy! Cheers:):)\\\"), ('Rated 5.0', 'RATED\\\\n  The cakes are delightful. I personally love death by chocolate and red velvet cake. The cake pops and cupcakes are equally good. Definitely worth the money. The owner is vv enthusiastic and nice.\\\\nThis is the best place for ordering customised cakes.'), ('Rated 5.0', 'RATED\\\\n  Amazing presentation and taste especially for an early morning delivery. Had ordered a bachelorette cake and did not regret it at all. Way to go. Very happy customer ?'), ('Rated 5.0', 'RATED\\\\n  Had Nutella filled cupcakes from the Sugar Fairy and they were amaazing! I gobbled them down within minutes (no regrets). Very customer friendly and stuck to the promised time as well. I\\u00c3\\u0083\\\\x83\\u00c3\\u0082\\\\x83\\u00c3\\u0083\\\\x82\\u00c3\\u0082\\\\x82\\u00c3\\u0083\\\\x83\\u00c3\\u0082\\\\x82\\u00c3\\u0083\\\\x82\\u00c3\\u0082\\\\x92d whole heartedly recommend this place to anyone who wants to have an awesome sugar ride ?'), ('Rated 5.0', \\\"RATED\\\\n  I had ordered a cake here for my friend's Bachelorette in April. There were so many options to choose from and I chose the cheesy creative one :D This sugar fairy is really a sugar fairy! The cake was so soft, spongy and creamy. The fondant was light unlike heavy in most of the bakeries. My friend totally loved it and I am so happy I ordered here. I'm going to be a regular customer for sure!! Great going sugar fairy! Cheers:):)\\\"), ('Rated 5.0', 'RATED\\\\n  The cakes are delightful. I personally love death by chocolate and red velvet cake. The cake pops and cupcakes are equally good. Definitely worth the money. The owner is vv enthusiastic and nice.\\\\nThis is the best place for ordering customised cakes.'), ('Rated 5.0', 'RATED\\\\n  Amazing presentation and taste especially for an early morning delivery. Had ordered a bachelorette cake and did not regret it at all. Way to go. Very happy customer ?'), ('Rated 5.0', 'RATED\\\\n  Had Nutella filled cupcakes from the Sugar Fairy and they were amaazing! I gobbled them down within minutes (no regrets). Very customer friendly and stuck to the promised time as well. I\\u00c3\\u0083\\\\x83\\u00c3\\u0082\\\\x83\\u00c3\\u0083\\\\x82\\u00c3\\u0082\\\\x82\\u00c3\\u0083\\\\x83\\u00c3\\u0082\\\\x82\\u00c3\\u0083\\\\x82\\u00c3\\u0082\\\\x92d whole heartedly recommend this place to anyone who wants to have an awesome sugar ride ?'), ('Rated 5.0', \\\"RATED\\\\n  I had ordered a cake here for my friend's Bachelorette in April. There were so many options to choose from and I chose the cheesy creative one :D This sugar fairy is really a sugar fairy! The cake was so soft, spongy and creamy. The fondant was light unlike heavy in most of the bakeries. My friend totally loved it and I am so happy I ordered here. I'm going to be a regular customer for sure!! Great going sugar fairy! Cheers:):)\\\"), ('Rated 5.0', 'RATED\\\\n  The cakes are delightful. I personally love death by chocolate and red velvet cake. The cake pops and cupcakes are equally good. Definitely worth the money. The owner is vv enthusiastic and nice.\\\\nThis is the best place for ordering customised cakes.'), ('Rated 5.0', 'RATED\\\\n  Amazing presentation and taste especially for an early morning delivery. Had ordered a bachelorette cake and did not regret it at all. Way to go. Very happy customer ?'), ('Rated 5.0', 'RATED\\\\n  Had Nutella filled cupcakes from the Sugar Fairy and they were amaazing! I gobbled them down within minutes (no regrets). Very customer friendly and stuck to the promised time as well. I\\u00c3\\u0083\\\\x83\\u00c3\\u0082\\\\x83\\u00c3\\u0083\\\\x82\\u00c3\\u0082\\\\x82\\u00c3\\u0083\\\\x83\\u00c3\\u0082\\\\x82\\u00c3\\u0083\\\\x82\\u00c3\\u0082\\\\x92d whole heartedly recommend this place to anyone who wants to have an awesome sugar ride ?'), ('Rated 5.0', \\\"RATED\\\\n  I had ordered a cake here for my friend's Bachelorette in April. There were so many options to choose from and I chose the cheesy creative one :D This sugar fairy is really a sugar fairy! The cake was so soft, spongy and creamy. The fondant was light unlike heavy in most of the bakeries. My friend totally loved it and I am so happy I ordered here. I'm going to be a regular customer for sure!! Great going sugar fairy! Cheers:):)\\\"), ('Rated 5.0', 'RATED\\\\n  The cakes are delightful. I personally love death by chocolate and red velvet cake. The cake pops and cupcakes are equally good. Definitely worth the money. The owner is vv enthusiastic and nice.\\\\nThis is the best place for ordering customised cakes.'), ('Rated 5.0', 'RATED\\\\n  Amazing presentation and taste especially for an early morning delivery. Had ordered a bachelorette cake and did not regret it at all. Way to go. Very happy customer ?'), ('Rated 5.0', 'RATED\\\\n  Had Nutella filled cupcakes from the Sugar Fairy and they were amaazing! I gobbled them down within minutes (no regrets). Very customer friendly and stuck to the promised time as well. I\\u00c3\\u0083\\\\x83\\u00c3\\u0082\\\\x83\\u00c3\\u0083\\\\x82\\u00c3\\u0082\\\\x82\\u00c3\\u0083\\\\x83\\u00c3\\u0082\\\\x82\\u00c3\\u0083\\\\x82\\u00c3\\u0082\\\\x92d whole heartedly recommend this place to anyone who wants to have an awesome sugar ride ?'), ('Rated 5.0', \\\"RATED\\\\n  I had ordered a cake here for my friend's Bachelorette in April. There were so many options to choose from and I chose the cheesy creative one :D This sugar fairy is really a sugar fairy! The cake was so soft, spongy and creamy. The fondant was light unlike heavy in most of the bakeries. My friend totally loved it and I am so happy I ordered here. I'm going to be a regular customer for sure!! Great going sugar fairy! Cheers:):)\\\"), ('Rated 5.0', 'RATED\\\\n  The cakes are delightful. I personally love death by chocolate and red velvet cake. The cake pops and cupcakes are equally good. Definitely worth the money. The owner is vv enthusiastic and nice.\\\\nThis is the best place for ordering customised cakes.'), ('Rated 5.0', 'RATED\\\\n  Amazing presentation and taste especially for an early morning delivery. Had ordered a bachelorette cake and did not regret it at all. Way to go. Very happy customer ?'), ('Rated 5.0', 'RATED\\\\n  Had Nutella filled cupcakes from the Sugar Fairy and they were amaazing! I gobbled them down within minutes (no regrets). Very customer friendly and stuck to the promised time as well. I\\u00c3\\u0083\\\\x83\\u00c3\\u0082\\\\x83\\u00c3\\u0083\\\\x82\\u00c3\\u0082\\\\x82\\u00c3\\u0083\\\\x83\\u00c3\\u0082\\\\x82\\u00c3\\u0083\\\\x82\\u00c3\\u0082\\\\x92d whole heartedly recommend this place to anyone who wants to have an awesome sugar ride ?'), ('Rated 5.0', \\\"RATED\\\\n  I had ordered a cake here for my friend's Bachelorette in April. There were so many options to choose from and I chose the cheesy creative one :D This sugar fairy is really a sugar fairy! The cake was so soft, spongy and creamy. The fondant was light unlike heavy in most of the bakeries. My friend totally loved it and I am so happy I ordered here. I'm going to be a regular customer for sure!! Great going sugar fairy! Cheers:):)\\\"), ('Rated 5.0', 'RATED\\\\n  The cakes are delightful. I personally love death by chocolate and red velvet cake. The cake pops and cupcakes are equally good. Definitely worth the money. The owner is vv enthusiastic and nice.\\\\nThis is the best place for ordering customised cakes.'), ('Rated 5.0', 'RATED\\\\n  Amazing presentation and taste especially for an early morning delivery. Had ordered a bachelorette cake and did not regret it at all. Way to go. Very happy customer ?'), ('Rated 5.0', 'RATED\\\\n  Had Nutella filled cupcakes from the Sugar Fairy and they were amaazing! I gobbled them down within minutes (no regrets). Very customer friendly and stuck to the promised time as well. I\\u00c3\\u0083\\\\x83\\u00c3\\u0082\\\\x83\\u00c3\\u0083\\\\x82\\u00c3\\u0082\\\\x82\\u00c3\\u0083\\\\x83\\u00c3\\u0082\\\\x82\\u00c3\\u0083\\\\x82\\u00c3\\u0082\\\\x92d whole heartedly recommend this place to anyone who wants to have an awesome sugar ride ?'), ('Rated 5.0', \\\"RATED\\\\n  I had ordered a cake here for my friend's Bachelorette in April. There were so many options to choose from and I chose the cheesy creative one :D This sugar fairy is really a sugar fairy! The cake was so soft, spongy and creamy. The fondant was light unlike heavy in most of the bakeries. My friend totally loved it and I am so happy I ordered here. I'm going to be a regular customer for sure!! Great going sugar fairy! Cheers:):)\\\"), ('Rated 5.0', 'RATED\\\\n  The cakes are delightful. I personally love death by chocolate and red velvet cake. The cake pops and cupcakes are equally good. Definitely worth the money. The owner is vv enthusiastic and nice.\\\\nThis is the best place for ordering customised cakes.'), ('Rated 5.0', 'RATED\\\\n  Amazing presentation and taste especially for an early morning delivery. Had ordered a bachelorette cake and did not regret it at all. Way to go. Very happy customer ?'), ('Rated 5.0', 'RATED\\\\n  Had Nutella filled cupcakes from the Sugar Fairy and they were amaazing! I gobbled them down within minutes (no regrets). Very customer friendly and stuck to the promised time as well. I\\u00c3\\u0083\\\\x83\\u00c3\\u0082\\\\x83\\u00c3\\u0083\\\\x82\\u00c3\\u0082\\\\x82\\u00c3\\u0083\\\\x83\\u00c3\\u0082\\\\x82\\u00c3\\u0083\\\\x82\\u00c3\\u0082\\\\x92d whole heartedly recommend this place to anyone who wants to have an awesome sugar ride ?'), ('Rated 5.0', \\\"RATED\\\\n  I had ordered a cake here for my friend's Bachelorette in April. There were so many options to choose from and I chose the cheesy creative one :D This sugar fairy is really a sugar fairy! The cake was so soft, spongy and creamy. The fondant was light unlike heavy in most of the bakeries. My friend totally loved it and I am so happy I ordered here. I'm going to be a regular customer for sure!! Great going sugar fairy! Cheers:):)\\\"), ('Rated 5.0', 'RATED\\\\n  The cakes are delightful. I personally love death by chocolate and red velvet cake. The cake pops and cupcakes are equally good. Definitely worth the money. The owner is vv enthusiastic and nice.\\\\nThis is the best place for ordering customised cakes.'), ('Rated 5.0', 'RATED\\\\n  Amazing presentation and taste especially for an early morning delivery. Had ordered a bachelorette cake and did not regret it at all. Way to go. Very happy customer ?'), ('Rated 5.0', 'RATED\\\\n  Had Nutella filled cupcakes from the Sugar Fairy and they were amaazing! I gobbled them down within minutes (no regrets). Very customer friendly and stuck to the promised time as well. I\\u00c3\\u0083\\\\x83\\u00c3\\u0082\\\\x83\\u00c3\\u0083\\\\x82\\u00c3\\u0082\\\\x82\\u00c3\\u0083\\\\x83\\u00c3\\u0082\\\\x82\\u00c3\\u0083\\\\x82\\u00c3\\u0082\\\\x92d whole heartedly recommend this place to anyone who wants to have an awesome sugar ride ?'), ('Rated 5.0', \\\"RATED\\\\n  I had ordered a cake here for my friend's Bachelorette in April. There were so many options to choose from and I chose the cheesy creative one :D This sugar fairy is really a sugar fairy! The cake was so soft, spongy and creamy. The fondant was light unlike heavy in most of the bakeries. My friend totally loved it and I am so happy I ordered here. I'm going to be a regular customer for sure!! Great going sugar fairy! Cheers:):)\\\"), ('Rated 5.0', 'RATED\\\\n  The cakes are delightful. I personally love death by chocolate and red velvet cake. The cake pops and cupcakes are equally good. Definitely worth the money. The owner is vv enthusiastic and nice.\\\\nThis is the best place for ordering customised cakes.'), ('Rated 5.0', 'RATED\\\\n  Amazing presentation and taste especially for an early morning delivery. Had ordered a bachelorette cake and did not regret it at all. Way to go. Very happy customer ?'), ('Rated 5.0', 'RATED\\\\n  Had Nutella filled cupcakes from the Sugar Fairy and they were amaazing! I gobbled them down within minutes (no regrets). Very customer friendly and stuck to the promised time as well. I\\u00c3\\u0083\\\\x83\\u00c3\\u0082\\\\x83\\u00c3\\u0083\\\\x82\\u00c3\\u0082\\\\x82\\u00c3\\u0083\\\\x83\\u00c3\\u0082\\\\x82\\u00c3\\u0083\\\\x82\\u00c3\\u0082\\\\x92d whole heartedly recommend this place to anyone who wants to have an awesome sugar ride ?'), ('Rated 5.0', \\\"RATED\\\\n  I had ordered a cake here for my friend's Bachelorette in April. There were so many options to choose from and I chose the cheesy creative one :D This sugar fairy is really a sugar fairy! The cake was so soft, spongy and creamy. The fondant was light unlike heavy in most of the bakeries. My friend totally loved it and I am so happy I ordered here. I'm going to be a regular customer for sure!! Great going sugar fairy! Cheers:):)\\\"), ('Rated 5.0', 'RATED\\\\n  The cakes are delightful. I personally love death by chocolate and red velvet cake. The cake pops and cupcakes are equally good. Definitely worth the money. The owner is vv enthusiastic and nice.\\\\nThis is the best place for ordering customised cakes.'), ('Rated 5.0', 'RATED\\\\n  Amazing presentation and taste especially for an early morning delivery. Had ordered a bachelorette cake and did not regret it at all. Way to go. Very happy customer ?'), ('Rated 5.0', 'RATED\\\\n  Had Nutella filled cupcakes from the Sugar Fairy and they were amaazing! I gobbled them down within minutes (no regrets). Very customer friendly and stuck to the promised time as well. I\\u00c3\\u0083\\\\x83\\u00c3\\u0082\\\\x83\\u00c3\\u0083\\\\x82\\u00c3\\u0082\\\\x82\\u00c3\\u0083\\\\x83\\u00c3\\u0082\\\\x82\\u00c3\\u0083\\\\x82\\u00c3\\u0082\\\\x92d whole heartedly recommend this place to anyone who wants to have an awesome sugar ride ?'), ('Rated 5.0', \\\"RATED\\\\n  I had ordered a cake here for my friend's Bachelorette in April. There were so many options to choose from and I chose the cheesy creative one :D This sugar fairy is really a sugar fairy! The cake was so soft, spongy and creamy. The fondant was light unlike heavy in most of the bakeries. My friend totally loved it and I am so happy I ordered here. I'm going to be a regular customer for sure!! Great going sugar fairy! Cheers:):)\\\"), ('Rated 5.0', 'RATED\\\\n  The cakes are delightful. I personally love death by chocolate and red velvet cake. The cake pops and cupcakes are equally good. Definitely worth the money. The owner is vv enthusiastic and nice.\\\\nThis is the best place for ordering customised cakes.'), ('Rated 5.0', 'RATED\\\\n  Amazing presentation and taste especially for an early morning delivery. Had ordered a bachelorette cake and did not regret it at all. Way to go. Very happy customer ?'), ('Rated 5.0', 'RATED\\\\n  Had Nutella filled cupcakes from the Sugar Fairy and they were amaazing! I gobbled them down within minutes (no regrets). Very customer friendly and stuck to the promised time as well. I\\u00c3\\u0083\\\\x83\\u00c3\\u0082\\\\x83\\u00c3\\u0083\\\\x82\\u00c3\\u0082\\\\x82\\u00c3\\u0083\\\\x83\\u00c3\\u0082\\\\x82\\u00c3\\u0083\\\\x82\\u00c3\\u0082\\\\x92d whole heartedly recommend this place to anyone who wants to have an awesome sugar ride ?'), ('Rated 5.0', \\\"RATED\\\\n  I had ordered a cake here for my friend's Bachelorette in April. There were so many options to choose from and I chose the cheesy creative one :D This sugar fairy is really a sugar fairy! The cake was so soft, spongy and creamy. The fondant was light unlike heavy in most of the bakeries. My friend totally loved it and I am so happy I ordered here. I'm going to be a regular customer for sure!! Great going sugar fairy! Cheers:):)\\\"), ('Rated 5.0', 'RATED\\\\n  The cakes are delightful. I personally love death by chocolate and red velvet cake. The cake pops and cupcakes are equally good. Definitely worth the money. The owner is vv enthusiastic and nice.\\\\nThis is the best place for ordering customised cakes.'), ('Rated 5.0', 'RATED\\\\n  Amazing presentation and taste especially for an early morning delivery. Had ordered a bachelorette cake and did not regret it at all. Way to go. Very happy customer ?'), ('Rated 5.0', 'RATED\\\\n  Had Nutella filled cupcakes from the Sugar Fairy and they were amaazing! I gobbled them down within minutes (no regrets). Very customer friendly and stuck to the promised time as well. I\\u00c3\\u0083\\\\x83\\u00c3\\u0082\\\\x83\\u00c3\\u0083\\\\x82\\u00c3\\u0082\\\\x82\\u00c3\\u0083\\\\x83\\u00c3\\u0082\\\\x82\\u00c3\\u0083\\\\x82\\u00c3\\u0082\\\\x92d whole heartedly recommend this place to anyone who wants to have an awesome sugar ride ?'), ('Rated 5.0', \\\"RATED\\\\n  I had ordered a cake here for my friend's Bachelorette in April. There were so many options to choose from and I chose the cheesy creative one :D This sugar fairy is really a sugar fairy! The cake was so soft, spongy and creamy. The fondant was light unlike heavy in most of the bakeries. My friend totally loved it and I am so happy I ordered here. I'm going to be a regular customer for sure!! Great going sugar fairy! Cheers:):)\\\"), ('Rated 5.0', 'RATED\\\\n  The cakes are delightful. I personally love death by chocolate and red velvet cake. The cake pops and cupcakes are equally good. Definitely worth the money. The owner is vv enthusiastic and nice.\\\\nThis is the best place for ordering customised cakes.'), ('Rated 5.0', 'RATED\\\\n  Amazing presentation and taste especially for an early morning delivery. Had ordered a bachelorette cake and did not regret it at all. Way to go. Very happy customer ?'), ('Rated 5.0', 'RATED\\\\n  Had Nutella filled cupcakes from the Sugar Fairy and they were amaazing! I gobbled them down within minutes (no regrets). Very customer friendly and stuck to the promised time as well. I\\u00c3\\u0083\\\\x83\\u00c3\\u0082\\\\x83\\u00c3\\u0083\\\\x82\\u00c3\\u0082\\\\x82\\u00c3\\u0083\\\\x83\\u00c3\\u0082\\\\x82\\u00c3\\u0083\\\\x82\\u00c3\\u0082\\\\x92d whole heartedly recommend this place to anyone who wants to have an awesome sugar ride ?'), ('Rated 5.0', \\\"RATED\\\\n  I had ordered a cake here for my friend's Bachelorette in April. There were so many options to choose from and I chose the cheesy creative one :D This sugar fairy is really a sugar fairy! The cake was so soft, spongy and creamy. The fondant was light unlike heavy in most of the bakeries. My friend totally loved it and I am so happy I ordered here. I'm going to be a regular customer for sure!! Great going sugar fairy! Cheers:):)\\\"), ('Rated 5.0', 'RATED\\\\n  The cakes are delightful. I personally love death by chocolate and red velvet cake. The cake pops and cupcakes are equally good. Definitely worth the money. The owner is vv enthusiastic and nice.\\\\nThis is the best place for ordering customised cakes.'), ('Rated 5.0', 'RATED\\\\n  Amazing presentation and taste especially for an early morning delivery. Had ordered a bachelorette cake and did not regret it at all. Way to go. Very happy customer ?'), ('Rated 5.0', 'RATED\\\\n  Had Nutella filled cupcakes from the Sugar Fairy and they were amaazing! I gobbled them down within minutes (no regrets). Very customer friendly and stuck to the promised time as well. I\\u00c3\\u0083\\\\x83\\u00c3\\u0082\\\\x83\\u00c3\\u0083\\\\x82\\u00c3\\u0082\\\\x82\\u00c3\\u0083\\\\x83\\u00c3\\u0082\\\\x82\\u00c3\\u0083\\\\x82\\u00c3\\u0082\\\\x92d whole heartedly recommend this place to anyone who wants to have an awesome sugar ride ?'), ('Rated 5.0', \\\"RATED\\\\n  I had ordered a cake here for my friend's Bachelorette in April. There were so many options to choose from and I chose the cheesy creative one :D This sugar fairy is really a sugar fairy! The cake was so soft, spongy and creamy. The fondant was light unlike heavy in most of the bakeries. My friend totally loved it and I am so happy I ordered here. I'm going to be a regular customer for sure!! Great going sugar fairy! Cheers:):)\\\"), ('Rated 5.0', 'RATED\\\\n  The cakes are delightful. I personally love death by chocolate and red velvet cake. The cake pops and cupcakes are equally good. Definitely worth the money. The owner is vv enthusiastic and nice.\\\\nThis is the best place for ordering customised cakes.'), ('Rated 5.0', 'RATED\\\\n  Amazing presentation and taste especially for an early morning delivery. Had ordered a bachelorette cake and did not regret it at all. Way to go. Very happy customer ?'), ('Rated 5.0', 'RATED\\\\n  Had Nutella filled cupcakes from the Sugar Fairy and they were amaazing! I gobbled them down within minutes (no regrets). Very customer friendly and stuck to the promised time as well. I\\u00c3\\u0083\\\\x83\\u00c3\\u0082\\\\x83\\u00c3\\u0083\\\\x82\\u00c3\\u0082\\\\x82\\u00c3\\u0083\\\\x83\\u00c3\\u0082\\\\x82\\u00c3\\u0083\\\\x82\\u00c3\\u0082\\\\x92d whole heartedly recommend this place to anyone who wants to have an awesome sugar ride ?'), ('Rated 5.0', \\\"RATED\\\\n  I had ordered a cake here for my friend's Bachelorette in April. There were so many options to choose from and I chose the cheesy creative one :D This sugar fairy is really a sugar fairy! The cake was so soft, spongy and creamy. The fondant was light unlike heavy in most of the bakeries. My friend totally loved it and I am so happy I ordered here. I'm going to be a regular customer for sure!! Great going sugar fairy! Cheers:):)\\\"), ('Rated 5.0', 'RATED\\\\n  The cakes are delightful. I personally love death by chocolate and red velvet cake. The cake pops and cupcakes are equally good. Definitely worth the money. The owner is vv enthusiastic and nice.\\\\nThis is the best place for ordering customised cakes.'), ('Rated 5.0', 'RATED\\\\n  Amazing presentation and taste especially for an early morning delivery. Had ordered a bachelorette cake and did not regret it at all. Way to go. Very happy customer ?'), ('Rated 5.0', 'RATED\\\\n  Had Nutella filled cupcakes from the Sugar Fairy and they were amaazing! I gobbled them down within minutes (no regrets). Very customer friendly and stuck to the promised time as well. I\\u00c3\\u0083\\\\x83\\u00c3\\u0082\\\\x83\\u00c3\\u0083\\\\x82\\u00c3\\u0082\\\\x82\\u00c3\\u0083\\\\x83\\u00c3\\u0082\\\\x82\\u00c3\\u0083\\\\x82\\u00c3\\u0082\\\\x92d whole heartedly recommend this place to anyone who wants to have an awesome sugar ride ?'), ('Rated 5.0', \\\"RATED\\\\n  I had ordered a cake here for my friend's Bachelorette in April. There were so many options to choose from and I chose the cheesy creative one :D This sugar fairy is really a sugar fairy! The cake was so soft, spongy and creamy. The fondant was light unlike heavy in most of the bakeries. My friend totally loved it and I am so happy I ordered here. I'm going to be a regular customer for sure!! Great going sugar fairy! Cheers:):)\\\"), ('Rated 5.0', 'RATED\\\\n  The cakes are delightful. I personally love death by chocolate and red velvet cake. The cake pops and cupcakes are equally good. Definitely worth the money. The owner is vv enthusiastic and nice.\\\\nThis is the best place for ordering customised cakes.'), ('Rated 5.0', 'RATED\\\\n  Amazing presentation and taste especially for an early morning delivery. Had ordered a bachelorette cake and did not regret it at all. Way to go. Very happy customer ?'), ('Rated 5.0', 'RATED\\\\n  Had Nutella filled cupcakes from the Sugar Fairy and they were amaazing! I gobbled them down within minutes (no regrets). Very customer friendly and stuck to the promised time as well. I\\u00c3\\u0083\\\\x83\\u00c3\\u0082\\\\x83\\u00c3\\u0083\\\\x82\\u00c3\\u0082\\\\x82\\u00c3\\u0083\\\\x83\\u00c3\\u0082\\\\x82\\u00c3\\u0083\\\\x82\\u00c3\\u0082\\\\x92d whole heartedly recommend this place to anyone who wants to have an awesome sugar ride ?'), ('Rated 5.0', \\\"RATED\\\\n  I had ordered a cake here for my friend's Bachelorette in April. There were so many options to choose from and I chose the cheesy creative one :D This sugar fairy is really a sugar fairy! The cake was so soft, spongy and creamy. The fondant was light unlike heavy in most of the bakeries. My friend totally loved it and I am so happy I ordered here. I'm going to be a regular customer for sure!! Great going sugar fairy! Cheers:):)\\\"), ('Rated 5.0', 'RATED\\\\n  The cakes are delightful. I personally love death by chocolate and red velvet cake. The cake pops and cupcakes are equally good. Definitely worth the money. The owner is vv enthusiastic and nice.\\\\nThis is the best place for ordering customised cakes.'), ('Rated 5.0', 'RATED\\\\n  Amazing presentation and taste especially for an early morning delivery. Had ordered a bachelorette cake and did not regret it at all. Way to go. Very happy customer ?'), ('Rated 5.0', 'RATED\\\\n  Had Nutella filled cupcakes from the Sugar Fairy and they were amaazing! I gobbled them down within minutes (no regrets). Very customer friendly and stuck to the promised time as well. I\\u00c3\\u0083\\\\x83\\u00c3\\u0082\\\\x83\\u00c3\\u0083\\\\x82\\u00c3\\u0082\\\\x82\\u00c3\\u0083\\\\x83\\u00c3\\u0082\\\\x82\\u00c3\\u0083\\\\x82\\u00c3\\u0082\\\\x92d whole heartedly recommend this place to anyone who wants to have an awesome sugar ride ?'), ('Rated 5.0', \\\"RATED\\\\n  I had ordered a cake here for my friend's Bachelorette in April. There were so many options to choose from and I chose the cheesy creative one :D This sugar fairy is really a sugar fairy! The cake was so soft, spongy and creamy. The fondant was light unlike heavy in most of the bakeries. My friend totally loved it and I am so happy I ordered here. I'm going to be a regular customer for sure!! Great going sugar fairy! Cheers:):)\\\"), ('Rated 5.0', 'RATED\\\\n  The cakes are delightful. I personally love death by chocolate and red velvet cake. The cake pops and cupcakes are equally good. Definitely worth the money. The owner is vv enthusiastic and nice.\\\\nThis is the best place for ordering customised cakes.'), ('Rated 5.0', 'RATED\\\\n  Amazing presentation and taste especially for an early morning delivery. Had ordered a bachelorette cake and did not regret it at all. Way to go. Very happy customer ?'), ('Rated 5.0', 'RATED\\\\n  Had Nutella filled cupcakes from the Sugar Fairy and they were amaazing! I gobbled them down within minutes (no regrets). Very customer friendly and stuck to the promised time as well. I\\u00c3\\u0083\\\\x83\\u00c3\\u0082\\\\x83\\u00c3\\u0083\\\\x82\\u00c3\\u0082\\\\x82\\u00c3\\u0083\\\\x83\\u00c3\\u0082\\\\x82\\u00c3\\u0083\\\\x82\\u00c3\\u0082\\\\x92d whole heartedly recommend this place to anyone who wants to have an awesome sugar ride ?'), ('Rated 5.0', \\\"RATED\\\\n  I had ordered a cake here for my friend's Bachelorette in April. There were so many options to choose from and I chose the cheesy creative one :D This sugar fairy is really a sugar fairy! The cake was so soft, spongy and creamy. The fondant was light unlike heavy in most of the bakeries. My friend totally loved it and I am so happy I ordered here. I'm going to be a regular customer for sure!! Great going sugar fairy! Cheers:):)\\\"), ('Rated 5.0', 'RATED\\\\n  The cakes are delightful. I personally love death by chocolate and red velvet cake. The cake pops and cupcakes are equally good. Definitely worth the money. The owner is vv enthusiastic and nice.\\\\nThis is the best place for ordering customised cakes.'), ('Rated 5.0', 'RATED\\\\n  Amazing presentation and taste especially for an early morning delivery. Had ordered a bachelorette cake and did not regret it at all. Way to go. Very happy customer ?'), ('Rated 5.0', 'RATED\\\\n  Had Nutella filled cupcakes from the Sugar Fairy and they were amaazing! I gobbled them down within minutes (no regrets). Very customer friendly and stuck to the promised time as well. I\\u00c3\\u0083\\\\x83\\u00c3\\u0082\\\\x83\\u00c3\\u0083\\\\x82\\u00c3\\u0082\\\\x82\\u00c3\\u0083\\\\x83\\u00c3\\u0082\\\\x82\\u00c3\\u0083\\\\x82\\u00c3\\u0082\\\\x92d whole heartedly recommend this place to anyone who wants to have an awesome sugar ride ?'), ('Rated 5.0', \\\"RATED\\\\n  I had ordered a cake here for my friend's Bachelorette in April. There were so many options to choose from and I chose the cheesy creative one :D This sugar fairy is really a sugar fairy! The cake was so soft, spongy and creamy. The fondant was light unlike heavy in most of the bakeries. My friend totally loved it and I am so happy I ordered here. I'm going to be a regular customer for sure!! Great going sugar fairy! Cheers:):)\\\"), ('Rated 5.0', 'RATED\\\\n  The cakes are delightful. I personally love death by chocolate and red velvet cake. The cake pops and cupcakes are equally good. Definitely worth the money. The owner is vv enthusiastic and nice.\\\\nThis is the best place for ordering customised cakes.'), ('Rated 5.0', 'RATED\\\\n  Amazing presentation and taste especially for an early morning delivery. Had ordered a bachelorette cake and did not regret it at all. Way to go. Very happy customer ?'), ('Rated 5.0', 'RATED\\\\n  Had Nutella filled cupcakes from the Sugar Fairy and they were amaazing! I gobbled them down within minutes (no regrets). Very customer friendly and stuck to the promised time as well. I\\u00c3\\u0083\\\\x83\\u00c3\\u0082\\\\x83\\u00c3\\u0083\\\\x82\\u00c3\\u0082\\\\x82\\u00c3\\u0083\\\\x83\\u00c3\\u0082\\\\x82\\u00c3\\u0083\\\\x82\\u00c3\\u0082\\\\x92d whole heartedly recommend this place to anyone who wants to have an awesome sugar ride ?'), ('Rated 5.0', \\\"RATED\\\\n  I had ordered a cake here for my friend's Bachelorette in April. There were so many options to choose from and I chose the cheesy creative one :D This sugar fairy is really a sugar fairy! The cake was so soft, spongy and creamy. The fondant was light unlike heavy in most of the bakeries. My friend totally loved it and I am so happy I ordered here. I'm going to be a regular customer for sure!! Great going sugar fairy! Cheers:):)\\\"), ('Rated 5.0', 'RATED\\\\n  The cakes are delightful. I personally love death by chocolate and red velvet cake. The cake pops and cupcakes are equally good. Definitely worth the money. The owner is vv enthusiastic and nice.\\\\nThis is the best place for ordering customised cakes.'), ('Rated 5.0', 'RATED\\\\n  Amazing presentation and taste especially for an early morning delivery. Had ordered a bachelorette cake and did not regret it at all. Way to go. Very happy customer ?'), ('Rated 5.0', 'RATED\\\\n  Had Nutella filled cupcakes from the Sugar Fairy and they were amaazing! I gobbled them down within minutes (no regrets). Very customer friendly and stuck to the promised time as well. I\\u00c3\\u0083\\\\x83\\u00c3\\u0082\\\\x83\\u00c3\\u0083\\\\x82\\u00c3\\u0082\\\\x82\\u00c3\\u0083\\\\x83\\u00c3\\u0082\\\\x82\\u00c3\\u0083\\\\x82\\u00c3\\u0082\\\\x92d whole heartedly recommend this place to anyone who wants to have an awesome sugar ride ?'), ('Rated 5.0', \\\"RATED\\\\n  I had ordered a cake here for my friend's Bachelorette in April. There were so many options to choose from and I chose the cheesy creative one :D This sugar fairy is really a sugar fairy! The cake was so soft, spongy and creamy. The fondant was light unlike heavy in most of the bakeries. My friend totally loved it and I am so happy I ordered here. I'm going to be a regular customer for sure!! Great going sugar fairy! Cheers:):)\\\"), ('Rated 5.0', 'RATED\\\\n  The cakes are delightful. I personally love death by chocolate and red velvet cake. The cake pops and cupcakes are equally good. Definitely worth the money. The owner is vv enthusiastic and nice.\\\\nThis is the best place for ordering customised cakes.'), ('Rated 5.0', 'RATED\\\\n  Amazing presentation and taste especially for an early morning delivery. Had ordered a bachelorette cake and did not regret it at all. Way to go. Very happy customer ?'), ('Rated 5.0', 'RATED\\\\n  Had Nutella filled cupcakes from the Sugar Fairy and they were amaazing! I gobbled them down within minutes (no regrets). Very customer friendly and stuck to the promised time as well. I\\u00c3\\u0083\\\\x83\\u00c3\\u0082\\\\x83\\u00c3\\u0083\\\\x82\\u00c3\\u0082\\\\x82\\u00c3\\u0083\\\\x83\\u00c3\\u0082\\\\x82\\u00c3\\u0083\\\\x82\\u00c3\\u0082\\\\x92d whole heartedly recommend this place to anyone who wants to have an awesome sugar ride ?'), ('Rated 5.0', \\\"RATED\\\\n  I had ordered a cake here for my friend's Bachelorette in April. There were so many options to choose from and I chose the cheesy creative one :D This sugar fairy is really a sugar fairy! The cake was so soft, spongy and creamy. The fondant was light unlike heavy in most of the bakeries. My friend totally loved it and I am so happy I ordered here. I'm going to be a regular customer for sure!! Great going sugar fairy! Cheers:):)\\\"), ('Rated 5.0', 'RATED\\\\n  The cakes are delightful. I personally love death by chocolate and red velvet cake. The cake pops and cupcakes are equally good. Definitely worth the money. The owner is vv enthusiastic and nice.\\\\nThis is the best place for ordering customised cakes.'), ('Rated 5.0', 'RATED\\\\n  Amazing presentation and taste especially for an early morning delivery. Had ordered a bachelorette cake and did not regret it at all. Way to go. Very happy customer ?'), ('Rated 5.0', 'RATED\\\\n  Had Nutella filled cupcakes from the Sugar Fairy and they were amaazing! I gobbled them down within minutes (no regrets). Very customer friendly and stuck to the promised time as well. I\\u00c3\\u0083\\\\x83\\u00c3\\u0082\\\\x83\\u00c3\\u0083\\\\x82\\u00c3\\u0082\\\\x82\\u00c3\\u0083\\\\x83\\u00c3\\u0082\\\\x82\\u00c3\\u0083\\\\x82\\u00c3\\u0082\\\\x92d whole heartedly recommend this place to anyone who wants to have an awesome sugar ride ?'), ('Rated 5.0', \\\"RATED\\\\n  I had ordered a cake here for my friend's Bachelorette in April. There were so many options to choose from and I chose the cheesy creative one :D This sugar fairy is really a sugar fairy! The cake was so soft, spongy and creamy. The fondant was light unlike heavy in most of the bakeries. My friend totally loved it and I am so happy I ordered here. I'm going to be a regular customer for sure!! Great going sugar fairy! Cheers:):)\\\"), ('Rated 5.0', 'RATED\\\\n  The cakes are delightful. I personally love death by chocolate and red velvet cake. The cake pops and cupcakes are equally good. Definitely worth the money. The owner is vv enthusiastic and nice.\\\\nThis is the best place for ordering customised cakes.'), ('Rated 5.0', 'RATED\\\\n  Amazing presentation and taste especially for an early morning delivery. Had ordered a bachelorette cake and did not regret it at all. Way to go. Very happy customer ?'), ('Rated 5.0', 'RATED\\\\n  Had Nutella filled cupcakes from the Sugar Fairy and they were amaazing! I gobbled them down within minutes (no regrets). Very customer friendly and stuck to the promised time as well. I\\u00c3\\u0083\\\\x83\\u00c3\\u0082\\\\x83\\u00c3\\u0083\\\\x82\\u00c3\\u0082\\\\x82\\u00c3\\u0083\\\\x83\\u00c3\\u0082\\\\x82\\u00c3\\u0083\\\\x82\\u00c3\\u0082\\\\x92d whole heartedly recommend this place to anyone who wants to have an awesome sugar ride ?'), ('Rated 5.0', \\\"RATED\\\\n  I had ordered a cake here for my friend's Bachelorette in April. There were so many options to choose from and I chose the cheesy creative one :D This sugar fairy is really a sugar fairy! The cake was so soft, spongy and creamy. The fondant was light unlike heavy in most of the bakeries. My friend totally loved it and I am so happy I ordered here. I'm going to be a regular customer for sure!! Great going sugar fairy! Cheers:):)\\\"), ('Rated 5.0', 'RATED\\\\n  The cakes are delightful. I personally love death by chocolate and red velvet cake. The cake pops and cupcakes are equally good. Definitely worth the money. The owner is vv enthusiastic and nice.\\\\nThis is the best place for ordering customised cakes.'), ('Rated 5.0', 'RATED\\\\n  Amazing presentation and taste especially for an early morning delivery. Had ordered a bachelorette cake and did not regret it at all. Way to go. Very happy customer ?'), ('Rated 5.0', 'RATED\\\\n  Had Nutella filled cupcakes from the Sugar Fairy and they were amaazing! I gobbled them down within minutes (no regrets). Very customer friendly and stuck to the promised time as well. I\\u00c3\\u0083\\\\x83\\u00c3\\u0082\\\\x83\\u00c3\\u0083\\\\x82\\u00c3\\u0082\\\\x82\\u00c3\\u0083\\\\x83\\u00c3\\u0082\\\\x82\\u00c3\\u0083\\\\x82\\u00c3\\u0082\\\\x92d whole heartedly recommend this place to anyone who wants to have an awesome sugar ride ?'), ('Rated 5.0', \\\"RATED\\\\n  I had ordered a cake here for my friend's Bachelorette in April. There were so many options to choose from and I chose the cheesy creative one :D This sugar fairy is really a sugar fairy! The cake was so soft, spongy and creamy. The fondant was light unlike heavy in most of the bakeries. My friend totally loved it and I am so happy I ordered here. I'm going to be a regular customer for sure!! Great going sugar fairy! Cheers:):)\\\"), ('Rated 5.0', 'RATED\\\\n  The cakes are delightful. I personally love death by chocolate and red velvet cake. The cake pops and cupcakes are equally good. Definitely worth the money. The owner is vv enthusiastic and nice.\\\\nThis is the best place for ordering customised cakes.'), ('Rated 5.0', 'RATED\\\\n  Amazing presentation and taste especially for an early morning delivery. Had ordered a bachelorette cake and did not regret it at all. Way to go. Very happy customer ?'), ('Rated 5.0', 'RATED\\\\n  Had Nutella filled cupcakes from the Sugar Fairy and they were amaazing! I gobbled them down within minutes (no regrets). Very customer friendly and stuck to the promised time as well. I\\u00c3\\u0083\\\\x83\\u00c3\\u0082\\\\x83\\u00c3\\u0083\\\\x82\\u00c3\\u0082\\\\x82\\u00c3\\u0083\\\\x83\\u00c3\\u0082\\\\x82\\u00c3\\u0083\\\\x82\\u00c3\\u0082\\\\x92d whole heartedly recommend this place to anyone who wants to have an awesome sugar ride ?'), ('Rated 5.0', \\\"RATED\\\\n  I had ordered a cake here for my friend's Bachelorette in April. There were so many options to choose from and I chose the cheesy creative one :D This sugar fairy is really a sugar fairy! The cake was so soft, spongy and creamy. The fondant was light unlike heavy in most of the bakeries. My friend totally loved it and I am so happy I ordered here. I'm going to be a regular customer for sure!! Great going sugar fairy! Cheers:):)\\\"), ('Rated 5.0', 'RATED\\\\n  The cakes are delightful. I personally love death by chocolate and red velvet cake. The cake pops and cupcakes are equally good. Definitely worth the money. The owner is vv enthusiastic and nice.\\\\nThis is the best place for ordering customised cakes.'), ('Rated 5.0', 'RATED\\\\n  Amazing presentation and taste especially for an early morning delivery. Had ordered a bachelorette cake and did not regret it at all. Way to go. Very happy customer ?'), ('Rated 5.0', 'RATED\\\\n  Had Nutella filled cupcakes from the Sugar Fairy and they were\"\n        ],\n        \"semantic_type\": \"\",\n        \"description\": \"\"\n      }\n    },\n    {\n      \"column\": \"menu_item\",\n      \"properties\": {\n        \"dtype\": \"number\",\n        \"std\": 1394,\n        \"min\": 0,\n        \"max\": 5047,\n        \"num_unique_values\": 5048,\n        \"samples\": [\n          3445,\n          2851\n        ],\n        \"semantic_type\": \"\",\n        \"description\": \"\"\n      }\n    },\n    {\n      \"column\": \"type\",\n      \"properties\": {\n        \"dtype\": \"category\",\n        \"num_unique_values\": 7,\n        \"samples\": [\n          \"Buffet\",\n          \"Cafes\"\n        ],\n        \"semantic_type\": \"\",\n        \"description\": \"\"\n      }\n    },\n    {\n      \"column\": \"city\",\n      \"properties\": {\n        \"dtype\": \"number\",\n        \"std\": 8,\n        \"min\": 0,\n        \"max\": 29,\n        \"num_unique_values\": 30,\n        \"samples\": [\n          27,\n          15\n        ],\n        \"semantic_type\": \"\",\n        \"description\": \"\"\n      }\n    }\n  ]\n}"
            }
          },
          "metadata": {},
          "execution_count": 46
        }
      ]
    },
    {
      "cell_type": "code",
      "source": [
        "x = df[['online_order','book_table','votes','location','rest_type','cuisines','menu_item']]\n",
        "x.head()"
      ],
      "metadata": {
        "colab": {
          "base_uri": "https://localhost:8080/",
          "height": 206
        },
        "id": "csQchL4-hniJ",
        "outputId": "fe17956e-6f82-4fb0-bb80-9acfa478a59a"
      },
      "execution_count": null,
      "outputs": [
        {
          "output_type": "execute_result",
          "data": {
            "text/plain": [
              "   online_order  book_table  votes  location  rest_type  cuisines  menu_item\n",
              "0             1           1    775         1         20      1386       5047\n",
              "1             1           0    787         1         20       594       5047\n",
              "2             1           0    918         1         16       484       5047\n",
              "3             0           0     88         1         62      1587       5047\n",
              "4             0           0    166         4         20      1406       5047"
            ],
            "text/html": [
              "\n",
              "  <div id=\"df-f0b142db-984a-410d-bcbf-8bfd480c4e9b\" class=\"colab-df-container\">\n",
              "    <div>\n",
              "<style scoped>\n",
              "    .dataframe tbody tr th:only-of-type {\n",
              "        vertical-align: middle;\n",
              "    }\n",
              "\n",
              "    .dataframe tbody tr th {\n",
              "        vertical-align: top;\n",
              "    }\n",
              "\n",
              "    .dataframe thead th {\n",
              "        text-align: right;\n",
              "    }\n",
              "</style>\n",
              "<table border=\"1\" class=\"dataframe\">\n",
              "  <thead>\n",
              "    <tr style=\"text-align: right;\">\n",
              "      <th></th>\n",
              "      <th>online_order</th>\n",
              "      <th>book_table</th>\n",
              "      <th>votes</th>\n",
              "      <th>location</th>\n",
              "      <th>rest_type</th>\n",
              "      <th>cuisines</th>\n",
              "      <th>menu_item</th>\n",
              "    </tr>\n",
              "  </thead>\n",
              "  <tbody>\n",
              "    <tr>\n",
              "      <th>0</th>\n",
              "      <td>1</td>\n",
              "      <td>1</td>\n",
              "      <td>775</td>\n",
              "      <td>1</td>\n",
              "      <td>20</td>\n",
              "      <td>1386</td>\n",
              "      <td>5047</td>\n",
              "    </tr>\n",
              "    <tr>\n",
              "      <th>1</th>\n",
              "      <td>1</td>\n",
              "      <td>0</td>\n",
              "      <td>787</td>\n",
              "      <td>1</td>\n",
              "      <td>20</td>\n",
              "      <td>594</td>\n",
              "      <td>5047</td>\n",
              "    </tr>\n",
              "    <tr>\n",
              "      <th>2</th>\n",
              "      <td>1</td>\n",
              "      <td>0</td>\n",
              "      <td>918</td>\n",
              "      <td>1</td>\n",
              "      <td>16</td>\n",
              "      <td>484</td>\n",
              "      <td>5047</td>\n",
              "    </tr>\n",
              "    <tr>\n",
              "      <th>3</th>\n",
              "      <td>0</td>\n",
              "      <td>0</td>\n",
              "      <td>88</td>\n",
              "      <td>1</td>\n",
              "      <td>62</td>\n",
              "      <td>1587</td>\n",
              "      <td>5047</td>\n",
              "    </tr>\n",
              "    <tr>\n",
              "      <th>4</th>\n",
              "      <td>0</td>\n",
              "      <td>0</td>\n",
              "      <td>166</td>\n",
              "      <td>4</td>\n",
              "      <td>20</td>\n",
              "      <td>1406</td>\n",
              "      <td>5047</td>\n",
              "    </tr>\n",
              "  </tbody>\n",
              "</table>\n",
              "</div>\n",
              "    <div class=\"colab-df-buttons\">\n",
              "\n",
              "  <div class=\"colab-df-container\">\n",
              "    <button class=\"colab-df-convert\" onclick=\"convertToInteractive('df-f0b142db-984a-410d-bcbf-8bfd480c4e9b')\"\n",
              "            title=\"Convert this dataframe to an interactive table.\"\n",
              "            style=\"display:none;\">\n",
              "\n",
              "  <svg xmlns=\"http://www.w3.org/2000/svg\" height=\"24px\" viewBox=\"0 -960 960 960\">\n",
              "    <path d=\"M120-120v-720h720v720H120Zm60-500h600v-160H180v160Zm220 220h160v-160H400v160Zm0 220h160v-160H400v160ZM180-400h160v-160H180v160Zm440 0h160v-160H620v160ZM180-180h160v-160H180v160Zm440 0h160v-160H620v160Z\"/>\n",
              "  </svg>\n",
              "    </button>\n",
              "\n",
              "  <style>\n",
              "    .colab-df-container {\n",
              "      display:flex;\n",
              "      gap: 12px;\n",
              "    }\n",
              "\n",
              "    .colab-df-convert {\n",
              "      background-color: #E8F0FE;\n",
              "      border: none;\n",
              "      border-radius: 50%;\n",
              "      cursor: pointer;\n",
              "      display: none;\n",
              "      fill: #1967D2;\n",
              "      height: 32px;\n",
              "      padding: 0 0 0 0;\n",
              "      width: 32px;\n",
              "    }\n",
              "\n",
              "    .colab-df-convert:hover {\n",
              "      background-color: #E2EBFA;\n",
              "      box-shadow: 0px 1px 2px rgba(60, 64, 67, 0.3), 0px 1px 3px 1px rgba(60, 64, 67, 0.15);\n",
              "      fill: #174EA6;\n",
              "    }\n",
              "\n",
              "    .colab-df-buttons div {\n",
              "      margin-bottom: 4px;\n",
              "    }\n",
              "\n",
              "    [theme=dark] .colab-df-convert {\n",
              "      background-color: #3B4455;\n",
              "      fill: #D2E3FC;\n",
              "    }\n",
              "\n",
              "    [theme=dark] .colab-df-convert:hover {\n",
              "      background-color: #434B5C;\n",
              "      box-shadow: 0px 1px 3px 1px rgba(0, 0, 0, 0.15);\n",
              "      filter: drop-shadow(0px 1px 2px rgba(0, 0, 0, 0.3));\n",
              "      fill: #FFFFFF;\n",
              "    }\n",
              "  </style>\n",
              "\n",
              "    <script>\n",
              "      const buttonEl =\n",
              "        document.querySelector('#df-f0b142db-984a-410d-bcbf-8bfd480c4e9b button.colab-df-convert');\n",
              "      buttonEl.style.display =\n",
              "        google.colab.kernel.accessAllowed ? 'block' : 'none';\n",
              "\n",
              "      async function convertToInteractive(key) {\n",
              "        const element = document.querySelector('#df-f0b142db-984a-410d-bcbf-8bfd480c4e9b');\n",
              "        const dataTable =\n",
              "          await google.colab.kernel.invokeFunction('convertToInteractive',\n",
              "                                                    [key], {});\n",
              "        if (!dataTable) return;\n",
              "\n",
              "        const docLinkHtml = 'Like what you see? Visit the ' +\n",
              "          '<a target=\"_blank\" href=https://colab.research.google.com/notebooks/data_table.ipynb>data table notebook</a>'\n",
              "          + ' to learn more about interactive tables.';\n",
              "        element.innerHTML = '';\n",
              "        dataTable['output_type'] = 'display_data';\n",
              "        await google.colab.output.renderOutput(dataTable, element);\n",
              "        const docLink = document.createElement('div');\n",
              "        docLink.innerHTML = docLinkHtml;\n",
              "        element.appendChild(docLink);\n",
              "      }\n",
              "    </script>\n",
              "  </div>\n",
              "\n",
              "\n",
              "<div id=\"df-e174d66d-8e06-43d4-9d78-fdecc6ee3023\">\n",
              "  <button class=\"colab-df-quickchart\" onclick=\"quickchart('df-e174d66d-8e06-43d4-9d78-fdecc6ee3023')\"\n",
              "            title=\"Suggest charts\"\n",
              "            style=\"display:none;\">\n",
              "\n",
              "<svg xmlns=\"http://www.w3.org/2000/svg\" height=\"24px\"viewBox=\"0 0 24 24\"\n",
              "     width=\"24px\">\n",
              "    <g>\n",
              "        <path d=\"M19 3H5c-1.1 0-2 .9-2 2v14c0 1.1.9 2 2 2h14c1.1 0 2-.9 2-2V5c0-1.1-.9-2-2-2zM9 17H7v-7h2v7zm4 0h-2V7h2v10zm4 0h-2v-4h2v4z\"/>\n",
              "    </g>\n",
              "</svg>\n",
              "  </button>\n",
              "\n",
              "<style>\n",
              "  .colab-df-quickchart {\n",
              "      --bg-color: #E8F0FE;\n",
              "      --fill-color: #1967D2;\n",
              "      --hover-bg-color: #E2EBFA;\n",
              "      --hover-fill-color: #174EA6;\n",
              "      --disabled-fill-color: #AAA;\n",
              "      --disabled-bg-color: #DDD;\n",
              "  }\n",
              "\n",
              "  [theme=dark] .colab-df-quickchart {\n",
              "      --bg-color: #3B4455;\n",
              "      --fill-color: #D2E3FC;\n",
              "      --hover-bg-color: #434B5C;\n",
              "      --hover-fill-color: #FFFFFF;\n",
              "      --disabled-bg-color: #3B4455;\n",
              "      --disabled-fill-color: #666;\n",
              "  }\n",
              "\n",
              "  .colab-df-quickchart {\n",
              "    background-color: var(--bg-color);\n",
              "    border: none;\n",
              "    border-radius: 50%;\n",
              "    cursor: pointer;\n",
              "    display: none;\n",
              "    fill: var(--fill-color);\n",
              "    height: 32px;\n",
              "    padding: 0;\n",
              "    width: 32px;\n",
              "  }\n",
              "\n",
              "  .colab-df-quickchart:hover {\n",
              "    background-color: var(--hover-bg-color);\n",
              "    box-shadow: 0 1px 2px rgba(60, 64, 67, 0.3), 0 1px 3px 1px rgba(60, 64, 67, 0.15);\n",
              "    fill: var(--button-hover-fill-color);\n",
              "  }\n",
              "\n",
              "  .colab-df-quickchart-complete:disabled,\n",
              "  .colab-df-quickchart-complete:disabled:hover {\n",
              "    background-color: var(--disabled-bg-color);\n",
              "    fill: var(--disabled-fill-color);\n",
              "    box-shadow: none;\n",
              "  }\n",
              "\n",
              "  .colab-df-spinner {\n",
              "    border: 2px solid var(--fill-color);\n",
              "    border-color: transparent;\n",
              "    border-bottom-color: var(--fill-color);\n",
              "    animation:\n",
              "      spin 1s steps(1) infinite;\n",
              "  }\n",
              "\n",
              "  @keyframes spin {\n",
              "    0% {\n",
              "      border-color: transparent;\n",
              "      border-bottom-color: var(--fill-color);\n",
              "      border-left-color: var(--fill-color);\n",
              "    }\n",
              "    20% {\n",
              "      border-color: transparent;\n",
              "      border-left-color: var(--fill-color);\n",
              "      border-top-color: var(--fill-color);\n",
              "    }\n",
              "    30% {\n",
              "      border-color: transparent;\n",
              "      border-left-color: var(--fill-color);\n",
              "      border-top-color: var(--fill-color);\n",
              "      border-right-color: var(--fill-color);\n",
              "    }\n",
              "    40% {\n",
              "      border-color: transparent;\n",
              "      border-right-color: var(--fill-color);\n",
              "      border-top-color: var(--fill-color);\n",
              "    }\n",
              "    60% {\n",
              "      border-color: transparent;\n",
              "      border-right-color: var(--fill-color);\n",
              "    }\n",
              "    80% {\n",
              "      border-color: transparent;\n",
              "      border-right-color: var(--fill-color);\n",
              "      border-bottom-color: var(--fill-color);\n",
              "    }\n",
              "    90% {\n",
              "      border-color: transparent;\n",
              "      border-bottom-color: var(--fill-color);\n",
              "    }\n",
              "  }\n",
              "</style>\n",
              "\n",
              "  <script>\n",
              "    async function quickchart(key) {\n",
              "      const quickchartButtonEl =\n",
              "        document.querySelector('#' + key + ' button');\n",
              "      quickchartButtonEl.disabled = true;  // To prevent multiple clicks.\n",
              "      quickchartButtonEl.classList.add('colab-df-spinner');\n",
              "      try {\n",
              "        const charts = await google.colab.kernel.invokeFunction(\n",
              "            'suggestCharts', [key], {});\n",
              "      } catch (error) {\n",
              "        console.error('Error during call to suggestCharts:', error);\n",
              "      }\n",
              "      quickchartButtonEl.classList.remove('colab-df-spinner');\n",
              "      quickchartButtonEl.classList.add('colab-df-quickchart-complete');\n",
              "    }\n",
              "    (() => {\n",
              "      let quickchartButtonEl =\n",
              "        document.querySelector('#df-e174d66d-8e06-43d4-9d78-fdecc6ee3023 button');\n",
              "      quickchartButtonEl.style.display =\n",
              "        google.colab.kernel.accessAllowed ? 'block' : 'none';\n",
              "    })();\n",
              "  </script>\n",
              "</div>\n",
              "\n",
              "    </div>\n",
              "  </div>\n"
            ],
            "application/vnd.google.colaboratory.intrinsic+json": {
              "type": "dataframe",
              "variable_name": "x",
              "summary": "{\n  \"name\": \"x\",\n  \"rows\": 23248,\n  \"fields\": [\n    {\n      \"column\": \"online_order\",\n      \"properties\": {\n        \"dtype\": \"number\",\n        \"std\": 0,\n        \"min\": 0,\n        \"max\": 1,\n        \"num_unique_values\": 2,\n        \"samples\": [\n          0,\n          1\n        ],\n        \"semantic_type\": \"\",\n        \"description\": \"\"\n      }\n    },\n    {\n      \"column\": \"book_table\",\n      \"properties\": {\n        \"dtype\": \"number\",\n        \"std\": 0,\n        \"min\": 0,\n        \"max\": 1,\n        \"num_unique_values\": 2,\n        \"samples\": [\n          0,\n          1\n        ],\n        \"semantic_type\": \"\",\n        \"description\": \"\"\n      }\n    },\n    {\n      \"column\": \"votes\",\n      \"properties\": {\n        \"dtype\": \"number\",\n        \"std\": 1113,\n        \"min\": 0,\n        \"max\": 16832,\n        \"num_unique_values\": 2303,\n        \"samples\": [\n          598,\n          1391\n        ],\n        \"semantic_type\": \"\",\n        \"description\": \"\"\n      }\n    },\n    {\n      \"column\": \"location\",\n      \"properties\": {\n        \"dtype\": \"number\",\n        \"std\": 23,\n        \"min\": 0,\n        \"max\": 87,\n        \"num_unique_values\": 88,\n        \"samples\": [\n          67,\n          1\n        ],\n        \"semantic_type\": \"\",\n        \"description\": \"\"\n      }\n    },\n    {\n      \"column\": \"rest_type\",\n      \"properties\": {\n        \"dtype\": \"number\",\n        \"std\": 20,\n        \"min\": 0,\n        \"max\": 72,\n        \"num_unique_values\": 73,\n        \"samples\": [\n          13,\n          53\n        ],\n        \"semantic_type\": \"\",\n        \"description\": \"\"\n      }\n    },\n    {\n      \"column\": \"cuisines\",\n      \"properties\": {\n        \"dtype\": \"number\",\n        \"std\": 473,\n        \"min\": 0,\n        \"max\": 1680,\n        \"num_unique_values\": 1681,\n        \"samples\": [\n          867,\n          1445\n        ],\n        \"semantic_type\": \"\",\n        \"description\": \"\"\n      }\n    },\n    {\n      \"column\": \"menu_item\",\n      \"properties\": {\n        \"dtype\": \"number\",\n        \"std\": 1394,\n        \"min\": 0,\n        \"max\": 5047,\n        \"num_unique_values\": 5048,\n        \"samples\": [\n          3445,\n          2851\n        ],\n        \"semantic_type\": \"\",\n        \"description\": \"\"\n      }\n    }\n  ]\n}"
            }
          },
          "metadata": {},
          "execution_count": 59
        }
      ]
    },
    {
      "cell_type": "code",
      "source": [
        "y = df['Target']\n"
      ],
      "metadata": {
        "colab": {
          "base_uri": "https://localhost:8080/"
        },
        "id": "WcifHn9jJshW",
        "outputId": "8eb06e72-4488-468e-c4df-fe50d4ddeacf"
      },
      "execution_count": null,
      "outputs": [
        {
          "output_type": "execute_result",
          "data": {
            "text/plain": [
              "0    800.0\n",
              "1    800.0\n",
              "2    800.0\n",
              "3    300.0\n",
              "4    600.0\n",
              "Name: Target, dtype: float64"
            ]
          },
          "metadata": {},
          "execution_count": 72
        }
      ]
    },
    {
      "cell_type": "code",
      "source": [
        "x_train,x_test,y_train,y_test=train_test_split(x,y,test_size=.3,random_state=42)"
      ],
      "metadata": {
        "id": "AAK6MUjQJskb"
      },
      "execution_count": null,
      "outputs": []
    },
    {
      "cell_type": "markdown",
      "source": [
        "Random forest\n"
      ],
      "metadata": {
        "id": "TYBtrFVhiwZm"
      }
    },
    {
      "cell_type": "code",
      "source": [
        "from sklearn.ensemble import RandomForestRegressor\n",
        "from sklearn.metrics import r2_score\n",
        "RF_Model=RandomForestRegressor(n_estimators=650,random_state=245,min_samples_leaf=.0001)\n",
        "RF_Model.fit(x_train,y_train)\n",
        "y_predict=RF_Model.predict(x_test)\n",
        "r2_score(y_test,y_predict)"
      ],
      "metadata": {
        "colab": {
          "base_uri": "https://localhost:8080/"
        },
        "id": "GtOlLAZgJsnI",
        "outputId": "4699fd8b-cabc-463a-8b8e-f32e7032d710"
      },
      "execution_count": null,
      "outputs": [
        {
          "output_type": "execute_result",
          "data": {
            "text/plain": [
              "0.9605607383474146"
            ]
          },
          "metadata": {},
          "execution_count": 63
        }
      ]
    },
    {
      "cell_type": "markdown",
      "source": [
        "Xgboost"
      ],
      "metadata": {
        "id": "tZk8sBH9kv2K"
      }
    },
    {
      "cell_type": "code",
      "source": [
        "threshold = 0.1\n",
        "xgb_regressor = XGBRegressor()\n",
        "xgb_regressor.fit(x_train, y_train)\n",
        "\n",
        "# Make predictions\n",
        "y_pred = xgb_regressor.predict(x_test)\n",
        "\n",
        "# Evaluate the model\n",
        "mse = mean_squared_error(y_test, y_pred)\n",
        "print(\"Mean Squared Error:\", mse)\n",
        "\n"
      ],
      "metadata": {
        "colab": {
          "base_uri": "https://localhost:8080/"
        },
        "id": "MDKPOeY4i_yS",
        "outputId": "160d4ac6-54a3-4d4e-a2c6-ad6bc2b4001b"
      },
      "execution_count": null,
      "outputs": [
        {
          "output_type": "stream",
          "name": "stdout",
          "text": [
            "Mean Squared Error: 15664.287254241317\n"
          ]
        }
      ]
    },
    {
      "cell_type": "code",
      "source": [],
      "metadata": {
        "id": "BpN5lZIsjAPY"
      },
      "execution_count": null,
      "outputs": []
    }
  ]
}